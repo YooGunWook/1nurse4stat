{
 "cells": [
  {
   "cell_type": "markdown",
   "metadata": {},
   "source": [
    "# 0) Importing Data"
   ]
  },
  {
   "cell_type": "code",
   "execution_count": 1,
   "metadata": {},
   "outputs": [],
   "source": [
    "import pandas as pd\n",
    "import numpy as np\n",
    "from sklearn.model_selection import train_test_split\n",
    "from sklearn.preprocessing import StandardScaler\n",
    "from sklearn.ensemble import RandomForestClassifier\n",
    "from sklearn import metrics\n",
    "from factor_analyzer import FactorAnalyzer\n",
    "import matplotlib.pyplot as plt"
   ]
  },
  {
   "cell_type": "code",
   "execution_count": 86,
   "metadata": {},
   "outputs": [],
   "source": [
    "data = pd.read_csv(\"C:/Users/dhxog/yonsei/dsintro/new_model_pred.csv\")\n",
    "data = pd.DataFrame(data)"
   ]
  },
  {
   "cell_type": "code",
   "execution_count": 88,
   "metadata": {},
   "outputs": [
    {
     "data": {
      "text/html": [
       "<div>\n",
       "<style scoped>\n",
       "    .dataframe tbody tr th:only-of-type {\n",
       "        vertical-align: middle;\n",
       "    }\n",
       "\n",
       "    .dataframe tbody tr th {\n",
       "        vertical-align: top;\n",
       "    }\n",
       "\n",
       "    .dataframe thead th {\n",
       "        text-align: right;\n",
       "    }\n",
       "</style>\n",
       "<table border=\"1\" class=\"dataframe\">\n",
       "  <thead>\n",
       "    <tr style=\"text-align: right;\">\n",
       "      <th></th>\n",
       "      <th>Unnamed: 0</th>\n",
       "      <th>artist</th>\n",
       "      <th>name</th>\n",
       "      <th>genre</th>\n",
       "      <th>season</th>\n",
       "      <th>X1</th>\n",
       "      <th>X1_1</th>\n",
       "      <th>rank_g</th>\n",
       "      <th>year</th>\n",
       "      <th>month</th>\n",
       "      <th>...</th>\n",
       "      <th>ndc_t_numb</th>\n",
       "      <th>ndc_t_rec</th>\n",
       "      <th>ndc_t_view</th>\n",
       "      <th>you_rank</th>\n",
       "      <th>조회수</th>\n",
       "      <th>previous_song_rank_g</th>\n",
       "      <th>you_rank_g</th>\n",
       "      <th>season_genre_score</th>\n",
       "      <th>ymd</th>\n",
       "      <th>previous_ranking</th>\n",
       "    </tr>\n",
       "  </thead>\n",
       "  <tbody>\n",
       "    <tr>\n",
       "      <th>0</th>\n",
       "      <td>0</td>\n",
       "      <td>(여자)아이들</td>\n",
       "      <td>LATATA</td>\n",
       "      <td>댄스</td>\n",
       "      <td>summer</td>\n",
       "      <td>16</td>\n",
       "      <td>15</td>\n",
       "      <td>4</td>\n",
       "      <td>18</td>\n",
       "      <td>8</td>\n",
       "      <td>...</td>\n",
       "      <td>0</td>\n",
       "      <td>0</td>\n",
       "      <td>0</td>\n",
       "      <td>13</td>\n",
       "      <td>8730000</td>\n",
       "      <td>10</td>\n",
       "      <td>2</td>\n",
       "      <td>-0.093812</td>\n",
       "      <td>2018-08-12</td>\n",
       "      <td>4.0</td>\n",
       "    </tr>\n",
       "    <tr>\n",
       "      <th>1</th>\n",
       "      <td>1</td>\n",
       "      <td>(여자)아이들</td>\n",
       "      <td>LATATA</td>\n",
       "      <td>댄스</td>\n",
       "      <td>summer</td>\n",
       "      <td>5</td>\n",
       "      <td>4</td>\n",
       "      <td>2</td>\n",
       "      <td>18</td>\n",
       "      <td>6</td>\n",
       "      <td>...</td>\n",
       "      <td>0</td>\n",
       "      <td>0</td>\n",
       "      <td>0</td>\n",
       "      <td>100</td>\n",
       "      <td>0</td>\n",
       "      <td>10</td>\n",
       "      <td>10</td>\n",
       "      <td>-0.093812</td>\n",
       "      <td>2018-06-03</td>\n",
       "      <td>2.0</td>\n",
       "    </tr>\n",
       "    <tr>\n",
       "      <th>2</th>\n",
       "      <td>2</td>\n",
       "      <td>(여자)아이들</td>\n",
       "      <td>LATATA</td>\n",
       "      <td>댄스</td>\n",
       "      <td>winter</td>\n",
       "      <td>22</td>\n",
       "      <td>21</td>\n",
       "      <td>10</td>\n",
       "      <td>18</td>\n",
       "      <td>12</td>\n",
       "      <td>...</td>\n",
       "      <td>0</td>\n",
       "      <td>0</td>\n",
       "      <td>0</td>\n",
       "      <td>100</td>\n",
       "      <td>0</td>\n",
       "      <td>10</td>\n",
       "      <td>10</td>\n",
       "      <td>0.111253</td>\n",
       "      <td>2018-12-30</td>\n",
       "      <td>10.0</td>\n",
       "    </tr>\n",
       "    <tr>\n",
       "      <th>3</th>\n",
       "      <td>3</td>\n",
       "      <td>(여자)아이들</td>\n",
       "      <td>LATATA</td>\n",
       "      <td>댄스</td>\n",
       "      <td>summer</td>\n",
       "      <td>9</td>\n",
       "      <td>8</td>\n",
       "      <td>2</td>\n",
       "      <td>18</td>\n",
       "      <td>7</td>\n",
       "      <td>...</td>\n",
       "      <td>0</td>\n",
       "      <td>0</td>\n",
       "      <td>0</td>\n",
       "      <td>100</td>\n",
       "      <td>0</td>\n",
       "      <td>10</td>\n",
       "      <td>10</td>\n",
       "      <td>-0.093812</td>\n",
       "      <td>2018-07-01</td>\n",
       "      <td>2.0</td>\n",
       "    </tr>\n",
       "    <tr>\n",
       "      <th>4</th>\n",
       "      <td>4</td>\n",
       "      <td>(여자)아이들</td>\n",
       "      <td>LATATA</td>\n",
       "      <td>댄스</td>\n",
       "      <td>fall</td>\n",
       "      <td>17</td>\n",
       "      <td>16</td>\n",
       "      <td>8</td>\n",
       "      <td>18</td>\n",
       "      <td>9</td>\n",
       "      <td>...</td>\n",
       "      <td>0</td>\n",
       "      <td>0</td>\n",
       "      <td>0</td>\n",
       "      <td>34</td>\n",
       "      <td>4390000</td>\n",
       "      <td>10</td>\n",
       "      <td>4</td>\n",
       "      <td>-0.020121</td>\n",
       "      <td>2018-09-30</td>\n",
       "      <td>7.0</td>\n",
       "    </tr>\n",
       "  </tbody>\n",
       "</table>\n",
       "<p>5 rows × 28 columns</p>\n",
       "</div>"
      ],
      "text/plain": [
       "   Unnamed: 0   artist    name genre  season  X1  X1_1  rank_g  year  month  \\\n",
       "0           0  (여자)아이들  LATATA    댄스  summer  16    15       4    18      8   \n",
       "1           1  (여자)아이들  LATATA    댄스  summer   5     4       2    18      6   \n",
       "2           2  (여자)아이들  LATATA    댄스  winter  22    21      10    18     12   \n",
       "3           3  (여자)아이들  LATATA    댄스  summer   9     8       2    18      7   \n",
       "4           4  (여자)아이들  LATATA    댄스    fall  17    16       8    18      9   \n",
       "\n",
       "   ...  ndc_t_numb ndc_t_rec ndc_t_view  you_rank      조회수  \\\n",
       "0  ...           0         0          0        13  8730000   \n",
       "1  ...           0         0          0       100        0   \n",
       "2  ...           0         0          0       100        0   \n",
       "3  ...           0         0          0       100        0   \n",
       "4  ...           0         0          0        34  4390000   \n",
       "\n",
       "   previous_song_rank_g  you_rank_g  season_genre_score         ymd  \\\n",
       "0                    10           2           -0.093812  2018-08-12   \n",
       "1                    10          10           -0.093812  2018-06-03   \n",
       "2                    10          10            0.111253  2018-12-30   \n",
       "3                    10          10           -0.093812  2018-07-01   \n",
       "4                    10           4           -0.020121  2018-09-30   \n",
       "\n",
       "   previous_ranking  \n",
       "0               4.0  \n",
       "1               2.0  \n",
       "2              10.0  \n",
       "3               2.0  \n",
       "4               7.0  \n",
       "\n",
       "[5 rows x 28 columns]"
      ]
     },
     "execution_count": 88,
     "metadata": {},
     "output_type": "execute_result"
    }
   ],
   "source": [
    "data.head()"
   ]
  },
  {
   "cell_type": "code",
   "execution_count": 7,
   "metadata": {},
   "outputs": [
    {
     "name": "stdout",
     "output_type": "stream",
     "text": [
      "Unnamed: 0\n",
      "artist\n",
      "name\n",
      "genre\n",
      "season\n",
      "X1\n",
      "X1_1\n",
      "rank_g\n",
      "year\n",
      "month\n",
      "day\n",
      "sex\n",
      "song_type\n",
      "runtime\n",
      "active_type\n",
      "top_freq\n",
      "gg_score\n",
      "nv_score\n",
      "ndc_t_numb\n",
      "ndc_t_rec\n",
      "ndc_t_view\n",
      "you_rank\n",
      "조회수\n",
      "previous_song_rank_g\n",
      "you_rank_g\n",
      "season_genre_score\n",
      "ymd\n",
      "previous_ranking\n"
     ]
    }
   ],
   "source": [
    "for col in data.columns:\n",
    "    print(col)"
   ]
  },
  {
   "cell_type": "code",
   "execution_count": 12,
   "metadata": {},
   "outputs": [],
   "source": [
    "data = data.drop([\"Unnamed: 0\",\"X1\", \"X1_1\", \"year\", \"month\", \"day\", \"previous_song_rank_g\", \"ymd\"], axis=1)"
   ]
  },
  {
   "cell_type": "code",
   "execution_count": 22,
   "metadata": {},
   "outputs": [
    {
     "data": {
      "text/html": [
       "<div>\n",
       "<style scoped>\n",
       "    .dataframe tbody tr th:only-of-type {\n",
       "        vertical-align: middle;\n",
       "    }\n",
       "\n",
       "    .dataframe tbody tr th {\n",
       "        vertical-align: top;\n",
       "    }\n",
       "\n",
       "    .dataframe thead th {\n",
       "        text-align: right;\n",
       "    }\n",
       "</style>\n",
       "<table border=\"1\" class=\"dataframe\">\n",
       "  <thead>\n",
       "    <tr style=\"text-align: right;\">\n",
       "      <th></th>\n",
       "      <th>rank_g</th>\n",
       "      <th>runtime</th>\n",
       "      <th>top_freq</th>\n",
       "      <th>gg_score</th>\n",
       "      <th>nv_score</th>\n",
       "      <th>ndc_t_numb</th>\n",
       "      <th>ndc_t_rec</th>\n",
       "      <th>ndc_t_view</th>\n",
       "      <th>you_rank</th>\n",
       "      <th>조회수</th>\n",
       "      <th>season_genre_score</th>\n",
       "      <th>previous_ranking</th>\n",
       "    </tr>\n",
       "  </thead>\n",
       "  <tbody>\n",
       "    <tr>\n",
       "      <th>count</th>\n",
       "      <td>17363.000000</td>\n",
       "      <td>17363.000000</td>\n",
       "      <td>17363.000000</td>\n",
       "      <td>17363.000000</td>\n",
       "      <td>17363.000000</td>\n",
       "      <td>17363.000000</td>\n",
       "      <td>17363.000000</td>\n",
       "      <td>1.736300e+04</td>\n",
       "      <td>17363.000000</td>\n",
       "      <td>1.736300e+04</td>\n",
       "      <td>1.736300e+04</td>\n",
       "      <td>17363.000000</td>\n",
       "    </tr>\n",
       "    <tr>\n",
       "      <th>mean</th>\n",
       "      <td>7.284571</td>\n",
       "      <td>224.340379</td>\n",
       "      <td>38.906410</td>\n",
       "      <td>35.679082</td>\n",
       "      <td>18.938772</td>\n",
       "      <td>1763.210966</td>\n",
       "      <td>2655.295398</td>\n",
       "      <td>1.807114e+05</td>\n",
       "      <td>85.580372</td>\n",
       "      <td>1.340415e+06</td>\n",
       "      <td>-6.947726e-17</td>\n",
       "      <td>7.323562</td>\n",
       "    </tr>\n",
       "    <tr>\n",
       "      <th>std</th>\n",
       "      <td>3.134700</td>\n",
       "      <td>33.035363</td>\n",
       "      <td>27.893712</td>\n",
       "      <td>23.584427</td>\n",
       "      <td>22.993969</td>\n",
       "      <td>6366.676841</td>\n",
       "      <td>11023.838634</td>\n",
       "      <td>6.487523e+05</td>\n",
       "      <td>28.966289</td>\n",
       "      <td>3.936059e+06</td>\n",
       "      <td>6.036792e-02</td>\n",
       "      <td>3.137485</td>\n",
       "    </tr>\n",
       "    <tr>\n",
       "      <th>min</th>\n",
       "      <td>1.000000</td>\n",
       "      <td>26.000000</td>\n",
       "      <td>1.000000</td>\n",
       "      <td>0.000000</td>\n",
       "      <td>0.000000</td>\n",
       "      <td>0.000000</td>\n",
       "      <td>0.000000</td>\n",
       "      <td>0.000000e+00</td>\n",
       "      <td>1.000000</td>\n",
       "      <td>0.000000e+00</td>\n",
       "      <td>-3.614124e-01</td>\n",
       "      <td>1.000000</td>\n",
       "    </tr>\n",
       "    <tr>\n",
       "      <th>25%</th>\n",
       "      <td>5.000000</td>\n",
       "      <td>201.000000</td>\n",
       "      <td>14.000000</td>\n",
       "      <td>18.000000</td>\n",
       "      <td>2.800000</td>\n",
       "      <td>0.000000</td>\n",
       "      <td>0.000000</td>\n",
       "      <td>0.000000e+00</td>\n",
       "      <td>100.000000</td>\n",
       "      <td>0.000000e+00</td>\n",
       "      <td>-3.748262e-02</td>\n",
       "      <td>5.000000</td>\n",
       "    </tr>\n",
       "    <tr>\n",
       "      <th>50%</th>\n",
       "      <td>9.000000</td>\n",
       "      <td>221.000000</td>\n",
       "      <td>35.000000</td>\n",
       "      <td>32.500000</td>\n",
       "      <td>9.000000</td>\n",
       "      <td>0.000000</td>\n",
       "      <td>0.000000</td>\n",
       "      <td>0.000000e+00</td>\n",
       "      <td>100.000000</td>\n",
       "      <td>0.000000e+00</td>\n",
       "      <td>0.000000e+00</td>\n",
       "      <td>9.000000</td>\n",
       "    </tr>\n",
       "    <tr>\n",
       "      <th>75%</th>\n",
       "      <td>10.000000</td>\n",
       "      <td>242.000000</td>\n",
       "      <td>59.000000</td>\n",
       "      <td>49.000000</td>\n",
       "      <td>27.900000</td>\n",
       "      <td>16.000000</td>\n",
       "      <td>23.000000</td>\n",
       "      <td>3.620000e+03</td>\n",
       "      <td>100.000000</td>\n",
       "      <td>0.000000e+00</td>\n",
       "      <td>3.266206e-02</td>\n",
       "      <td>10.000000</td>\n",
       "    </tr>\n",
       "    <tr>\n",
       "      <th>max</th>\n",
       "      <td>10.000000</td>\n",
       "      <td>364.000000</td>\n",
       "      <td>105.000000</td>\n",
       "      <td>100.000000</td>\n",
       "      <td>100.000000</td>\n",
       "      <td>100092.000000</td>\n",
       "      <td>212290.000000</td>\n",
       "      <td>9.547158e+06</td>\n",
       "      <td>100.000000</td>\n",
       "      <td>9.630000e+07</td>\n",
       "      <td>3.168724e-01</td>\n",
       "      <td>10.000000</td>\n",
       "    </tr>\n",
       "  </tbody>\n",
       "</table>\n",
       "</div>"
      ],
      "text/plain": [
       "             rank_g       runtime      top_freq      gg_score      nv_score  \\\n",
       "count  17363.000000  17363.000000  17363.000000  17363.000000  17363.000000   \n",
       "mean       7.284571    224.340379     38.906410     35.679082     18.938772   \n",
       "std        3.134700     33.035363     27.893712     23.584427     22.993969   \n",
       "min        1.000000     26.000000      1.000000      0.000000      0.000000   \n",
       "25%        5.000000    201.000000     14.000000     18.000000      2.800000   \n",
       "50%        9.000000    221.000000     35.000000     32.500000      9.000000   \n",
       "75%       10.000000    242.000000     59.000000     49.000000     27.900000   \n",
       "max       10.000000    364.000000    105.000000    100.000000    100.000000   \n",
       "\n",
       "          ndc_t_numb      ndc_t_rec    ndc_t_view      you_rank           조회수  \\\n",
       "count   17363.000000   17363.000000  1.736300e+04  17363.000000  1.736300e+04   \n",
       "mean     1763.210966    2655.295398  1.807114e+05     85.580372  1.340415e+06   \n",
       "std      6366.676841   11023.838634  6.487523e+05     28.966289  3.936059e+06   \n",
       "min         0.000000       0.000000  0.000000e+00      1.000000  0.000000e+00   \n",
       "25%         0.000000       0.000000  0.000000e+00    100.000000  0.000000e+00   \n",
       "50%         0.000000       0.000000  0.000000e+00    100.000000  0.000000e+00   \n",
       "75%        16.000000      23.000000  3.620000e+03    100.000000  0.000000e+00   \n",
       "max    100092.000000  212290.000000  9.547158e+06    100.000000  9.630000e+07   \n",
       "\n",
       "       season_genre_score  previous_ranking  \n",
       "count        1.736300e+04      17363.000000  \n",
       "mean        -6.947726e-17          7.323562  \n",
       "std          6.036792e-02          3.137485  \n",
       "min         -3.614124e-01          1.000000  \n",
       "25%         -3.748262e-02          5.000000  \n",
       "50%          0.000000e+00          9.000000  \n",
       "75%          3.266206e-02         10.000000  \n",
       "max          3.168724e-01         10.000000  "
      ]
     },
     "execution_count": 22,
     "metadata": {},
     "output_type": "execute_result"
    }
   ],
   "source": [
    "data.describe()"
   ]
  },
  {
   "cell_type": "code",
   "execution_count": 13,
   "metadata": {},
   "outputs": [
    {
     "name": "stdout",
     "output_type": "stream",
     "text": [
      "artist\n",
      "name\n",
      "genre\n",
      "season\n",
      "rank_g\n",
      "sex\n",
      "song_type\n",
      "runtime\n",
      "active_type\n",
      "top_freq\n",
      "gg_score\n",
      "nv_score\n",
      "ndc_t_numb\n",
      "ndc_t_rec\n",
      "ndc_t_view\n",
      "you_rank\n",
      "조회수\n",
      "season_genre_score\n",
      "previous_ranking\n"
     ]
    }
   ],
   "source": [
    "for col in data.columns:\n",
    "    print(col)"
   ]
  },
  {
   "cell_type": "code",
   "execution_count": 15,
   "metadata": {},
   "outputs": [],
   "source": [
    "from sklearn.model_selection import train_test_split\n",
    "X_train, X_test, Y_train, Y_test = train_test_split(data.loc[:, [\"artist\",\n",
    "\"name\",\n",
    "\"genre\",\n",
    "\"season\",\n",
    "\"sex\",\n",
    "\"song_type\",\n",
    "\"runtime\",\n",
    "\"active_type\",\n",
    "\"top_freq\",\n",
    "\"gg_score\",\n",
    "\"nv_score\",\n",
    "\"ndc_t_numb\",\n",
    "\"ndc_t_rec\",\n",
    "\"ndc_t_view\",\n",
    "\"you_rank\",\n",
    "\"조회수\",\n",
    "\"season_genre_score\",\n",
    "\"previous_ranking\"]], \n",
    "                                                    data['rank_g'],\n",
    "                                                   test_size = 0.3,\n",
    "                                                   random_state = 26)"
   ]
  },
  {
   "cell_type": "code",
   "execution_count": 16,
   "metadata": {},
   "outputs": [],
   "source": [
    "X = data.loc[:, [\"artist\",\n",
    "\"name\",\n",
    "\"genre\",\n",
    "\"season\",\n",
    "\"sex\",\n",
    "\"song_type\",\n",
    "\"runtime\",\n",
    "\"active_type\",\n",
    "\"top_freq\",\n",
    "\"gg_score\",\n",
    "\"nv_score\",\n",
    "\"ndc_t_numb\",\n",
    "\"ndc_t_rec\",\n",
    "\"ndc_t_view\",\n",
    "\"you_rank\",\n",
    "\"조회수\",\n",
    "\"season_genre_score\",\n",
    "\"previous_ranking\"]]\n",
    "\n",
    "Y = data['rank_g']"
   ]
  },
  {
   "cell_type": "code",
   "execution_count": 62,
   "metadata": {},
   "outputs": [],
   "source": [
    "Y = data['rank_g']"
   ]
  },
  {
   "cell_type": "code",
   "execution_count": 63,
   "metadata": {},
   "outputs": [],
   "source": [
    "Y = Y.replace({'rank_g':'1'}, {'rank_g':\"group_1\"}).copy()\n",
    "Y = Y.replace({'rank_g':'2'}, {'rank_g':\"group_2\"}).copy()\n",
    "Y = Y.replace({'rank_g':'3'}, {'rank_g':\"group_3\"}).copy()\n",
    "Y = Y.replace({'rank_g':'4'}, {'rank_g':\"group_4\"}).copy()\n",
    "Y = Y.replace({'rank_g':'5'}, {'rank_g':\"group_5\"}).copy()\n",
    "Y = Y.replace({'rank_g':'6'}, {'rank_g':\"group_6\"}).copy()\n",
    "Y = Y.replace({'rank_g':'7'}, {'rank_g':\"group_7\"}).copy()\n",
    "Y = Y.replace({'rank_g':'8'}, {'rank_g':\"group_8\"}).copy()\n",
    "Y = Y.replace({'rank_g':'9'}, {'rank_g':\"group_9\"}).copy()\n",
    "Y = Y.replace({'rank_g':'10'}, {'rank_g':\"group_10\"}).copy()"
   ]
  },
  {
   "cell_type": "code",
   "execution_count": 71,
   "metadata": {},
   "outputs": [],
   "source": [
    "Y = Y.apply(str)"
   ]
  },
  {
   "cell_type": "markdown",
   "metadata": {},
   "source": [
    "## 1) Facotr Analyisis 실행"
   ]
  },
  {
   "cell_type": "markdown",
   "metadata": {},
   "source": [
    "### 1-1) Numeric Data만 사용"
   ]
  },
  {
   "cell_type": "code",
   "execution_count": 105,
   "metadata": {},
   "outputs": [],
   "source": [
    "numeric_X = data.loc[:, [\n",
    "\"runtime\",\n",
    "\"top_freq\",\n",
    "\"gg_score\",\n",
    "\"nv_score\",\n",
    "\"ndc_t_numb\",\n",
    "\"ndc_t_rec\",\n",
    "\"ndc_t_view\",\n",
    "\"you_rank\",\n",
    "\"조회수\",\n",
    "\"season_genre_score\",\n",
    "\"previous_ranking\"]]\n",
    "\n",
    "categorical_X = data.loc[:, [\n",
    "\"genre\",\n",
    "\"season\",\n",
    "\"sex\",\n",
    "\"song_type\",\n",
    "\"active_type\",\n",
    "]]"
   ]
  },
  {
   "cell_type": "code",
   "execution_count": 25,
   "metadata": {},
   "outputs": [],
   "source": [
    "from sklearn.preprocessing import StandardScaler\n",
    "# Standardization using Standard Scaler\n",
    "numeric_X_f = StandardScaler().fit_transform(numeric_X) "
   ]
  },
  {
   "cell_type": "code",
   "execution_count": 26,
   "metadata": {},
   "outputs": [],
   "source": [
    "cov_mat = np.cov(numeric_X_f)\n",
    "eig_val, eig_vec = np.linalg.eig(cov_mat)"
   ]
  },
  {
   "cell_type": "code",
   "execution_count": 33,
   "metadata": {},
   "outputs": [
    {
     "data": {
      "text/plain": [
       "array([4064.55232423+0.j, 3078.60363774+0.j, 2411.10556237+0.j,\n",
       "       1868.10405016+0.j, 1555.39797453+0.j, 1259.17438047+0.j,\n",
       "       1015.61679042+0.j,  659.76922849+0.j,  448.18193126+0.j,\n",
       "        116.74861326+0.j])"
      ]
     },
     "execution_count": 33,
     "metadata": {},
     "output_type": "execute_result"
    }
   ],
   "source": [
    "eig_val[eig_val > 1]"
   ]
  },
  {
   "cell_type": "markdown",
   "metadata": {},
   "source": [
    "### 1-2) Eigen Value가 1보다 큰 것 들이 상위 10개이므로 n_factor는 10으로 하여 FA 시행"
   ]
  },
  {
   "cell_type": "code",
   "execution_count": 34,
   "metadata": {},
   "outputs": [],
   "source": [
    "fa = FactorAnalyzer(n_factors=10, rotation='varimax')"
   ]
  },
  {
   "cell_type": "code",
   "execution_count": 36,
   "metadata": {},
   "outputs": [],
   "source": [
    "fa_fit = fa.fit(numeric_X_f)\n",
    "X_fa = fa_fit.transform(numeric_X_f)"
   ]
  },
  {
   "cell_type": "markdown",
   "metadata": {},
   "source": [
    "### 1-3) 이제 위에서 빼놓은 Categorical Variable들과 합치자"
   ]
  },
  {
   "cell_type": "code",
   "execution_count": 106,
   "metadata": {},
   "outputs": [],
   "source": [
    "X_fa = pd.DataFrame(X_fa)\n",
    "\n",
    "FA_X = pd.concat([X_fa, categorical_X], axis=1)"
   ]
  },
  {
   "cell_type": "code",
   "execution_count": 107,
   "metadata": {},
   "outputs": [],
   "source": [
    "FA_X = FA_X.reset_index()"
   ]
  },
  {
   "cell_type": "code",
   "execution_count": 108,
   "metadata": {},
   "outputs": [],
   "source": [
    "del FA_X['index']"
   ]
  },
  {
   "cell_type": "code",
   "execution_count": 109,
   "metadata": {},
   "outputs": [],
   "source": [
    "FA_X = pd.get_dummies(FA_X, columns = ['sex'])\n",
    "FA_X = pd.get_dummies(FA_X, columns = ['song_type'])\n",
    "FA_X = pd.get_dummies(FA_X, columns = ['season'])\n",
    "FA_X = pd.get_dummies(FA_X, columns = ['genre'])\n",
    "FA_X = pd.get_dummies(FA_X, columns = ['active_type'])"
   ]
  },
  {
   "cell_type": "markdown",
   "metadata": {},
   "source": [
    "## 2) Random Forest Modeling with k-fold cross validation"
   ]
  },
  {
   "cell_type": "code",
   "execution_count": 110,
   "metadata": {},
   "outputs": [],
   "source": [
    "from sklearn.model_selection import train_test_split\n",
    "X_train, X_test, Y_train, Y_test = train_test_split(FA_X, \n",
    "                                                    Y,\n",
    "                                                   test_size = 0.3,\n",
    "                                                   random_state = 26)"
   ]
  },
  {
   "cell_type": "code",
   "execution_count": 111,
   "metadata": {},
   "outputs": [],
   "source": [
    "from sklearn.model_selection import cross_val_score\n",
    "from sklearn.model_selection import StratifiedKFold\n",
    "\n",
    "\n",
    "stf = StratifiedKFold(n_splits = 10, shuffle = True, random_state = 1)"
   ]
  },
  {
   "cell_type": "code",
   "execution_count": 112,
   "metadata": {},
   "outputs": [],
   "source": [
    "forest = RandomForestClassifier(n_estimators=500, random_state=26)\n",
    "score = cross_val_score(forest, X_train, Y_train, cv = stf, scoring = 'f1_micro')"
   ]
  },
  {
   "cell_type": "code",
   "execution_count": 113,
   "metadata": {},
   "outputs": [
    {
     "data": {
      "text/plain": [
       "array([0.65707237, 0.65213816, 0.65049342, 0.65707237, 0.65102881,\n",
       "       0.66584362, 0.65102881, 0.66337449, 0.6526749 , 0.6526749 ])"
      ]
     },
     "execution_count": 113,
     "metadata": {},
     "output_type": "execute_result"
    }
   ],
   "source": [
    "score"
   ]
  },
  {
   "cell_type": "code",
   "execution_count": 114,
   "metadata": {},
   "outputs": [
    {
     "data": {
      "text/plain": [
       "0.6553401830192767"
      ]
     },
     "execution_count": 114,
     "metadata": {},
     "output_type": "execute_result"
    }
   ],
   "source": [
    "score.mean()"
   ]
  },
  {
   "cell_type": "code",
   "execution_count": 115,
   "metadata": {
    "scrolled": true
   },
   "outputs": [
    {
     "data": {
      "text/plain": [
       "RandomForestClassifier(bootstrap=True, ccp_alpha=0.0, class_weight=None,\n",
       "                       criterion='gini', max_depth=None, max_features='auto',\n",
       "                       max_leaf_nodes=None, max_samples=None,\n",
       "                       min_impurity_decrease=0.0, min_impurity_split=None,\n",
       "                       min_samples_leaf=1, min_samples_split=2,\n",
       "                       min_weight_fraction_leaf=0.0, n_estimators=500,\n",
       "                       n_jobs=None, oob_score=False, random_state=26, verbose=0,\n",
       "                       warm_start=False)"
      ]
     },
     "execution_count": 115,
     "metadata": {},
     "output_type": "execute_result"
    }
   ],
   "source": [
    "forest.fit(X_train,Y_train)"
   ]
  },
  {
   "cell_type": "code",
   "execution_count": 116,
   "metadata": {},
   "outputs": [],
   "source": [
    "pred_y = forest.predict(X_test)"
   ]
  },
  {
   "cell_type": "code",
   "execution_count": 117,
   "metadata": {
    "scrolled": true
   },
   "outputs": [
    {
     "name": "stdout",
     "output_type": "stream",
     "text": [
      "F1 : 0.656\n"
     ]
    }
   ],
   "source": [
    "from sklearn.metrics import precision_score, recall_score, f1_score\n",
    "print(\"F1 : %.3f\" % f1_score(Y_test, pred_y, average = 'micro'))"
   ]
  },
  {
   "cell_type": "markdown",
   "metadata": {},
   "source": [
    "## 2) PCA"
   ]
  },
  {
   "cell_type": "code",
   "execution_count": 126,
   "metadata": {},
   "outputs": [],
   "source": [
    "from sklearn.decomposition import PCA\n",
    "\n",
    "pca = PCA(n_components = 7)\n",
    "\n",
    "pca_fit = pca.fit(numeric_X_f)\n",
    "\n",
    "X_pca = pca_fit.transform(numeric_X_f)"
   ]
  },
  {
   "cell_type": "code",
   "execution_count": 127,
   "metadata": {
    "scrolled": true
   },
   "outputs": [
    {
     "data": {
      "text/plain": [
       "0.8967863786646791"
      ]
     },
     "execution_count": 127,
     "metadata": {},
     "output_type": "execute_result"
    }
   ],
   "source": [
    "pca.explained_variance_ratio_.sum()"
   ]
  },
  {
   "cell_type": "code",
   "execution_count": 132,
   "metadata": {},
   "outputs": [],
   "source": [
    "X_pca = pd.DataFrame(X_pca)\n",
    "PCA_X = pd.concat([X_pca, categorical_X], axis=1)"
   ]
  },
  {
   "cell_type": "code",
   "execution_count": 133,
   "metadata": {},
   "outputs": [],
   "source": [
    "PCA_X = PCA_X.reset_index()\n",
    "del PCA_X['index']"
   ]
  },
  {
   "cell_type": "code",
   "execution_count": 135,
   "metadata": {},
   "outputs": [],
   "source": [
    "PCA_X = pd.get_dummies(PCA_X, columns = ['sex'])\n",
    "PCA_X = pd.get_dummies(PCA_X, columns = ['song_type'])\n",
    "PCA_X = pd.get_dummies(PCA_X, columns = ['season'])\n",
    "PCA_X = pd.get_dummies(PCA_X, columns = ['genre'])\n",
    "PCA_X = pd.get_dummies(PCA_X, columns = ['active_type'])"
   ]
  },
  {
   "cell_type": "code",
   "execution_count": 136,
   "metadata": {},
   "outputs": [],
   "source": [
    "from sklearn.model_selection import train_test_split\n",
    "X_train, X_test, Y_train, Y_test = train_test_split(PCA_X, \n",
    "                                                    Y,\n",
    "                                                   test_size = 0.3,\n",
    "                                                   random_state = 26)"
   ]
  },
  {
   "cell_type": "code",
   "execution_count": 137,
   "metadata": {},
   "outputs": [],
   "source": [
    "from sklearn.model_selection import cross_val_score\n",
    "from sklearn.model_selection import StratifiedKFold\n",
    "\n",
    "\n",
    "stf = StratifiedKFold(n_splits = 10, shuffle = True, random_state = 1)"
   ]
  },
  {
   "cell_type": "code",
   "execution_count": 138,
   "metadata": {},
   "outputs": [],
   "source": [
    "forest = RandomForestClassifier(n_estimators=500, random_state=26)\n",
    "score = cross_val_score(forest, X_train, Y_train, cv = stf, scoring = 'f1_micro')"
   ]
  },
  {
   "cell_type": "code",
   "execution_count": 139,
   "metadata": {},
   "outputs": [
    {
     "data": {
      "text/plain": [
       "0.6425863656053715"
      ]
     },
     "execution_count": 139,
     "metadata": {},
     "output_type": "execute_result"
    }
   ],
   "source": [
    "score.mean()"
   ]
  },
  {
   "cell_type": "code",
   "execution_count": 140,
   "metadata": {},
   "outputs": [],
   "source": [
    "forest.fit(X_train,Y_train)\n",
    "pred_y = forest.predict(X_test)"
   ]
  },
  {
   "cell_type": "code",
   "execution_count": 141,
   "metadata": {},
   "outputs": [
    {
     "name": "stdout",
     "output_type": "stream",
     "text": [
      "F1 : 0.651\n"
     ]
    }
   ],
   "source": [
    "print(\"F1 : %.3f\" % f1_score(Y_test, pred_y, average = 'micro'))"
   ]
  }
 ],
 "metadata": {
  "kernelspec": {
   "display_name": "Python 3",
   "language": "python",
   "name": "python3"
  },
  "language_info": {
   "codemirror_mode": {
    "name": "ipython",
    "version": 3
   },
   "file_extension": ".py",
   "mimetype": "text/x-python",
   "name": "python",
   "nbconvert_exporter": "python",
   "pygments_lexer": "ipython3",
   "version": "3.7.6"
  }
 },
 "nbformat": 4,
 "nbformat_minor": 4
}
