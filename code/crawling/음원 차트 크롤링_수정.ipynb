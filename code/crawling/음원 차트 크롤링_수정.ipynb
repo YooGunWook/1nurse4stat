{
 "cells": [
  {
   "cell_type": "code",
   "execution_count": 2,
   "metadata": {},
   "outputs": [],
   "source": [
    "from selenium import webdriver\n",
    "import pandas as pd\n",
    "import time\n",
    "from tqdm import tqdm\n",
    "import re"
   ]
  },
  {
   "cell_type": "markdown",
   "metadata": {},
   "source": [
    "# 멜론 차트 크롤링"
   ]
  },
  {
   "cell_type": "code",
   "execution_count": 81,
   "metadata": {},
   "outputs": [],
   "source": [
    "driver=webdriver.Chrome('/Users/gunwook/Desktop/chromedriver')"
   ]
  },
  {
   "cell_type": "code",
   "execution_count": 17,
   "metadata": {},
   "outputs": [],
   "source": [
    "driver.get('https://www.melon.com/chart/search/index.htm')"
   ]
  },
  {
   "cell_type": "code",
   "execution_count": 234,
   "metadata": {},
   "outputs": [],
   "source": [
    "chart_1 = driver.find_elements_by_css_selector('#lst50')"
   ]
  },
  {
   "cell_type": "code",
   "execution_count": 214,
   "metadata": {},
   "outputs": [],
   "source": [
    "singer = []\n",
    "sing = []\n",
    "like = []\n",
    "album = []"
   ]
  },
  {
   "cell_type": "code",
   "execution_count": 235,
   "metadata": {},
   "outputs": [],
   "source": [
    "# 1위에서 50위까지\n",
    "for i in range(0,50):\n",
    "    a = chart_1[i].find_elements_by_css_selector('#lst50 > td:nth-child(4) > div > div > div:nth-child(3) > div.ellipsis.rank02 > a')[0].text\n",
    "    b = chart_1[i].find_elements_by_css_selector('#lst50 > td:nth-child(4) > div > div > div.ellipsis.rank01 > span > strong > a')[0].text\n",
    "    c = int(chart_1[i].find_elements_by_css_selector('#lst50 > td:nth-child(5) > div > button > span.cnt')[0].text.replace(',',''))\n",
    "    d = chart_1[i].find_elements_by_css_selector('#lst50 > td:nth-child(4) > div > div > div:nth-child(3) > div.ellipsis.rank03 > a')[0].text\n",
    "    singer.append(a)\n",
    "    sing.append(b)\n",
    "    like.append(c)\n",
    "    album.append(d)"
   ]
  },
  {
   "cell_type": "code",
   "execution_count": 236,
   "metadata": {},
   "outputs": [],
   "source": [
    "# chart_2로 가기\n",
    "driver.find_elements_by_css_selector('#frm > div.paginate.chart_page > span > a')[0].click()"
   ]
  },
  {
   "cell_type": "code",
   "execution_count": 237,
   "metadata": {},
   "outputs": [],
   "source": [
    "chart_2 = driver.find_elements_by_css_selector('#lst100')"
   ]
  },
  {
   "cell_type": "code",
   "execution_count": 238,
   "metadata": {},
   "outputs": [],
   "source": [
    "# 51위부터 100위까지\n",
    "for i in range(0,50):\n",
    "    a = chart_2[i].find_elements_by_css_selector('#lst100 > td:nth-child(4) > div > div > div:nth-child(3) > div.ellipsis.rank02 > a')[0].text\n",
    "    b = chart_2[i].find_elements_by_css_selector('#lst100 > td:nth-child(4) > div > div > div.ellipsis.rank01 > span > strong > a')[0].text\n",
    "    c = int(chart_2[i].find_elements_by_css_selector('#lst100 > td:nth-child(5) > div > button > span.cnt')[0].text.replace(',',''))\n",
    "    d = chart_2[i].find_elements_by_css_selector('#lst100 > td:nth-child(4) > div > div > div:nth-child(3) > div.ellipsis.rank03 > a')[0].text\n",
    "    singer.append(a)\n",
    "    sing.append(b)\n",
    "    like.append(c)\n",
    "    album.append(d)"
   ]
  },
  {
   "cell_type": "code",
   "execution_count": 240,
   "metadata": {},
   "outputs": [],
   "source": [
    "driver.get('https://www.melon.com/search/total/index.htm?q=EXO&section=&searchGnbYn=Y&kkoSpl=Y&kkoDpType=&linkOrText=T&ipath=srch_form')"
   ]
  },
  {
   "cell_type": "markdown",
   "metadata": {},
   "source": [
    "# 가온차트 크롤링"
   ]
  },
  {
   "cell_type": "code",
   "execution_count": 3,
   "metadata": {},
   "outputs": [],
   "source": [
    "driver.get('http://www.gaonchart.co.kr/main/section/chart/online.gaon?nationGbn=T&serviceGbn=ALL')"
   ]
  },
  {
   "cell_type": "code",
   "execution_count": 4,
   "metadata": {},
   "outputs": [],
   "source": [
    "#chart_week_select > option:nth-child(120)\n",
    "#chart_week_select > option:nth-child(3)\n",
    "#chart_week_select > option:nth-child(107)"
   ]
  },
  {
   "cell_type": "code",
   "execution_count": 6,
   "metadata": {
    "scrolled": true
   },
   "outputs": [
    {
     "name": "stderr",
     "output_type": "stream",
     "text": [
      "100%|██████████| 105/105 [48:43<00:00, 27.85s/it]\n"
     ]
    }
   ],
   "source": [
    "list1 = []\n",
    "for i in tqdm(range(107, 2, -1)):\n",
    "    # 주간 설정(range는 원하는만큼 지정)\n",
    "    driver.find_elements_by_css_selector('#chart_week_select')[0].click()\n",
    "    time = driver.find_elements_by_css_selector('#chart_week_select > option:nth-child({0})'.format(i))[0].text\n",
    "    driver.find_elements_by_css_selector('#chart_week_select > option:nth-child({0})'.format(i))[0].click()\n",
    "    \n",
    "    \n",
    "    rank = driver.find_elements_by_css_selector('#wrap > div.chart > table > tbody > tr> td.ranking')\n",
    "    chart_top_100 = driver.find_elements_by_css_selector('#wrap > div.chart > table > tbody > tr > td.subject > p:nth-child(1)')\n",
    "    gaon_100_score = driver.find_elements_by_css_selector('#wrap > div.chart > table > tbody > tr > td.count > p')\n",
    "    production_top_100 = driver.find_elements_by_css_selector('#wrap > div.chart > table > tbody > tr > td.production > p.pro')\n",
    "    dist_top_100 = driver.find_elements_by_css_selector('#wrap > div.chart > table > tbody > tr > td.production > p.dist')\n",
    "    artist = driver.find_elements_by_css_selector('#wrap > div.chart > table > tbody > tr > td.subject > p.singer')\n",
    "    for a,b,c,d,e,f in zip(chart_top_100,gaon_100_score,production_top_100,dist_top_100,artist,rank):\n",
    "        \n",
    "        a = re.split('[(-)]+' ,a.text)[0]\n",
    "        e = e.text.split('|')[0]\n",
    "        if e == '(여자)아이들':\n",
    "            pass\n",
    "        else:\n",
    "            e = re.split('[(-)]+' ,e)[0]\n",
    "        b = int(b.text.replace(',',''))\n",
    "        list1.append([a, c.text, d.text, e, time, b, f.text])\n",
    "        "
   ]
  },
  {
   "cell_type": "code",
   "execution_count": 7,
   "metadata": {},
   "outputs": [],
   "source": [
    "df = pd.DataFrame(list1, columns = ['name','production','distributor','artist','time','score','rank'])"
   ]
  },
  {
   "cell_type": "code",
   "execution_count": 12,
   "metadata": {
    "scrolled": true
   },
   "outputs": [],
   "source": [
    "df.to_csv('가온차트.csv')"
   ]
  },
  {
   "cell_type": "markdown",
   "metadata": {},
   "source": [
    "# 지니차트 크롤링"
   ]
  },
  {
   "cell_type": "code",
   "execution_count": 82,
   "metadata": {},
   "outputs": [],
   "source": [
    "driver.get('https://www.genie.co.kr')"
   ]
  },
  {
   "cell_type": "code",
   "execution_count": 14,
   "metadata": {},
   "outputs": [],
   "source": [
    "genre = []\n",
    "runtime = []\n",
    "sex = []\n",
    "active_type = []"
   ]
  },
  {
   "cell_type": "code",
   "execution_count": 15,
   "metadata": {},
   "outputs": [],
   "source": [
    "list2 = list(set(list(df['artist'] + ',' + df['name'])))"
   ]
  },
  {
   "cell_type": "code",
   "execution_count": 27,
   "metadata": {},
   "outputs": [
    {
     "data": {
      "text/plain": [
       "1454"
      ]
     },
     "execution_count": 27,
     "metadata": {},
     "output_type": "execute_result"
    }
   ],
   "source": [
    "len(list2)"
   ]
  },
  {
   "cell_type": "code",
   "execution_count": 28,
   "metadata": {},
   "outputs": [],
   "source": [
    "df['name_artist'] = df['artist'] + ',' + df['name']"
   ]
  },
  {
   "cell_type": "code",
   "execution_count": 17,
   "metadata": {},
   "outputs": [
    {
     "name": "stderr",
     "output_type": "stream",
     "text": [
      "100%|██████████| 1454/1454 [1:04:54<00:00,  2.68s/it]\n"
     ]
    }
   ],
   "source": [
    "# 노래 정보 뽑아오기\n",
    "# 장르, 런타임, 성별, 활동유형\n",
    "for i in tqdm(set(list2)):\n",
    "    try:\n",
    "        elem = driver.find_element_by_id('sc-fd')\n",
    "        elem.clear()\n",
    "        elem.send_keys(i)\n",
    "        driver.find_elements_by_css_selector('#frmGNB > fieldset > input.btn-submit')[0].click()\n",
    "        driver.find_element_by_css_selector('#body-content > div.search_song > div.search_result_detail > div > table > tbody > tr:nth-child(1) > td.link > a').click()\n",
    "        gen = driver.find_element_by_css_selector('#body-content > div.song-main-infos > div.info-zone > ul > li:nth-child(3) > span.value').text\n",
    "        time = driver.find_element_by_css_selector('#body-content > div.song-main-infos > div.info-zone > ul > li:nth-child(4) > span.value').text\n",
    "        if ':' in time:\n",
    "            pass\n",
    "        else:\n",
    "            time = driver.find_element_by_css_selector('#body-content > div.song-main-infos > div.info-zone > ul > li:nth-child(5) > span.value').text\n",
    "            gen = driver.find_element_by_css_selector('#body-content > div.song-main-infos > div.info-zone > ul > li:nth-child(4) > span.value').text\n",
    "        runtime.append(time)\n",
    "        genre.append(gen)\n",
    "        elem = driver.find_element_by_id('sc-fd')\n",
    "        elem.clear()\n",
    "        elem.send_keys(i)\n",
    "        driver.find_elements_by_css_selector('#frmGNB > fieldset > input.btn-submit')[0].click()\n",
    "        driver.find_elements_by_css_selector('#body-content > div.search_song > div.search_result_detail > div > table > tbody > tr:nth-child(1) > td.info > a.artist.ellipsis')[0].click()\n",
    "        activity_type = driver.find_elements_by_css_selector('#body-content > div.artist-main-infos > div.info-zone > ul > li:nth-child(1) > span.value')[0].text.split('/')\n",
    "        sex.append(activity_type[0])\n",
    "        active_type.append(activity_type[1])\n",
    "    except:\n",
    "        i = i.split(',')\n",
    "        elem = driver.find_element_by_id('sc-fd')\n",
    "        elem.clear()\n",
    "        elem.send_keys('{0}'.format(i[1]))\n",
    "        driver.find_elements_by_css_selector('#frmGNB > fieldset > input.btn-submit')[0].click()\n",
    "        driver.find_element_by_css_selector('#body-content > div.search_song > div.search_result_detail > div > table > tbody > tr:nth-child(1) > td.link > a').click()\n",
    "        gen = driver.find_element_by_css_selector('#body-content > div.song-main-infos > div.info-zone > ul > li:nth-child(3) > span.value').text\n",
    "        time = driver.find_element_by_css_selector('#body-content > div.song-main-infos > div.info-zone > ul > li:nth-child(4) > span.value').text\n",
    "        if ':' in time:\n",
    "            pass\n",
    "        else:\n",
    "            time = driver.find_element_by_css_selector('#body-content > div.song-main-infos > div.info-zone > ul > li:nth-child(5) > span.value').text\n",
    "            gen = driver.find_element_by_css_selector('#body-content > div.song-main-infos > div.info-zone > ul > li:nth-child(4) > span.value').text\n",
    "        genre.append(gen)\n",
    "        runtime.append(time)\n",
    "        elem = driver.find_element_by_id('sc-fd')\n",
    "        elem.clear()\n",
    "        elem.send_keys('{0}'.format(i[1]))\n",
    "        driver.find_elements_by_css_selector('#frmGNB > fieldset > input.btn-submit')[0].click()\n",
    "        driver.find_elements_by_css_selector('#body-content > div.search_song > div.search_result_detail > div > table > tbody > tr:nth-child(1) > td.info > a.artist.ellipsis')[0].click()\n",
    "        activity_type = driver.find_elements_by_css_selector('#body-content > div.artist-main-infos > div.info-zone > ul > li:nth-child(1) > span.value')[0].text.split('/')\n",
    "        sex.append(activity_type[0])\n",
    "        active_type.append(activity_type[1])\n"
   ]
  },
  {
   "cell_type": "code",
   "execution_count": 22,
   "metadata": {},
   "outputs": [],
   "source": [
    "data1 = pd.DataFrame(genre,columns = ['장르'])"
   ]
  },
  {
   "cell_type": "code",
   "execution_count": 32,
   "metadata": {},
   "outputs": [],
   "source": [
    "data = pd.DataFrame(list2,columns = ['조인'])"
   ]
  },
  {
   "cell_type": "code",
   "execution_count": 30,
   "metadata": {},
   "outputs": [],
   "source": [
    "data2 = pd.DataFrame(runtime,columns = ['런타임'])\n",
    "data3 = pd.DataFrame(sex,columns = ['성별'])\n",
    "data4 = pd.DataFrame(active_type,columns = ['활동유형'])"
   ]
  },
  {
   "cell_type": "code",
   "execution_count": 34,
   "metadata": {},
   "outputs": [],
   "source": [
    "final = pd.concat([data,data1,data2,data3,data4],axis= 1)"
   ]
  },
  {
   "cell_type": "code",
   "execution_count": 36,
   "metadata": {},
   "outputs": [],
   "source": [
    "final = final.rename(columns = {'조인':'name_artist'})"
   ]
  },
  {
   "cell_type": "code",
   "execution_count": 38,
   "metadata": {},
   "outputs": [],
   "source": [
    "df = pd.merge(df,final,how='left',on='name_artist')"
   ]
  },
  {
   "cell_type": "code",
   "execution_count": 39,
   "metadata": {},
   "outputs": [],
   "source": [
    "df.to_csv('최종.csv')"
   ]
  },
  {
   "cell_type": "code",
   "execution_count": 7,
   "metadata": {},
   "outputs": [],
   "source": [
    "df = pd.read_csv('/Users/gunwook/Desktop/git_folder/데이터사이언스입문/data/최종.csv')"
   ]
  },
  {
   "cell_type": "code",
   "execution_count": 10,
   "metadata": {},
   "outputs": [],
   "source": [
    "del df['Unnamed: 0']"
   ]
  },
  {
   "cell_type": "code",
   "execution_count": 13,
   "metadata": {},
   "outputs": [],
   "source": [
    "import re\n",
    "p = re.compile('[OST]')"
   ]
  },
  {
   "cell_type": "code",
   "execution_count": 16,
   "metadata": {},
   "outputs": [],
   "source": [
    "list1 = []\n",
    "for i in df['장르']:\n",
    "    a = p.search(i)\n",
    "    list1.append(a)"
   ]
  },
  {
   "cell_type": "code",
   "execution_count": 32,
   "metadata": {},
   "outputs": [],
   "source": [
    "temp = df[df['장르'].str.contains('OST')]['name_artist'].unique()"
   ]
  },
  {
   "cell_type": "code",
   "execution_count": 34,
   "metadata": {},
   "outputs": [],
   "source": [
    "temp = list(temp)"
   ]
  },
  {
   "cell_type": "code",
   "execution_count": 63,
   "metadata": {},
   "outputs": [
    {
     "data": {
      "text/plain": [
       "['이수,My Way',\n",
       " '폴킴,모든 날, 모든 순간 ',\n",
       " '문문 ,결혼',\n",
       " '멜로망스,짙어져',\n",
       " '에일리 ,첫눈처럼 너에게 가겠다',\n",
       " 'Sondia,어른',\n",
       " '양요섭,길에서',\n",
       " '김나영,그대만 보여서',\n",
       " '박효신,그 날 ',\n",
       " '이수현,소리',\n",
       " '멜로망스,좋은 날',\n",
       " '세븐틴,A-TEEN',\n",
       " '박원,이방인',\n",
       " '로이킴,왜 몰랐을까',\n",
       " '벤 ,미워도 다시 한 번',\n",
       " '뉴이스트 W,AND I',\n",
       " '백지영,See You Again ',\n",
       " '정승환,잘 지내요',\n",
       " '거미,지워져',\n",
       " '모트 ,도망가지마',\n",
       " '세정,정인 ',\n",
       " '10cm,Perfect',\n",
       " '벤 ,If You Were Me',\n",
       " '황치열,어찌 잊으오',\n",
       " '김민석,너에게',\n",
       " '첸 ,벚꽃연가',\n",
       " '다비치,꿈처럼 내린',\n",
       " '케이윌 ,내 생에 아름다운',\n",
       " '로시 ,구름',\n",
       " '웬디,Goodbye',\n",
       " '볼빨간사춘기,My Trouble',\n",
       " 'Queen,Bohemian Rhapsody ',\n",
       " 'Queen,Bohemian Rhapsody',\n",
       " 'Queen,Somebody To Love',\n",
       " '폴킴,사랑 알 수 없나봐',\n",
       " '에일리,Is You',\n",
       " '하진,We all lie',\n",
       " 'Queen,Radio Ga Ga ',\n",
       " '정승환,너였다면',\n",
       " '크러쉬 ,Beautiful',\n",
       " '에이핑크 ,%%',\n",
       " '양다일,I`m Here',\n",
       " '백아연,그대여야만 해요',\n",
       " '허각,Cosmos',\n",
       " '첸 ,Make it count',\n",
       " '잔나비,나는 볼 수 없던 이야기',\n",
       " '로시 ,레인보우 ',\n",
       " 'Post Malone & Swae Lee,Sunflower ',\n",
       " '성시경,니 곁이라면',\n",
       " '웬디,What If Love',\n",
       " '김나영,너의 모든 기억속에',\n",
       " '로꼬 ,우연히 봄',\n",
       " '백예린,스며들기 좋은 오늘',\n",
       " '세븐틴,9-TEEN',\n",
       " 'Naomi Scott,Speechless ',\n",
       " 'Mena Massoud, Naomi Scott,A Whole New World',\n",
       " '방탄소년단, Charli XCX,Dream Glow ',\n",
       " 'Will Smith,Arabian Nights ',\n",
       " 'Will Smith,Prince Ali',\n",
       " 'Will Smith,Friend Like Me',\n",
       " '방탄소년단, Zara Larsson,A Brand New Day ',\n",
       " 'Mena Massoud,One Jump Ahead',\n",
       " '장범준,손 닿으면',\n",
       " '방탄소년단, Juice WRLD,All Night ',\n",
       " '방탄소년단,Heartbeat',\n",
       " '마마무 ,WOW',\n",
       " '샘김,향기',\n",
       " '먼데이 키즈 ,Another Day',\n",
       " '김나영,조금 더 외로워지겠지',\n",
       " 'EXO-CBX ,누가 봐도 우린 ',\n",
       " '10cm,나의 어깨에 기대어요',\n",
       " '태연 ,그대라는 시',\n",
       " '헤이즈 ,내 맘을 볼 수 있나요',\n",
       " '양다일,너만 너만 너만',\n",
       " '청하,그 끝에 그대',\n",
       " '거미,기억해줘요 내 모든 날과 그때를',\n",
       " '옹성우,우리가 만난 이야기',\n",
       " '폴킴,안녕',\n",
       " '벤 ,내 목소리 들리니',\n",
       " '레드벨벳,어떤 별보다',\n",
       " '송하예,Say Goodbye',\n",
       " '김민석,Perhaps Love ',\n",
       " '펀치 ,Done For Me',\n",
       " '장범준,흔들리는 꽃들 속에서 네 샴푸향이 느껴진거야',\n",
       " '태용 ,러브 델루나',\n",
       " '존박,이상한 사람',\n",
       " '케이윌 ,네 앞에',\n",
       " '임한별,꽃처럼 예쁜 그대',\n",
       " '거미,가장 완벽한 날들',\n",
       " '정승환,그건 너이니까',\n",
       " '펀치 ,영화 속에 나오는 주인공처럼',\n",
       " '태연 ,숨겨진 세상 ',\n",
       " '김나영,그 무렵',\n",
       " '김필,겨울이 오면',\n",
       " '헤이즈 ,운명이 내게 말해요',\n",
       " 'Idina Menzel, AURORA,Into the Unknown',\n",
       " 'Idina Menzel, Evan Rachel Wood,Show Yourself',\n",
       " '벤 ,한숨만',\n",
       " 'Kristen Bell, Idina Menzel, Josh Gad, Jonathan Groff, Cast of Frozen 2Frozen 2 ,Some Things Never Change',\n",
       " 'Evan Rachel Wood,All Is Found',\n",
       " 'Kristen Bell,The Next Right Thing',\n",
       " 'Jonathan Groff,Lost in the Woods',\n",
       " 'Panic! At The Disco,Into the Unknown ',\n",
       " 'Josh Gad,When I Am Older',\n",
       " '박혜나, Aurora,숨겨진 세상 ',\n",
       " 'Idina Menzel,Let It Go',\n",
       " 'Jonathan Groff,Reindeer',\n",
       " '이용신,New Future',\n",
       " '이용신,Love Chronicle',\n",
       " '이용신,Myself',\n",
       " '이용신,Eternal Snow',\n",
       " '에일리 ,그저 바라본다',\n",
       " '10cm,우연인 듯 운명',\n",
       " '윤미래,Flower',\n",
       " '다비치,노을',\n",
       " '백현 ,너를 사랑하고 있어',\n",
       " '백예린,다시 난, 여기',\n",
       " '거미,너의 하루는 좀 어때',\n",
       " '김재환,어떤 날엔',\n",
       " '찬열 ,Go away go away',\n",
       " '이승철,내가 많이 사랑해요',\n",
       " '헤이즈 ,다 그렇지 뭐',\n",
       " '송가인,내 마음의 사진',\n",
       " '마마무 ,자꾸 더 보고싶은 사람',\n",
       " '양다일,사랑 이토록 어려운 말',\n",
       " '세정,나의 모든 날',\n",
       " '먼데이키즈 ,모르시죠',\n",
       " '청하,나의 그대',\n",
       " '선미,가라고 ',\n",
       " '크러쉬 ,둘만의 세상으로 가',\n",
       " '아이유 ,마음을 드려요',\n",
       " '가호 ,시작',\n",
       " '에이프릴 세컨드 ,그리움의 언덕',\n",
       " '김필,그때 그 아인',\n",
       " '하현우,돌덩이',\n",
       " '박원,내 차례',\n",
       " '윤미래,Say',\n",
       " '백현 ,너에게 가는 이 길 위에서 ',\n",
       " 'V,Sweet Night',\n",
       " '크러쉬 ,어떤 말도',\n",
       " '비와이,새로이 ',\n",
       " '규현 ,하루종일',\n",
       " '조이,좋은 사람 있으면 소개시켜줘',\n",
       " '조정석,아로하',\n",
       " '권진아,Lonely Night',\n",
       " '규현 ,화려하지 않은 고백',\n",
       " 'MC몽, 김재환,봄 같던 그녀가 춥대 ',\n",
       " '어반 자카파 ,그대 고운 내사랑',\n",
       " '곽진언,시청 앞 지하철 역에서',\n",
       " '자이언티,I Just Want To Stay With You']"
      ]
     },
     "execution_count": 63,
     "metadata": {},
     "output_type": "execute_result"
    }
   ],
   "source": [
    "temp"
   ]
  },
  {
   "cell_type": "code",
   "execution_count": 39,
   "metadata": {},
   "outputs": [],
   "source": [
    "drama = driver.find_element_by_css_selector('#body-content > div.song-main-infos > div.info-zone > ul > li:nth-child(2) > span.value > a').text"
   ]
  },
  {
   "cell_type": "code",
   "execution_count": 77,
   "metadata": {},
   "outputs": [],
   "source": [
    "p = re.compile('.+(?=OST)')\n",
    "b = p.search(drama).strip()"
   ]
  },
  {
   "cell_type": "code",
   "execution_count": 79,
   "metadata": {},
   "outputs": [
    {
     "data": {
      "text/plain": [
       "'미스터 션샤인'"
      ]
     },
     "execution_count": 79,
     "metadata": {},
     "output_type": "execute_result"
    }
   ],
   "source": [
    "b.group().strip()"
   ]
  },
  {
   "cell_type": "code",
   "execution_count": 55,
   "metadata": {},
   "outputs": [
    {
     "data": {
      "text/plain": [
       "'돈꽃'"
      ]
     },
     "execution_count": 55,
     "metadata": {},
     "output_type": "execute_result"
    }
   ],
   "source": [
    "(b.group())"
   ]
  },
  {
   "cell_type": "code",
   "execution_count": 112,
   "metadata": {},
   "outputs": [
    {
     "data": {
      "text/plain": [
       "'OST / 해외영화'"
      ]
     },
     "execution_count": 112,
     "metadata": {},
     "output_type": "execute_result"
    }
   ],
   "source": [
    "drama"
   ]
  },
  {
   "cell_type": "code",
   "execution_count": null,
   "metadata": {},
   "outputs": [],
   "source": [
    "#body-content > div.song-main-infos > div.info-zone > ul > li:nth-child(3) > span.value > a"
   ]
  },
  {
   "cell_type": "code",
   "execution_count": 94,
   "metadata": {},
   "outputs": [],
   "source": [
    "drama = driver.find_element_by_css_selector('#body-content > div.song-main-infos > div.info-zone > ul > li:nth-child(3) > span.value').text"
   ]
  },
  {
   "cell_type": "code",
   "execution_count": null,
   "metadata": {},
   "outputs": [],
   "source": [
    "#body-content > div.song-main-infos > div.info-zone > ul > li:nth-child(2) > span.value > a"
   ]
  },
  {
   "cell_type": "code",
   "execution_count": 104,
   "metadata": {},
   "outputs": [],
   "source": [
    "elem = driver.find_element_by_id('sc-fd')\n",
    "elem.clear()\n",
    "elem.send_keys(i)\n"
   ]
  },
  {
   "cell_type": "code",
   "execution_count": 113,
   "metadata": {},
   "outputs": [
    {
     "data": {
      "text/plain": [
       "['백지영', 'See You Again ']"
      ]
     },
     "execution_count": 113,
     "metadata": {},
     "output_type": "execute_result"
    }
   ],
   "source": [
    "i"
   ]
  },
  {
   "cell_type": "code",
   "execution_count": 121,
   "metadata": {},
   "outputs": [
    {
     "data": {
      "text/plain": [
       "'로꼬 ,우연히 봄'"
      ]
     },
     "execution_count": 121,
     "metadata": {},
     "output_type": "execute_result"
    }
   ],
   "source": [
    "i"
   ]
  },
  {
   "cell_type": "code",
   "execution_count": 123,
   "metadata": {
    "scrolled": true
   },
   "outputs": [
    {
     "data": {
      "text/plain": [
       "['돈꽃',\n",
       " \"'키스 먼저 할까요?'\",\n",
       " '이번 생은 처음이라',\n",
       " 'Yellow',\n",
       " '도깨비',\n",
       " '나의 아저씨',\n",
       " '리플리 Vol.1',\n",
       " '김비서가 왜 그럴까',\n",
       " '미스터 션샤인',\n",
       " '미스터 션샤인',\n",
       " '미스터 션샤인',\n",
       " 'A-TEEN Part.3',\n",
       " '미스터 션샤인',\n",
       " '아는 와이프',\n",
       " '리플리 Vol.3',\n",
       " '미스터 션샤인',\n",
       " '미스터 션샤인',\n",
       " '라이프',\n",
       " '백일의 낭군님',\n",
       " 'A-TEEN Part.4',\n",
       " '미스터 션샤인',\n",
       " '연애플레이리스트 3 Part.1 (웹드라마)',\n",
       " '미스터 션샤인',\n",
       " '미스터 션샤인',\n",
       " '연애플레이리스트 3 Part.2 (웹드라마)',\n",
       " '백일의 낭군님',\n",
       " '뷰티 인사이드',\n",
       " '뷰티 인사이드',\n",
       " '뷰티 인사이드',\n",
       " '뷰티 인사이드',\n",
       " 'WHY : 당신이 연인에게 차인 진짜 이유',\n",
       " '영화 보헤미안 랩소디 OST (Bohemian Rhapsody',\n",
       " '영화 보헤미안 랩소디 OST (Bohemian Rhapsody',\n",
       " '영화 보헤미안 랩소디 OST (Bohemian Rhapsody',\n",
       " 'WHY : 당신이 연인에게 차인 진짜 이유',\n",
       " '알함브라 궁전의 추억',\n",
       " 'SKY 캐슬',\n",
       " '영화 보헤미안 랩소디 OST (Bohemian Rhapsody',\n",
       " '또 오해영',\n",
       " '도깨비',\n",
       " '영혼수선공',\n",
       " '알함브라 궁전의 추억',\n",
       " '남자친구',\n",
       " '일단 뜨겁게 청소하라',\n",
       " '진심이 닿다',\n",
       " '로맨스는 별책부록',\n",
       " '로맨스는 별책부록',\n",
       " '스파이더맨 : 뉴 유니버스 OST (Spider-Man : Into The Spider-Verse',\n",
       " '왕이 된 남자',\n",
       " '진심이 닿다',\n",
       " '로맨스는 별책부록',\n",
       " '냄새를 보는 소녀',\n",
       " 'A-TEEN 2 Part.1',\n",
       " 'A-TEEN 2 Part.2',\n",
       " 'Aladdin (Original Motion Picture Soundtrack)',\n",
       " 'Aladdin (Original Motion Picture Soundtrack)',\n",
       " 'Dream Glow (BTS WORLD',\n",
       " 'Aladdin (Original Motion Picture Soundtrack)',\n",
       " 'Aladdin (Original Motion Picture Soundtrack)',\n",
       " 'Aladdin (Original Motion Picture Soundtrack)',\n",
       " 'A Brand New Day (BTS WORLD',\n",
       " 'Aladdin (Original Motion Picture Soundtrack)',\n",
       " '검색어를 입력하세요 WWW',\n",
       " 'All Night (BTS WORLD',\n",
       " 'BTS WORLD',\n",
       " '검색어를 입력하세요 WWW',\n",
       " '검색어를 입력하세요 WWW',\n",
       " '호텔 델루나',\n",
       " '검색어를 입력하세요 WWW',\n",
       " '연애플레이리스트 4 Part.1 (웹드라마)',\n",
       " '호텔 델루나',\n",
       " '호텔 델루나',\n",
       " '호텔 델루나',\n",
       " '호텔 델루나',\n",
       " '호텔 델루나',\n",
       " '호텔 델루나',\n",
       " '열여덟의 순간',\n",
       " '호텔 델루나',\n",
       " '호텔 델루나',\n",
       " '호텔 델루나',\n",
       " '호텔 델루나',\n",
       " 'Perhaps Love (사랑인가요) - 사물사답 #1',\n",
       " '호텔 델루나',\n",
       " '멜로가 체질',\n",
       " '호텔 델루나',\n",
       " '동백꽃 필 무렵 (KBS2 수목드라마)',\n",
       " '날 녹여주오',\n",
       " '동백꽃 필 무렵 (KBS2 수목드라마)',\n",
       " '조선로코 - 녹두전 (KBS2 월화드라마)',\n",
       " '나의 나라',\n",
       " '동백꽃 필 무렵 (KBS2 수목드라마)',\n",
       " '겨울왕국 2 (한국어 버전)',\n",
       " '동백꽃 필 무렵 (KBS2 수목드라마)',\n",
       " '동백꽃 필 무렵 (KBS2 수목드라마)',\n",
       " '동백꽃 필 무렵 (KBS2 수목드라마)',\n",
       " 'Frozen 2 (겨울왕국 2',\n",
       " 'Frozen 2 (겨울왕국 2',\n",
       " '보좌관2-세상을 움직이는 사람들']"
      ]
     },
     "execution_count": 123,
     "metadata": {},
     "output_type": "execute_result"
    }
   ],
   "source": [
    "drama_list"
   ]
  },
  {
   "cell_type": "code",
   "execution_count": 131,
   "metadata": {},
   "outputs": [
    {
     "data": {
      "text/plain": [
       "['이수,My Way',\n",
       " '폴킴,모든 날, 모든 순간 ',\n",
       " '문문 ,결혼',\n",
       " '멜로망스,짙어져',\n",
       " '에일리 ,첫눈처럼 너에게 가겠다',\n",
       " 'Sondia,어른',\n",
       " '양요섭,길에서',\n",
       " '김나영,그대만 보여서',\n",
       " '박효신,그 날 ',\n",
       " '이수현,소리',\n",
       " '멜로망스,좋은 날',\n",
       " '세븐틴,A-TEEN',\n",
       " '박원,이방인',\n",
       " '로이킴,왜 몰랐을까',\n",
       " '벤 ,미워도 다시 한 번',\n",
       " '뉴이스트 W,AND I',\n",
       " '백지영,See You Again ',\n",
       " '정승환,잘 지내요',\n",
       " '거미,지워져',\n",
       " '모트 ,도망가지마',\n",
       " '세정,정인 ',\n",
       " '10cm,Perfect',\n",
       " '벤 ,If You Were Me',\n",
       " '황치열,어찌 잊으오',\n",
       " '김민석,너에게',\n",
       " '첸 ,벚꽃연가',\n",
       " '다비치,꿈처럼 내린',\n",
       " '케이윌 ,내 생에 아름다운',\n",
       " '로시 ,구름',\n",
       " '웬디,Goodbye',\n",
       " '볼빨간사춘기,My Trouble',\n",
       " 'Queen,Bohemian Rhapsody ',\n",
       " 'Queen,Bohemian Rhapsody',\n",
       " 'Queen,Somebody To Love',\n",
       " '폴킴,사랑 알 수 없나봐',\n",
       " '에일리,Is You',\n",
       " '하진,We all lie',\n",
       " 'Queen,Radio Ga Ga ',\n",
       " '정승환,너였다면',\n",
       " '크러쉬 ,Beautiful',\n",
       " '에이핑크 ,%%',\n",
       " '양다일,I`m Here',\n",
       " '백아연,그대여야만 해요',\n",
       " '허각,Cosmos',\n",
       " '첸 ,Make it count',\n",
       " '잔나비,나는 볼 수 없던 이야기',\n",
       " '로시 ,레인보우 ',\n",
       " 'Post Malone & Swae Lee,Sunflower ',\n",
       " '성시경,니 곁이라면',\n",
       " '웬디,What If Love',\n",
       " '김나영,너의 모든 기억속에',\n",
       " '로꼬 ,우연히 봄',\n",
       " '백예린,스며들기 좋은 오늘',\n",
       " '세븐틴,9-TEEN',\n",
       " 'Naomi Scott,Speechless ',\n",
       " 'Mena Massoud, Naomi Scott,A Whole New World',\n",
       " '방탄소년단, Charli XCX,Dream Glow ',\n",
       " 'Will Smith,Arabian Nights ',\n",
       " 'Will Smith,Prince Ali',\n",
       " 'Will Smith,Friend Like Me',\n",
       " '방탄소년단, Zara Larsson,A Brand New Day ',\n",
       " 'Mena Massoud,One Jump Ahead',\n",
       " '장범준,손 닿으면',\n",
       " '방탄소년단, Juice WRLD,All Night ',\n",
       " '방탄소년단,Heartbeat',\n",
       " '마마무 ,WOW',\n",
       " '샘김,향기',\n",
       " '먼데이 키즈 ,Another Day',\n",
       " '김나영,조금 더 외로워지겠지',\n",
       " 'EXO-CBX ,누가 봐도 우린 ',\n",
       " '10cm,나의 어깨에 기대어요',\n",
       " '태연 ,그대라는 시',\n",
       " '헤이즈 ,내 맘을 볼 수 있나요',\n",
       " '양다일,너만 너만 너만',\n",
       " '청하,그 끝에 그대',\n",
       " '거미,기억해줘요 내 모든 날과 그때를',\n",
       " '옹성우,우리가 만난 이야기',\n",
       " '폴킴,안녕',\n",
       " '벤 ,내 목소리 들리니',\n",
       " '레드벨벳,어떤 별보다',\n",
       " '송하예,Say Goodbye',\n",
       " '김민석,Perhaps Love ',\n",
       " '펀치 ,Done For Me',\n",
       " '장범준,흔들리는 꽃들 속에서 네 샴푸향이 느껴진거야',\n",
       " '태용 ,러브 델루나',\n",
       " '존박,이상한 사람',\n",
       " '케이윌 ,네 앞에',\n",
       " '임한별,꽃처럼 예쁜 그대',\n",
       " '거미,가장 완벽한 날들',\n",
       " '정승환,그건 너이니까',\n",
       " '펀치 ,영화 속에 나오는 주인공처럼',\n",
       " '태연 ,숨겨진 세상 ',\n",
       " '김나영,그 무렵',\n",
       " '김필,겨울이 오면',\n",
       " '헤이즈 ,운명이 내게 말해요',\n",
       " 'Idina Menzel, AURORA,Into the Unknown',\n",
       " 'Idina Menzel, Evan Rachel Wood,Show Yourself',\n",
       " '벤 ,한숨만',\n",
       " 'Kristen Bell, Idina Menzel, Josh Gad, Jonathan Groff, Cast of Frozen 2Frozen 2 ,Some Things Never Change',\n",
       " 'Evan Rachel Wood,All Is Found',\n",
       " 'Kristen Bell,The Next Right Thing',\n",
       " 'Jonathan Groff,Lost in the Woods',\n",
       " 'Panic! At The Disco,Into the Unknown ',\n",
       " 'Josh Gad,When I Am Older',\n",
       " '박혜나, Aurora,숨겨진 세상 ',\n",
       " 'Idina Menzel,Let It Go',\n",
       " 'Jonathan Groff,Reindeer',\n",
       " '이용신,New Future',\n",
       " '이용신,Love Chronicle',\n",
       " '이용신,Myself',\n",
       " '이용신,Eternal Snow',\n",
       " '에일리 ,그저 바라본다',\n",
       " '10cm,우연인 듯 운명',\n",
       " '윤미래,Flower',\n",
       " '다비치,노을',\n",
       " '백현 ,너를 사랑하고 있어',\n",
       " '백예린,다시 난, 여기',\n",
       " '거미,너의 하루는 좀 어때',\n",
       " '김재환,어떤 날엔',\n",
       " '찬열 ,Go away go away',\n",
       " '이승철,내가 많이 사랑해요',\n",
       " '헤이즈 ,다 그렇지 뭐',\n",
       " '송가인,내 마음의 사진',\n",
       " '마마무 ,자꾸 더 보고싶은 사람',\n",
       " '양다일,사랑 이토록 어려운 말',\n",
       " '세정,나의 모든 날',\n",
       " '먼데이키즈 ,모르시죠',\n",
       " '청하,나의 그대',\n",
       " '선미,가라고 ',\n",
       " '크러쉬 ,둘만의 세상으로 가',\n",
       " '아이유 ,마음을 드려요',\n",
       " '가호 ,시작',\n",
       " '에이프릴 세컨드 ,그리움의 언덕',\n",
       " '김필,그때 그 아인',\n",
       " '하현우,돌덩이',\n",
       " '박원,내 차례',\n",
       " '윤미래,Say',\n",
       " '백현 ,너에게 가는 이 길 위에서 ',\n",
       " 'V,Sweet Night',\n",
       " '크러쉬 ,어떤 말도',\n",
       " '비와이,새로이 ',\n",
       " '규현 ,하루종일',\n",
       " '조이,좋은 사람 있으면 소개시켜줘',\n",
       " '조정석,아로하',\n",
       " '권진아,Lonely Night',\n",
       " '규현 ,화려하지 않은 고백',\n",
       " 'MC몽, 김재환,봄 같던 그녀가 춥대 ',\n",
       " '어반 자카파 ,그대 고운 내사랑',\n",
       " '곽진언,시청 앞 지하철 역에서',\n",
       " '자이언티,I Just Want To Stay With You']"
      ]
     },
     "execution_count": 131,
     "metadata": {},
     "output_type": "execute_result"
    }
   ],
   "source": [
    "temp"
   ]
  },
  {
   "cell_type": "code",
   "execution_count": 129,
   "metadata": {
    "scrolled": true
   },
   "outputs": [
    {
     "name": "stderr",
     "output_type": "stream",
     "text": [
      " 97%|█████████▋| 146/150 [05:16<00:08,  2.17s/it]\n"
     ]
    },
    {
     "ename": "NoSuchElementException",
     "evalue": "Message: no such element: Unable to locate element: {\"method\":\"css selector\",\"selector\":\"#body-content > div.search_song > div.search_result_detail > div > table > tbody > tr:nth-child(1) > td.link > a\"}\n  (Session info: chrome=81.0.4044.138)\n",
     "output_type": "error",
     "traceback": [
      "\u001b[0;31m---------------------------------------------------------------------------\u001b[0m",
      "\u001b[0;31mNoSuchElementException\u001b[0m                    Traceback (most recent call last)",
      "\u001b[0;32m<ipython-input-129-e2447d02cd4b>\u001b[0m in \u001b[0;36m<module>\u001b[0;34m\u001b[0m\n\u001b[1;32m     13\u001b[0m         \u001b[0mdriver\u001b[0m\u001b[0;34m.\u001b[0m\u001b[0mfind_elements_by_css_selector\u001b[0m\u001b[0;34m(\u001b[0m\u001b[0;34m'#frmGNB > fieldset > input.btn-submit'\u001b[0m\u001b[0;34m)\u001b[0m\u001b[0;34m[\u001b[0m\u001b[0;36m0\u001b[0m\u001b[0;34m]\u001b[0m\u001b[0;34m.\u001b[0m\u001b[0mclick\u001b[0m\u001b[0;34m(\u001b[0m\u001b[0;34m)\u001b[0m\u001b[0;34m\u001b[0m\u001b[0;34m\u001b[0m\u001b[0m\n\u001b[0;32m---> 14\u001b[0;31m         \u001b[0mdriver\u001b[0m\u001b[0;34m.\u001b[0m\u001b[0mfind_element_by_css_selector\u001b[0m\u001b[0;34m(\u001b[0m\u001b[0;34m'#body-content > div.search_song > div.search_result_detail > div > table > tbody > tr:nth-child(1) > td.link > a'\u001b[0m\u001b[0;34m)\u001b[0m\u001b[0;34m.\u001b[0m\u001b[0mclick\u001b[0m\u001b[0;34m(\u001b[0m\u001b[0;34m)\u001b[0m\u001b[0;34m\u001b[0m\u001b[0;34m\u001b[0m\u001b[0m\n\u001b[0m\u001b[1;32m     15\u001b[0m         \u001b[0mdrama\u001b[0m \u001b[0;34m=\u001b[0m \u001b[0mdriver\u001b[0m\u001b[0;34m.\u001b[0m\u001b[0mfind_element_by_css_selector\u001b[0m\u001b[0;34m(\u001b[0m\u001b[0;34m'#body-content > div.song-main-infos > div.info-zone > ul > li:nth-child(2) > span.value'\u001b[0m\u001b[0;34m)\u001b[0m\u001b[0;34m.\u001b[0m\u001b[0mtext\u001b[0m\u001b[0;34m\u001b[0m\u001b[0;34m\u001b[0m\u001b[0m\n",
      "\u001b[0;32m~/opt/anaconda3/lib/python3.7/site-packages/selenium/webdriver/remote/webdriver.py\u001b[0m in \u001b[0;36mfind_element_by_css_selector\u001b[0;34m(self, css_selector)\u001b[0m\n\u001b[1;32m    597\u001b[0m         \"\"\"\n\u001b[0;32m--> 598\u001b[0;31m         \u001b[0;32mreturn\u001b[0m \u001b[0mself\u001b[0m\u001b[0;34m.\u001b[0m\u001b[0mfind_element\u001b[0m\u001b[0;34m(\u001b[0m\u001b[0mby\u001b[0m\u001b[0;34m=\u001b[0m\u001b[0mBy\u001b[0m\u001b[0;34m.\u001b[0m\u001b[0mCSS_SELECTOR\u001b[0m\u001b[0;34m,\u001b[0m \u001b[0mvalue\u001b[0m\u001b[0;34m=\u001b[0m\u001b[0mcss_selector\u001b[0m\u001b[0;34m)\u001b[0m\u001b[0;34m\u001b[0m\u001b[0;34m\u001b[0m\u001b[0m\n\u001b[0m\u001b[1;32m    599\u001b[0m \u001b[0;34m\u001b[0m\u001b[0m\n",
      "\u001b[0;32m~/opt/anaconda3/lib/python3.7/site-packages/selenium/webdriver/remote/webdriver.py\u001b[0m in \u001b[0;36mfind_element\u001b[0;34m(self, by, value)\u001b[0m\n\u001b[1;32m    977\u001b[0m             \u001b[0;34m'using'\u001b[0m\u001b[0;34m:\u001b[0m \u001b[0mby\u001b[0m\u001b[0;34m,\u001b[0m\u001b[0;34m\u001b[0m\u001b[0;34m\u001b[0m\u001b[0m\n\u001b[0;32m--> 978\u001b[0;31m             'value': value})['value']\n\u001b[0m\u001b[1;32m    979\u001b[0m \u001b[0;34m\u001b[0m\u001b[0m\n",
      "\u001b[0;32m~/opt/anaconda3/lib/python3.7/site-packages/selenium/webdriver/remote/webdriver.py\u001b[0m in \u001b[0;36mexecute\u001b[0;34m(self, driver_command, params)\u001b[0m\n\u001b[1;32m    320\u001b[0m         \u001b[0;32mif\u001b[0m \u001b[0mresponse\u001b[0m\u001b[0;34m:\u001b[0m\u001b[0;34m\u001b[0m\u001b[0;34m\u001b[0m\u001b[0m\n\u001b[0;32m--> 321\u001b[0;31m             \u001b[0mself\u001b[0m\u001b[0;34m.\u001b[0m\u001b[0merror_handler\u001b[0m\u001b[0;34m.\u001b[0m\u001b[0mcheck_response\u001b[0m\u001b[0;34m(\u001b[0m\u001b[0mresponse\u001b[0m\u001b[0;34m)\u001b[0m\u001b[0;34m\u001b[0m\u001b[0;34m\u001b[0m\u001b[0m\n\u001b[0m\u001b[1;32m    322\u001b[0m             response['value'] = self._unwrap_value(\n",
      "\u001b[0;32m~/opt/anaconda3/lib/python3.7/site-packages/selenium/webdriver/remote/errorhandler.py\u001b[0m in \u001b[0;36mcheck_response\u001b[0;34m(self, response)\u001b[0m\n\u001b[1;32m    241\u001b[0m             \u001b[0;32mraise\u001b[0m \u001b[0mexception_class\u001b[0m\u001b[0;34m(\u001b[0m\u001b[0mmessage\u001b[0m\u001b[0;34m,\u001b[0m \u001b[0mscreen\u001b[0m\u001b[0;34m,\u001b[0m \u001b[0mstacktrace\u001b[0m\u001b[0;34m,\u001b[0m \u001b[0malert_text\u001b[0m\u001b[0;34m)\u001b[0m\u001b[0;34m\u001b[0m\u001b[0;34m\u001b[0m\u001b[0m\n\u001b[0;32m--> 242\u001b[0;31m         \u001b[0;32mraise\u001b[0m \u001b[0mexception_class\u001b[0m\u001b[0;34m(\u001b[0m\u001b[0mmessage\u001b[0m\u001b[0;34m,\u001b[0m \u001b[0mscreen\u001b[0m\u001b[0;34m,\u001b[0m \u001b[0mstacktrace\u001b[0m\u001b[0;34m)\u001b[0m\u001b[0;34m\u001b[0m\u001b[0;34m\u001b[0m\u001b[0m\n\u001b[0m\u001b[1;32m    243\u001b[0m \u001b[0;34m\u001b[0m\u001b[0m\n",
      "\u001b[0;31mNoSuchElementException\u001b[0m: Message: no such element: Unable to locate element: {\"method\":\"css selector\",\"selector\":\"#body-content > div.search_song > div.search_result_detail > div > table > tbody > tr:nth-child(1) > td.link > a\"}\n  (Session info: chrome=81.0.4044.138)\n",
      "\nDuring handling of the above exception, another exception occurred:\n",
      "\u001b[0;31mNoSuchElementException\u001b[0m                    Traceback (most recent call last)",
      "\u001b[0;32m<ipython-input-129-e2447d02cd4b>\u001b[0m in \u001b[0;36m<module>\u001b[0;34m\u001b[0m\n\u001b[1;32m     29\u001b[0m         \u001b[0melem\u001b[0m\u001b[0;34m.\u001b[0m\u001b[0msend_keys\u001b[0m\u001b[0;34m(\u001b[0m\u001b[0mi\u001b[0m\u001b[0;34m)\u001b[0m\u001b[0;34m\u001b[0m\u001b[0;34m\u001b[0m\u001b[0m\n\u001b[1;32m     30\u001b[0m         \u001b[0mdriver\u001b[0m\u001b[0;34m.\u001b[0m\u001b[0mfind_elements_by_css_selector\u001b[0m\u001b[0;34m(\u001b[0m\u001b[0;34m'#frmGNB > fieldset > input.btn-submit'\u001b[0m\u001b[0;34m)\u001b[0m\u001b[0;34m[\u001b[0m\u001b[0;36m0\u001b[0m\u001b[0;34m]\u001b[0m\u001b[0;34m.\u001b[0m\u001b[0mclick\u001b[0m\u001b[0;34m(\u001b[0m\u001b[0;34m)\u001b[0m\u001b[0;34m\u001b[0m\u001b[0;34m\u001b[0m\u001b[0m\n\u001b[0;32m---> 31\u001b[0;31m         \u001b[0mdriver\u001b[0m\u001b[0;34m.\u001b[0m\u001b[0mfind_element_by_css_selector\u001b[0m\u001b[0;34m(\u001b[0m\u001b[0;34m'#body-content > div.search_song > div.search_result_detail > div > table > tbody > tr:nth-child(1) > td.link > a'\u001b[0m\u001b[0;34m)\u001b[0m\u001b[0;34m.\u001b[0m\u001b[0mclick\u001b[0m\u001b[0;34m(\u001b[0m\u001b[0;34m)\u001b[0m\u001b[0;34m\u001b[0m\u001b[0;34m\u001b[0m\u001b[0m\n\u001b[0m\u001b[1;32m     32\u001b[0m         \u001b[0mdrama\u001b[0m \u001b[0;34m=\u001b[0m \u001b[0mdriver\u001b[0m\u001b[0;34m.\u001b[0m\u001b[0mfind_element_by_css_selector\u001b[0m\u001b[0;34m(\u001b[0m\u001b[0;34m'#body-content > div.song-main-infos > div.info-zone > ul > li:nth-child(3) > span.value'\u001b[0m\u001b[0;34m)\u001b[0m\u001b[0;34m.\u001b[0m\u001b[0mtext\u001b[0m\u001b[0;34m\u001b[0m\u001b[0;34m\u001b[0m\u001b[0m\n\u001b[1;32m     33\u001b[0m         \u001b[0;32mif\u001b[0m \u001b[0;34m'OST'\u001b[0m \u001b[0;32min\u001b[0m \u001b[0mdrama\u001b[0m\u001b[0;34m:\u001b[0m\u001b[0;34m\u001b[0m\u001b[0;34m\u001b[0m\u001b[0m\n",
      "\u001b[0;32m~/opt/anaconda3/lib/python3.7/site-packages/selenium/webdriver/remote/webdriver.py\u001b[0m in \u001b[0;36mfind_element_by_css_selector\u001b[0;34m(self, css_selector)\u001b[0m\n\u001b[1;32m    596\u001b[0m             \u001b[0melement\u001b[0m \u001b[0;34m=\u001b[0m \u001b[0mdriver\u001b[0m\u001b[0;34m.\u001b[0m\u001b[0mfind_element_by_css_selector\u001b[0m\u001b[0;34m(\u001b[0m\u001b[0;34m'#foo'\u001b[0m\u001b[0;34m)\u001b[0m\u001b[0;34m\u001b[0m\u001b[0;34m\u001b[0m\u001b[0m\n\u001b[1;32m    597\u001b[0m         \"\"\"\n\u001b[0;32m--> 598\u001b[0;31m         \u001b[0;32mreturn\u001b[0m \u001b[0mself\u001b[0m\u001b[0;34m.\u001b[0m\u001b[0mfind_element\u001b[0m\u001b[0;34m(\u001b[0m\u001b[0mby\u001b[0m\u001b[0;34m=\u001b[0m\u001b[0mBy\u001b[0m\u001b[0;34m.\u001b[0m\u001b[0mCSS_SELECTOR\u001b[0m\u001b[0;34m,\u001b[0m \u001b[0mvalue\u001b[0m\u001b[0;34m=\u001b[0m\u001b[0mcss_selector\u001b[0m\u001b[0;34m)\u001b[0m\u001b[0;34m\u001b[0m\u001b[0;34m\u001b[0m\u001b[0m\n\u001b[0m\u001b[1;32m    599\u001b[0m \u001b[0;34m\u001b[0m\u001b[0m\n\u001b[1;32m    600\u001b[0m     \u001b[0;32mdef\u001b[0m \u001b[0mfind_elements_by_css_selector\u001b[0m\u001b[0;34m(\u001b[0m\u001b[0mself\u001b[0m\u001b[0;34m,\u001b[0m \u001b[0mcss_selector\u001b[0m\u001b[0;34m)\u001b[0m\u001b[0;34m:\u001b[0m\u001b[0;34m\u001b[0m\u001b[0;34m\u001b[0m\u001b[0m\n",
      "\u001b[0;32m~/opt/anaconda3/lib/python3.7/site-packages/selenium/webdriver/remote/webdriver.py\u001b[0m in \u001b[0;36mfind_element\u001b[0;34m(self, by, value)\u001b[0m\n\u001b[1;32m    976\u001b[0m         return self.execute(Command.FIND_ELEMENT, {\n\u001b[1;32m    977\u001b[0m             \u001b[0;34m'using'\u001b[0m\u001b[0;34m:\u001b[0m \u001b[0mby\u001b[0m\u001b[0;34m,\u001b[0m\u001b[0;34m\u001b[0m\u001b[0;34m\u001b[0m\u001b[0m\n\u001b[0;32m--> 978\u001b[0;31m             'value': value})['value']\n\u001b[0m\u001b[1;32m    979\u001b[0m \u001b[0;34m\u001b[0m\u001b[0m\n\u001b[1;32m    980\u001b[0m     \u001b[0;32mdef\u001b[0m \u001b[0mfind_elements\u001b[0m\u001b[0;34m(\u001b[0m\u001b[0mself\u001b[0m\u001b[0;34m,\u001b[0m \u001b[0mby\u001b[0m\u001b[0;34m=\u001b[0m\u001b[0mBy\u001b[0m\u001b[0;34m.\u001b[0m\u001b[0mID\u001b[0m\u001b[0;34m,\u001b[0m \u001b[0mvalue\u001b[0m\u001b[0;34m=\u001b[0m\u001b[0;32mNone\u001b[0m\u001b[0;34m)\u001b[0m\u001b[0;34m:\u001b[0m\u001b[0;34m\u001b[0m\u001b[0;34m\u001b[0m\u001b[0m\n",
      "\u001b[0;32m~/opt/anaconda3/lib/python3.7/site-packages/selenium/webdriver/remote/webdriver.py\u001b[0m in \u001b[0;36mexecute\u001b[0;34m(self, driver_command, params)\u001b[0m\n\u001b[1;32m    319\u001b[0m         \u001b[0mresponse\u001b[0m \u001b[0;34m=\u001b[0m \u001b[0mself\u001b[0m\u001b[0;34m.\u001b[0m\u001b[0mcommand_executor\u001b[0m\u001b[0;34m.\u001b[0m\u001b[0mexecute\u001b[0m\u001b[0;34m(\u001b[0m\u001b[0mdriver_command\u001b[0m\u001b[0;34m,\u001b[0m \u001b[0mparams\u001b[0m\u001b[0;34m)\u001b[0m\u001b[0;34m\u001b[0m\u001b[0;34m\u001b[0m\u001b[0m\n\u001b[1;32m    320\u001b[0m         \u001b[0;32mif\u001b[0m \u001b[0mresponse\u001b[0m\u001b[0;34m:\u001b[0m\u001b[0;34m\u001b[0m\u001b[0;34m\u001b[0m\u001b[0m\n\u001b[0;32m--> 321\u001b[0;31m             \u001b[0mself\u001b[0m\u001b[0;34m.\u001b[0m\u001b[0merror_handler\u001b[0m\u001b[0;34m.\u001b[0m\u001b[0mcheck_response\u001b[0m\u001b[0;34m(\u001b[0m\u001b[0mresponse\u001b[0m\u001b[0;34m)\u001b[0m\u001b[0;34m\u001b[0m\u001b[0;34m\u001b[0m\u001b[0m\n\u001b[0m\u001b[1;32m    322\u001b[0m             response['value'] = self._unwrap_value(\n\u001b[1;32m    323\u001b[0m                 response.get('value', None))\n",
      "\u001b[0;32m~/opt/anaconda3/lib/python3.7/site-packages/selenium/webdriver/remote/errorhandler.py\u001b[0m in \u001b[0;36mcheck_response\u001b[0;34m(self, response)\u001b[0m\n\u001b[1;32m    240\u001b[0m                 \u001b[0malert_text\u001b[0m \u001b[0;34m=\u001b[0m \u001b[0mvalue\u001b[0m\u001b[0;34m[\u001b[0m\u001b[0;34m'alert'\u001b[0m\u001b[0;34m]\u001b[0m\u001b[0;34m.\u001b[0m\u001b[0mget\u001b[0m\u001b[0;34m(\u001b[0m\u001b[0;34m'text'\u001b[0m\u001b[0;34m)\u001b[0m\u001b[0;34m\u001b[0m\u001b[0;34m\u001b[0m\u001b[0m\n\u001b[1;32m    241\u001b[0m             \u001b[0;32mraise\u001b[0m \u001b[0mexception_class\u001b[0m\u001b[0;34m(\u001b[0m\u001b[0mmessage\u001b[0m\u001b[0;34m,\u001b[0m \u001b[0mscreen\u001b[0m\u001b[0;34m,\u001b[0m \u001b[0mstacktrace\u001b[0m\u001b[0;34m,\u001b[0m \u001b[0malert_text\u001b[0m\u001b[0;34m)\u001b[0m\u001b[0;34m\u001b[0m\u001b[0;34m\u001b[0m\u001b[0m\n\u001b[0;32m--> 242\u001b[0;31m         \u001b[0;32mraise\u001b[0m \u001b[0mexception_class\u001b[0m\u001b[0;34m(\u001b[0m\u001b[0mmessage\u001b[0m\u001b[0;34m,\u001b[0m \u001b[0mscreen\u001b[0m\u001b[0;34m,\u001b[0m \u001b[0mstacktrace\u001b[0m\u001b[0;34m)\u001b[0m\u001b[0;34m\u001b[0m\u001b[0;34m\u001b[0m\u001b[0m\n\u001b[0m\u001b[1;32m    243\u001b[0m \u001b[0;34m\u001b[0m\u001b[0m\n\u001b[1;32m    244\u001b[0m     \u001b[0;32mdef\u001b[0m \u001b[0m_value_or_default\u001b[0m\u001b[0;34m(\u001b[0m\u001b[0mself\u001b[0m\u001b[0;34m,\u001b[0m \u001b[0mobj\u001b[0m\u001b[0;34m,\u001b[0m \u001b[0mkey\u001b[0m\u001b[0;34m,\u001b[0m \u001b[0mdefault\u001b[0m\u001b[0;34m)\u001b[0m\u001b[0;34m:\u001b[0m\u001b[0;34m\u001b[0m\u001b[0;34m\u001b[0m\u001b[0m\n",
      "\u001b[0;31mNoSuchElementException\u001b[0m: Message: no such element: Unable to locate element: {\"method\":\"css selector\",\"selector\":\"#body-content > div.search_song > div.search_result_detail > div > table > tbody > tr:nth-child(1) > td.link > a\"}\n  (Session info: chrome=81.0.4044.138)\n"
     ]
    }
   ],
   "source": [
    "drama_list = []\n",
    "for i in tqdm(temp):\n",
    "    try:\n",
    "        if i == '로꼬 ,우연히 봄':\n",
    "            i = '우연히 봄'\n",
    "        if i == 'Kristen Bell, Idina Menzel, Josh Gad, Jonathan Groff, Cast of Frozen 2Frozen 2 ,Some Things Never Change':\n",
    "            i = 'Frozen 2 ,Some Things Never Change'\n",
    "        if i == '크러쉬 ,둘만의 세상으로 가':\n",
    "            i = 'Crush ,둘만의 세상으로 가'\n",
    "        elem = driver.find_element_by_id('sc-fd')\n",
    "        elem.clear()\n",
    "        elem.send_keys(i)\n",
    "        driver.find_elements_by_css_selector('#frmGNB > fieldset > input.btn-submit')[0].click()\n",
    "        driver.find_element_by_css_selector('#body-content > div.search_song > div.search_result_detail > div > table > tbody > tr:nth-child(1) > td.link > a').click()\n",
    "        drama = driver.find_element_by_css_selector('#body-content > div.song-main-infos > div.info-zone > ul > li:nth-child(2) > span.value').text\n",
    "        if 'OST' in drama:\n",
    "            drama_list.append(p.search(drama).group().strip())\n",
    "        else:\n",
    "            drama_list.append(drama)\n",
    "    except:\n",
    "        if i == '로꼬 ,우연히 봄':\n",
    "            i = '우연히 봄'\n",
    "        if i == 'Kristen Bell, Idina Menzel, Josh Gad, Jonathan Groff, Cast of Frozen 2Frozen 2 ,Some Things Never Change':\n",
    "            i = 'Frozen 2 ,Some Things Never Change'\n",
    "        if i == '크러쉬 ,둘만의 세상으로 가':\n",
    "            i = 'Crush ,둘만의 세상으로 가'\n",
    "        elem = driver.find_element_by_id('sc-fd')\n",
    "        elem.clear()\n",
    "        elem.send_keys(i)\n",
    "        driver.find_elements_by_css_selector('#frmGNB > fieldset > input.btn-submit')[0].click()\n",
    "        driver.find_element_by_css_selector('#body-content > div.search_song > div.search_result_detail > div > table > tbody > tr:nth-child(1) > td.link > a').click()\n",
    "        drama = driver.find_element_by_css_selector('#body-content > div.song-main-infos > div.info-zone > ul > li:nth-child(3) > span.value').text\n",
    "        if 'OST' in drama:\n",
    "            drama_list.append(p.search(drama).group().strip())\n",
    "        else:\n",
    "            drama_list.append(drama)\n",
    "    "
   ]
  },
  {
   "cell_type": "code",
   "execution_count": 133,
   "metadata": {},
   "outputs": [],
   "source": [
    "drama_list.append('X by X ［결핍]')"
   ]
  },
  {
   "cell_type": "code",
   "execution_count": 136,
   "metadata": {},
   "outputs": [],
   "source": [
    "drama_list.append('더 킹 : 영원의 군주')"
   ]
  },
  {
   "cell_type": "code",
   "execution_count": 139,
   "metadata": {},
   "outputs": [],
   "source": [
    "df_fin = pd.DataFrame(temp,columns=['artist'])"
   ]
  },
  {
   "cell_type": "code",
   "execution_count": 140,
   "metadata": {},
   "outputs": [],
   "source": [
    "df_fin['제목'] = drama_list"
   ]
  },
  {
   "cell_type": "code",
   "execution_count": 142,
   "metadata": {},
   "outputs": [],
   "source": [
    "df_fin.to_csv('드라마 리스트.csv')"
   ]
  },
  {
   "cell_type": "markdown",
   "metadata": {},
   "source": [
    "# 멜론 좋아요 뽑기"
   ]
  },
  {
   "cell_type": "code",
   "execution_count": 35,
   "metadata": {},
   "outputs": [],
   "source": [
    "driver.get('https://www.melon.com/search/total/index.htm?q=%EC%82%AC%EB%9E%91%EC%97%90+%EC%97%B0%EC%8A%B5%EC%9D%B4+%EC%9E%88%EC%97%88%EB%8B%A4%EB%A9%B4&section=&linkOrText=T&ipath=srch_form')"
   ]
  },
  {
   "cell_type": "code",
   "execution_count": 36,
   "metadata": {},
   "outputs": [],
   "source": [
    "likes = []"
   ]
  },
  {
   "cell_type": "code",
   "execution_count": 31,
   "metadata": {
    "scrolled": true
   },
   "outputs": [
    {
     "name": "stderr",
     "output_type": "stream",
     "text": [
      "\n",
      "\n",
      "\n",
      "  0%|          | 0/689 [00:00<?, ?it/s]\u001b[A\u001b[A\u001b[A\n"
     ]
    },
    {
     "ename": "NoSuchElementException",
     "evalue": "Message: no such element: Unable to locate element: {\"method\":\"css selector\",\"selector\":\"[id=\"top_search\"]\"}\n  (Session info: chrome=81.0.4044.129)\n",
     "output_type": "error",
     "traceback": [
      "\u001b[0;31m---------------------------------------------------------------------------\u001b[0m",
      "\u001b[0;31mNoSuchElementException\u001b[0m                    Traceback (most recent call last)",
      "\u001b[0;32m<ipython-input-31-91098ed94768>\u001b[0m in \u001b[0;36m<module>\u001b[0;34m\u001b[0m\n\u001b[1;32m      4\u001b[0m     \u001b[0;32mtry\u001b[0m\u001b[0;34m:\u001b[0m\u001b[0;34m\u001b[0m\u001b[0;34m\u001b[0m\u001b[0m\n\u001b[0;32m----> 5\u001b[0;31m         \u001b[0melem\u001b[0m \u001b[0;34m=\u001b[0m \u001b[0mdriver\u001b[0m\u001b[0;34m.\u001b[0m\u001b[0mfind_element_by_id\u001b[0m\u001b[0;34m(\u001b[0m\u001b[0;34m'top_search'\u001b[0m\u001b[0;34m)\u001b[0m\u001b[0;34m\u001b[0m\u001b[0;34m\u001b[0m\u001b[0m\n\u001b[0m\u001b[1;32m      6\u001b[0m         \u001b[0melem\u001b[0m\u001b[0;34m.\u001b[0m\u001b[0mclear\u001b[0m\u001b[0;34m(\u001b[0m\u001b[0;34m)\u001b[0m\u001b[0;34m\u001b[0m\u001b[0;34m\u001b[0m\u001b[0m\n",
      "\u001b[0;32m~/opt/anaconda3/lib/python3.7/site-packages/selenium/webdriver/remote/webdriver.py\u001b[0m in \u001b[0;36mfind_element_by_id\u001b[0;34m(self, id_)\u001b[0m\n\u001b[1;32m    359\u001b[0m         \"\"\"\n\u001b[0;32m--> 360\u001b[0;31m         \u001b[0;32mreturn\u001b[0m \u001b[0mself\u001b[0m\u001b[0;34m.\u001b[0m\u001b[0mfind_element\u001b[0m\u001b[0;34m(\u001b[0m\u001b[0mby\u001b[0m\u001b[0;34m=\u001b[0m\u001b[0mBy\u001b[0m\u001b[0;34m.\u001b[0m\u001b[0mID\u001b[0m\u001b[0;34m,\u001b[0m \u001b[0mvalue\u001b[0m\u001b[0;34m=\u001b[0m\u001b[0mid_\u001b[0m\u001b[0;34m)\u001b[0m\u001b[0;34m\u001b[0m\u001b[0;34m\u001b[0m\u001b[0m\n\u001b[0m\u001b[1;32m    361\u001b[0m \u001b[0;34m\u001b[0m\u001b[0m\n",
      "\u001b[0;32m~/opt/anaconda3/lib/python3.7/site-packages/selenium/webdriver/remote/webdriver.py\u001b[0m in \u001b[0;36mfind_element\u001b[0;34m(self, by, value)\u001b[0m\n\u001b[1;32m    977\u001b[0m             \u001b[0;34m'using'\u001b[0m\u001b[0;34m:\u001b[0m \u001b[0mby\u001b[0m\u001b[0;34m,\u001b[0m\u001b[0;34m\u001b[0m\u001b[0;34m\u001b[0m\u001b[0m\n\u001b[0;32m--> 978\u001b[0;31m             'value': value})['value']\n\u001b[0m\u001b[1;32m    979\u001b[0m \u001b[0;34m\u001b[0m\u001b[0m\n",
      "\u001b[0;32m~/opt/anaconda3/lib/python3.7/site-packages/selenium/webdriver/remote/webdriver.py\u001b[0m in \u001b[0;36mexecute\u001b[0;34m(self, driver_command, params)\u001b[0m\n\u001b[1;32m    320\u001b[0m         \u001b[0;32mif\u001b[0m \u001b[0mresponse\u001b[0m\u001b[0;34m:\u001b[0m\u001b[0;34m\u001b[0m\u001b[0;34m\u001b[0m\u001b[0m\n\u001b[0;32m--> 321\u001b[0;31m             \u001b[0mself\u001b[0m\u001b[0;34m.\u001b[0m\u001b[0merror_handler\u001b[0m\u001b[0;34m.\u001b[0m\u001b[0mcheck_response\u001b[0m\u001b[0;34m(\u001b[0m\u001b[0mresponse\u001b[0m\u001b[0;34m)\u001b[0m\u001b[0;34m\u001b[0m\u001b[0;34m\u001b[0m\u001b[0m\n\u001b[0m\u001b[1;32m    322\u001b[0m             response['value'] = self._unwrap_value(\n",
      "\u001b[0;32m~/opt/anaconda3/lib/python3.7/site-packages/selenium/webdriver/remote/errorhandler.py\u001b[0m in \u001b[0;36mcheck_response\u001b[0;34m(self, response)\u001b[0m\n\u001b[1;32m    241\u001b[0m             \u001b[0;32mraise\u001b[0m \u001b[0mexception_class\u001b[0m\u001b[0;34m(\u001b[0m\u001b[0mmessage\u001b[0m\u001b[0;34m,\u001b[0m \u001b[0mscreen\u001b[0m\u001b[0;34m,\u001b[0m \u001b[0mstacktrace\u001b[0m\u001b[0;34m,\u001b[0m \u001b[0malert_text\u001b[0m\u001b[0;34m)\u001b[0m\u001b[0;34m\u001b[0m\u001b[0;34m\u001b[0m\u001b[0m\n\u001b[0;32m--> 242\u001b[0;31m         \u001b[0;32mraise\u001b[0m \u001b[0mexception_class\u001b[0m\u001b[0;34m(\u001b[0m\u001b[0mmessage\u001b[0m\u001b[0;34m,\u001b[0m \u001b[0mscreen\u001b[0m\u001b[0;34m,\u001b[0m \u001b[0mstacktrace\u001b[0m\u001b[0;34m)\u001b[0m\u001b[0;34m\u001b[0m\u001b[0;34m\u001b[0m\u001b[0m\n\u001b[0m\u001b[1;32m    243\u001b[0m \u001b[0;34m\u001b[0m\u001b[0m\n",
      "\u001b[0;31mNoSuchElementException\u001b[0m: Message: no such element: Unable to locate element: {\"method\":\"css selector\",\"selector\":\"[id=\"top_search\"]\"}\n  (Session info: chrome=81.0.4044.129)\n",
      "\nDuring handling of the above exception, another exception occurred:\n",
      "\u001b[0;31mNoSuchElementException\u001b[0m                    Traceback (most recent call last)",
      "\u001b[0;32m<ipython-input-31-91098ed94768>\u001b[0m in \u001b[0;36m<module>\u001b[0;34m\u001b[0m\n\u001b[1;32m     16\u001b[0m     \u001b[0;32mexcept\u001b[0m\u001b[0;34m:\u001b[0m\u001b[0;34m\u001b[0m\u001b[0;34m\u001b[0m\u001b[0m\n\u001b[1;32m     17\u001b[0m         \u001b[0mi\u001b[0m \u001b[0;34m=\u001b[0m \u001b[0mi\u001b[0m\u001b[0;34m.\u001b[0m\u001b[0msplit\u001b[0m\u001b[0;34m(\u001b[0m\u001b[0;34m','\u001b[0m\u001b[0;34m)\u001b[0m\u001b[0;34m\u001b[0m\u001b[0;34m\u001b[0m\u001b[0m\n\u001b[0;32m---> 18\u001b[0;31m         \u001b[0melem\u001b[0m \u001b[0;34m=\u001b[0m \u001b[0mdriver\u001b[0m\u001b[0;34m.\u001b[0m\u001b[0mfind_element_by_id\u001b[0m\u001b[0;34m(\u001b[0m\u001b[0;34m'top_search'\u001b[0m\u001b[0;34m)\u001b[0m\u001b[0;34m\u001b[0m\u001b[0;34m\u001b[0m\u001b[0m\n\u001b[0m\u001b[1;32m     19\u001b[0m         \u001b[0melem\u001b[0m\u001b[0;34m.\u001b[0m\u001b[0mclear\u001b[0m\u001b[0;34m(\u001b[0m\u001b[0;34m)\u001b[0m\u001b[0;34m\u001b[0m\u001b[0;34m\u001b[0m\u001b[0m\n\u001b[1;32m     20\u001b[0m         \u001b[0melem\u001b[0m\u001b[0;34m.\u001b[0m\u001b[0msend_keys\u001b[0m\u001b[0;34m(\u001b[0m\u001b[0;34m'{0}'\u001b[0m\u001b[0;34m.\u001b[0m\u001b[0mformat\u001b[0m\u001b[0;34m(\u001b[0m\u001b[0mi\u001b[0m\u001b[0;34m[\u001b[0m\u001b[0;36m1\u001b[0m\u001b[0;34m]\u001b[0m\u001b[0;34m)\u001b[0m\u001b[0;34m)\u001b[0m\u001b[0;34m\u001b[0m\u001b[0;34m\u001b[0m\u001b[0m\n",
      "\u001b[0;32m~/opt/anaconda3/lib/python3.7/site-packages/selenium/webdriver/remote/webdriver.py\u001b[0m in \u001b[0;36mfind_element_by_id\u001b[0;34m(self, id_)\u001b[0m\n\u001b[1;32m    358\u001b[0m             \u001b[0melement\u001b[0m \u001b[0;34m=\u001b[0m \u001b[0mdriver\u001b[0m\u001b[0;34m.\u001b[0m\u001b[0mfind_element_by_id\u001b[0m\u001b[0;34m(\u001b[0m\u001b[0;34m'foo'\u001b[0m\u001b[0;34m)\u001b[0m\u001b[0;34m\u001b[0m\u001b[0;34m\u001b[0m\u001b[0m\n\u001b[1;32m    359\u001b[0m         \"\"\"\n\u001b[0;32m--> 360\u001b[0;31m         \u001b[0;32mreturn\u001b[0m \u001b[0mself\u001b[0m\u001b[0;34m.\u001b[0m\u001b[0mfind_element\u001b[0m\u001b[0;34m(\u001b[0m\u001b[0mby\u001b[0m\u001b[0;34m=\u001b[0m\u001b[0mBy\u001b[0m\u001b[0;34m.\u001b[0m\u001b[0mID\u001b[0m\u001b[0;34m,\u001b[0m \u001b[0mvalue\u001b[0m\u001b[0;34m=\u001b[0m\u001b[0mid_\u001b[0m\u001b[0;34m)\u001b[0m\u001b[0;34m\u001b[0m\u001b[0;34m\u001b[0m\u001b[0m\n\u001b[0m\u001b[1;32m    361\u001b[0m \u001b[0;34m\u001b[0m\u001b[0m\n\u001b[1;32m    362\u001b[0m     \u001b[0;32mdef\u001b[0m \u001b[0mfind_elements_by_id\u001b[0m\u001b[0;34m(\u001b[0m\u001b[0mself\u001b[0m\u001b[0;34m,\u001b[0m \u001b[0mid_\u001b[0m\u001b[0;34m)\u001b[0m\u001b[0;34m:\u001b[0m\u001b[0;34m\u001b[0m\u001b[0;34m\u001b[0m\u001b[0m\n",
      "\u001b[0;32m~/opt/anaconda3/lib/python3.7/site-packages/selenium/webdriver/remote/webdriver.py\u001b[0m in \u001b[0;36mfind_element\u001b[0;34m(self, by, value)\u001b[0m\n\u001b[1;32m    976\u001b[0m         return self.execute(Command.FIND_ELEMENT, {\n\u001b[1;32m    977\u001b[0m             \u001b[0;34m'using'\u001b[0m\u001b[0;34m:\u001b[0m \u001b[0mby\u001b[0m\u001b[0;34m,\u001b[0m\u001b[0;34m\u001b[0m\u001b[0;34m\u001b[0m\u001b[0m\n\u001b[0;32m--> 978\u001b[0;31m             'value': value})['value']\n\u001b[0m\u001b[1;32m    979\u001b[0m \u001b[0;34m\u001b[0m\u001b[0m\n\u001b[1;32m    980\u001b[0m     \u001b[0;32mdef\u001b[0m \u001b[0mfind_elements\u001b[0m\u001b[0;34m(\u001b[0m\u001b[0mself\u001b[0m\u001b[0;34m,\u001b[0m \u001b[0mby\u001b[0m\u001b[0;34m=\u001b[0m\u001b[0mBy\u001b[0m\u001b[0;34m.\u001b[0m\u001b[0mID\u001b[0m\u001b[0;34m,\u001b[0m \u001b[0mvalue\u001b[0m\u001b[0;34m=\u001b[0m\u001b[0;32mNone\u001b[0m\u001b[0;34m)\u001b[0m\u001b[0;34m:\u001b[0m\u001b[0;34m\u001b[0m\u001b[0;34m\u001b[0m\u001b[0m\n",
      "\u001b[0;32m~/opt/anaconda3/lib/python3.7/site-packages/selenium/webdriver/remote/webdriver.py\u001b[0m in \u001b[0;36mexecute\u001b[0;34m(self, driver_command, params)\u001b[0m\n\u001b[1;32m    319\u001b[0m         \u001b[0mresponse\u001b[0m \u001b[0;34m=\u001b[0m \u001b[0mself\u001b[0m\u001b[0;34m.\u001b[0m\u001b[0mcommand_executor\u001b[0m\u001b[0;34m.\u001b[0m\u001b[0mexecute\u001b[0m\u001b[0;34m(\u001b[0m\u001b[0mdriver_command\u001b[0m\u001b[0;34m,\u001b[0m \u001b[0mparams\u001b[0m\u001b[0;34m)\u001b[0m\u001b[0;34m\u001b[0m\u001b[0;34m\u001b[0m\u001b[0m\n\u001b[1;32m    320\u001b[0m         \u001b[0;32mif\u001b[0m \u001b[0mresponse\u001b[0m\u001b[0;34m:\u001b[0m\u001b[0;34m\u001b[0m\u001b[0;34m\u001b[0m\u001b[0m\n\u001b[0;32m--> 321\u001b[0;31m             \u001b[0mself\u001b[0m\u001b[0;34m.\u001b[0m\u001b[0merror_handler\u001b[0m\u001b[0;34m.\u001b[0m\u001b[0mcheck_response\u001b[0m\u001b[0;34m(\u001b[0m\u001b[0mresponse\u001b[0m\u001b[0;34m)\u001b[0m\u001b[0;34m\u001b[0m\u001b[0;34m\u001b[0m\u001b[0m\n\u001b[0m\u001b[1;32m    322\u001b[0m             response['value'] = self._unwrap_value(\n\u001b[1;32m    323\u001b[0m                 response.get('value', None))\n",
      "\u001b[0;32m~/opt/anaconda3/lib/python3.7/site-packages/selenium/webdriver/remote/errorhandler.py\u001b[0m in \u001b[0;36mcheck_response\u001b[0;34m(self, response)\u001b[0m\n\u001b[1;32m    240\u001b[0m                 \u001b[0malert_text\u001b[0m \u001b[0;34m=\u001b[0m \u001b[0mvalue\u001b[0m\u001b[0;34m[\u001b[0m\u001b[0;34m'alert'\u001b[0m\u001b[0;34m]\u001b[0m\u001b[0;34m.\u001b[0m\u001b[0mget\u001b[0m\u001b[0;34m(\u001b[0m\u001b[0;34m'text'\u001b[0m\u001b[0;34m)\u001b[0m\u001b[0;34m\u001b[0m\u001b[0;34m\u001b[0m\u001b[0m\n\u001b[1;32m    241\u001b[0m             \u001b[0;32mraise\u001b[0m \u001b[0mexception_class\u001b[0m\u001b[0;34m(\u001b[0m\u001b[0mmessage\u001b[0m\u001b[0;34m,\u001b[0m \u001b[0mscreen\u001b[0m\u001b[0;34m,\u001b[0m \u001b[0mstacktrace\u001b[0m\u001b[0;34m,\u001b[0m \u001b[0malert_text\u001b[0m\u001b[0;34m)\u001b[0m\u001b[0;34m\u001b[0m\u001b[0;34m\u001b[0m\u001b[0m\n\u001b[0;32m--> 242\u001b[0;31m         \u001b[0;32mraise\u001b[0m \u001b[0mexception_class\u001b[0m\u001b[0;34m(\u001b[0m\u001b[0mmessage\u001b[0m\u001b[0;34m,\u001b[0m \u001b[0mscreen\u001b[0m\u001b[0;34m,\u001b[0m \u001b[0mstacktrace\u001b[0m\u001b[0;34m)\u001b[0m\u001b[0;34m\u001b[0m\u001b[0;34m\u001b[0m\u001b[0m\n\u001b[0m\u001b[1;32m    243\u001b[0m \u001b[0;34m\u001b[0m\u001b[0m\n\u001b[1;32m    244\u001b[0m     \u001b[0;32mdef\u001b[0m \u001b[0m_value_or_default\u001b[0m\u001b[0;34m(\u001b[0m\u001b[0mself\u001b[0m\u001b[0;34m,\u001b[0m \u001b[0mobj\u001b[0m\u001b[0;34m,\u001b[0m \u001b[0mkey\u001b[0m\u001b[0;34m,\u001b[0m \u001b[0mdefault\u001b[0m\u001b[0;34m)\u001b[0m\u001b[0;34m:\u001b[0m\u001b[0;34m\u001b[0m\u001b[0;34m\u001b[0m\u001b[0m\n",
      "\u001b[0;31mNoSuchElementException\u001b[0m: Message: no such element: Unable to locate element: {\"method\":\"css selector\",\"selector\":\"[id=\"top_search\"]\"}\n  (Session info: chrome=81.0.4044.129)\n"
     ]
    }
   ],
   "source": [
    "# 중간에 계속 팅기는 문제 발생. \n",
    "# 시간 텀 줘도 계속 팅기는 문제 생김\n",
    "count = 0\n",
    "for i in tqdm(list1):\n",
    "    try:\n",
    "        elem = driver.find_element_by_id('top_search')\n",
    "        elem.clear()\n",
    "        elem.send_keys(i)\n",
    "        driver.find_element_by_css_selector('#header_wrap > div.wrap_search_field > fieldset > button.btn_icon.search_m > span').click()\n",
    "        like = int(driver.find_element_by_css_selector('#frm_songList > div > table > tbody > tr:nth-child(1) > td:nth-child(6) > div > button > span.cnt').text.replace(',',''))\n",
    "        likes.append(like)\n",
    "        if count == 5:\n",
    "            time.sleep(10)\n",
    "            count = 0\n",
    "        else:\n",
    "            count += 1\n",
    "    except:\n",
    "        i = i.split(',')\n",
    "        elem = driver.find_element_by_id('top_search')\n",
    "        elem.clear()\n",
    "        elem.send_keys('{0}'.format(i[1]))\n",
    "        driver.find_element_by_css_selector('#header_wrap > div.wrap_search_field > fieldset > button.btn_icon.search_m > span').click()\n",
    "        like = int(driver.find_element_by_css_selector('#frm_searchSong > div > table > tbody > tr:nth-child(1) > td:nth-child(6) > div > button > span.cnt').text.replace(',',''))\n",
    "        likes.append(like)\n",
    "        if count == 5:\n",
    "            time.sleep(10)\n",
    "            count = 0\n",
    "        else:\n",
    "            count += 1"
   ]
  },
  {
   "cell_type": "code",
   "execution_count": null,
   "metadata": {},
   "outputs": [],
   "source": [
    "\n"
   ]
  }
 ],
 "metadata": {
  "kernelspec": {
   "display_name": "Python 3",
   "language": "python",
   "name": "python3"
  },
  "language_info": {
   "codemirror_mode": {
    "name": "ipython",
    "version": 3
   },
   "file_extension": ".py",
   "mimetype": "text/x-python",
   "name": "python",
   "nbconvert_exporter": "python",
   "pygments_lexer": "ipython3",
   "version": "3.7.4"
  }
 },
 "nbformat": 4,
 "nbformat_minor": 2
}
