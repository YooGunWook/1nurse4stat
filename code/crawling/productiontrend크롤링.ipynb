{
 "cells": [
  {
   "cell_type": "code",
   "execution_count": 1,
   "metadata": {},
   "outputs": [],
   "source": [
    "import numpy as np\n",
    "import pandas as pd\n",
    "from bs4 import BeautifulSoup\n",
    "import urllib\n",
    "from urllib import request\n",
    "import re\n",
    "import json\n",
    "from tqdm import tqdm\n",
    "import datetime"
   ]
  },
  {
   "cell_type": "code",
   "execution_count": 2,
   "metadata": {},
   "outputs": [],
   "source": [
    "data = pd.read_csv(\"C:/Users/dhxog/Documents/카카오톡 받은 파일/youtube_merge_final.csv\")\n"
   ]
  },
  {
   "cell_type": "code",
   "execution_count": 3,
   "metadata": {},
   "outputs": [],
   "source": [
    "production = data[\"production\"]\n",
    "productionname = list()\n",
    "for i in np.arange(len(production)):\n",
    "    productionname.append(production[i])\n",
    "temp = set(productionname)\n",
    "temp = list(temp)"
   ]
  },
  {
   "cell_type": "code",
   "execution_count": 4,
   "metadata": {},
   "outputs": [],
   "source": [
    "temp.remove('Def Jam Recordings, a division of UMG Recordings, Inc')"
   ]
  },
  {
   "cell_type": "code",
   "execution_count": 5,
   "metadata": {},
   "outputs": [],
   "source": [
    "production = list()\n",
    "for i in np.arange(len(temp)):\n",
    "    production = production + temp[i].split(\",\")\n",
    "m = re.compile(\".+(?=\\()\")\n",
    "productionname = list()\n",
    "for i in np.arange(len(production)):\n",
    "    t = m.search(production[i])\n",
    "    if t == None:\n",
    "        productionname.append(production[i])\n",
    "    else:\n",
    "        productionname.append(t.group())\n",
    "production = list()\n",
    "for i in np.arange(len(productionname)):\n",
    "    production.append(productionname[i].strip())\n",
    "temp = set(production)\n",
    "production = list(temp)"
   ]
  },
  {
   "cell_type": "code",
   "execution_count": 6,
   "metadata": {},
   "outputs": [],
   "source": [
    "client_id = \"RLpoOMH7S702D1xpvVfA\"\n",
    "client_secret = \"RbICRLuPbD\"\n",
    "url = \"https://openapi.naver.com/v1/datalab/search\";"
   ]
  },
  {
   "cell_type": "code",
   "execution_count": 7,
   "metadata": {},
   "outputs": [],
   "source": [
    "request = urllib.request.Request(url)\n",
    "request.add_header(\"X-Naver-Client-Id\",client_id)\n",
    "request.add_header(\"X-Naver-Client-Secret\",client_secret)\n",
    "request.add_header(\"Content-Type\",\"application/json\")"
   ]
  },
  {
   "cell_type": "code",
   "execution_count": 8,
   "metadata": {},
   "outputs": [],
   "source": [
    "keywords = production"
   ]
  },
  {
   "cell_type": "code",
   "execution_count": 9,
   "metadata": {},
   "outputs": [
    {
     "name": "stderr",
     "output_type": "stream",
     "text": [
      "100%|██████████| 296/296 [00:46<00:00,  6.38it/s]\n"
     ]
    }
   ],
   "source": [
    "productiontrend = pd.DataFrame()\n",
    "indexlist = list()\n",
    "for i in tqdm(np.arange(0, len(keywords))):\n",
    "\n",
    "    bodytext = {\"startDate\":\"2018-04-22\",\n",
    "            \"endDate\":\"2020-04-25\",\n",
    "            \"timeUnit\":\"week\",\n",
    "            \"keywordGroups\":[{\"groupName\":\"{}\".format(keywords[i]),\n",
    "                              \"keywords\": [\"{}\".format(keywords[i])]}]\n",
    "                             }\n",
    "\n",
    "    body = json.dumps(bodytext,ensure_ascii = False )\n",
    "    response = urllib.request.urlopen(request, data=body.encode(\"utf-8\"))\n",
    "    rescode = response.getcode()\n",
    "    if(rescode==200):\n",
    "        response_body = response.read()\n",
    "        scraped = response_body.decode('utf-8')\n",
    "    else:\n",
    "            print(\"Error Code:\" + rescode)\n",
    "    result = json.loads(scraped)\n",
    "    data = result[\"results\"][0][\"data\"]\n",
    "    time = list(i[\"period\"] for i in data)\n",
    "    value = pd.DataFrame(i[\"ratio\"] for i in data)\n",
    "    \n",
    "    # 실행이 되는 index만 뽑아준다\n",
    "    if str(value) != 'Empty DataFrame\\nColumns: []\\nIndex: []':\n",
    "        indexlist = indexlist + [keywords[i]]\n",
    "    \n",
    "    \n",
    "    productiontrend = productiontrend.append(np.transpose(value))"
   ]
  },
  {
   "cell_type": "code",
   "execution_count": 10,
   "metadata": {},
   "outputs": [],
   "source": [
    "productiontrend.columns = time\n",
    "productiontrend.index = indexlist"
   ]
  },
  {
   "cell_type": "code",
   "execution_count": 16,
   "metadata": {
    "scrolled": false
   },
   "outputs": [],
   "source": [
    "productiontrend = np.transpose(productiontrend.fillna(0))"
   ]
  },
  {
   "cell_type": "code",
   "execution_count": 17,
   "metadata": {},
   "outputs": [],
   "source": [
    "productiontrend.to_csv(\"소속사trend크롤링.csv\", mode = 'w', encoding = 'utf-8-sig')"
   ]
  }
 ],
 "metadata": {
  "kernelspec": {
   "display_name": "Python 3",
   "language": "python",
   "name": "python3"
  },
  "language_info": {
   "codemirror_mode": {
    "name": "ipython",
    "version": 3
   },
   "file_extension": ".py",
   "mimetype": "text/x-python",
   "name": "python",
   "nbconvert_exporter": "python",
   "pygments_lexer": "ipython3",
   "version": "3.7.6"
  }
 },
 "nbformat": 4,
 "nbformat_minor": 4
}
