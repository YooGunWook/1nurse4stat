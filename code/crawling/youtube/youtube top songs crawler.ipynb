{
 "cells": [
  {
   "cell_type": "markdown",
   "metadata": {},
   "source": [
    "# 참고사이트 :\n",
    "[Python Basic](https://woolbro.tistory.com/35)"
   ]
  },
  {
   "cell_type": "code",
   "execution_count": 15,
   "metadata": {},
   "outputs": [],
   "source": [
    "import csv"
   ]
  },
  {
   "cell_type": "code",
   "execution_count": 16,
   "metadata": {},
   "outputs": [
    {
     "name": "stdout",
     "output_type": "stream",
     "text": [
      "<_csv.reader object at 0x00000271171A0938>\n",
      "<class '_csv.reader'>\n",
      "['__class__', '__delattr__', '__dir__', '__doc__', '__eq__', '__format__', '__ge__', '__getattribute__', '__gt__', '__hash__', '__init__', '__init_subclass__', '__iter__', '__le__', '__lt__', '__ne__', '__new__', '__next__', '__reduce__', '__reduce_ex__', '__repr__', '__setattr__', '__sizeof__', '__str__', '__subclasshook__', 'dialect', 'line_num']\n"
     ]
    }
   ],
   "source": [
    "with open('C:/Users/user/Desktop/Goat/python/Desaip/weekday.csv','r') as f:\n",
    "    reader = csv.reader(f)\n",
    "    print(reader)\n",
    "    print(type(reader))\n",
    "    print(dir(reader))"
   ]
  },
  {
   "cell_type": "code",
   "execution_count": 17,
   "metadata": {},
   "outputs": [],
   "source": [
    " with open('C:/Users/user/Desktop/Goat/python/Desaip/weekday.csv','r') as f:\n",
    "    reader = csv.reader(f)   \n",
    "    weeks = list(reader)"
   ]
  },
  {
   "cell_type": "code",
   "execution_count": 18,
   "metadata": {},
   "outputs": [],
   "source": [
    "weeks=['20200424-20200430','20200501-20200507']"
   ]
  },
  {
   "cell_type": "code",
   "execution_count": 4,
   "metadata": {},
   "outputs": [],
   "source": [
    "weeks=[]\n",
    "f=open('C:/Users/user/Desktop/Goat/python/Desaip/weekday.csv','r')\n",
    "reader=csv.reader(f)\n",
    "for row in reader:\n",
    "    weeks.append(row[0])"
   ]
  },
  {
   "cell_type": "code",
   "execution_count": 19,
   "metadata": {},
   "outputs": [],
   "source": [
    "urls=[]\n",
    "for i in range(0,len(weeks)):\n",
    "    urls.append('https://charts.youtube.com/charts/TopSongs/kr/'+str(weeks[i])+'?hl=ko')"
   ]
  },
  {
   "cell_type": "code",
   "execution_count": 20,
   "metadata": {},
   "outputs": [],
   "source": [
    "from selenium import webdriver\n",
    "from selenium.webdriver import Chrome, ChromeOptions\n",
    "from selenium.webdriver.common.keys import Keys\n",
    "from bs4 import BeautifulSoup"
   ]
  },
  {
   "cell_type": "markdown",
   "metadata": {},
   "source": [
    "## Headless Chrome 사용\n",
    "페이지를 열 때 브라우저를 안 띄우도록 제어"
   ]
  },
  {
   "cell_type": "code",
   "execution_count": 21,
   "metadata": {},
   "outputs": [],
   "source": [
    "youtube_topsongs_chart=[]\n",
    "\n",
    "for i in range(0,len(urls)):\n",
    "    options=ChromeOptions()\n",
    "    options.add_argument('--headless')\n",
    "    driver = webdriver.Chrome('C:/chromedriver_win32/chromedriver.exe',options=options)\n",
    "    driver.get(urls[i])\n",
    "    page = driver.page_source\n",
    "    \n",
    "    soup = BeautifulSoup(page,'lxml')\n",
    "    all_title = soup.find_all('span','ytmc-ellipsis-text style-scope')\n",
    "    titles = [soup.find_all('span','ytmc-ellipsis-text style-scope')[n].string for n in range(0,len(all_title))]\n",
    "    titles[0:2]=[]\n",
    "    \n",
    "    channel = titles[1::2]\n",
    "    title = titles[::2]\n",
    "    \n",
    "    c = soup.find_all('span','style-scope ytmc-chart-table')\n",
    "    views =[soup.find_all('span','style-scope ytmc-chart-table')[n].string for n in range(0,len(c))]\n",
    "\n",
    "    n = 5\n",
    "    views_res = [views[j*n:(j+1)*n] for j in\n",
    "                 range(len(views) // n)]\n",
    "\n",
    "    music_chart=[]\n",
    "    for k in range(0,len(title)):\n",
    "        roww = []\n",
    "        roww.append(weeks[i])\n",
    "        roww.append(str(k+1)+\"위\")\n",
    "        roww.append(title[k])\n",
    "        roww.append(channel[k])\n",
    "        roww.append(views_res[k][0])\n",
    "        roww.append(views_res[k][2])\n",
    "        roww.append(views_res[k][3])\n",
    "        roww.append(views_res[k][4])\n",
    "        music_chart.append(roww)\t\t\t#2차원 list로 만들어줌\n",
    "\n",
    "    youtube_topsongs_chart.extend(music_chart)"
   ]
  },
  {
   "cell_type": "markdown",
   "metadata": {},
   "source": [
    "# csv 형태로 저장하기\n",
    "\n",
    "## 저장된 csv를 바로 실행하면 한글이 깨져있는 것을 확인할 수 있다. 이를 해결하기 위한 절차는 아래와 같다.\n",
    "\n",
    "### 저장된 csv 파일을 메모장으로 실행\n",
    "### 다른 이름 저장 ->  인코딩을 ANSI로 지정 (파일형식:csv)\n",
    "### 엑셀로 실행\n",
    "#### * csvfile=open() 내부에 저장 위치 지정"
   ]
  },
  {
   "cell_type": "code",
   "execution_count": 11,
   "metadata": {},
   "outputs": [],
   "source": [
    "csvfile = open(\"C:/Users/user/Desktop/Goat/python/Desaip/topsongs_chart.csv\",\"w\",-1, \"utf-8\",newline='')\n",
    "csvwriter = csv.writer(csvfile)\n",
    "for row in youtube_topsongs_chart:\n",
    "    csvwriter.writerow(row)\n",
    "csvfile.close()"
   ]
  },
  {
   "cell_type": "code",
   "execution_count": null,
   "metadata": {},
   "outputs": [],
   "source": []
  }
 ],
 "metadata": {
  "kernelspec": {
   "display_name": "Python 3",
   "language": "python",
   "name": "python3"
  },
  "language_info": {
   "codemirror_mode": {
    "name": "ipython",
    "version": 3
   },
   "file_extension": ".py",
   "mimetype": "text/x-python",
   "name": "python",
   "nbconvert_exporter": "python",
   "pygments_lexer": "ipython3",
   "version": "3.6.10"
  }
 },
 "nbformat": 4,
 "nbformat_minor": 4
}
