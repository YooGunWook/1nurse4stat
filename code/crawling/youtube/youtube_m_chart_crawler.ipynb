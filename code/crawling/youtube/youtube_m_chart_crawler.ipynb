{
 "cells": [
  {
   "cell_type": "markdown",
   "metadata": {},
   "source": [
    "# 참고사이트 :\n",
    "[파이썬을 이용한 유튜브 채널 크롤링, csv파일로 만들기](https://jh-0323.tistory.com/entry/%ED%8C%8C%EC%9D%B4%EC%8D%AC%EC%9D%84-%EC%9D%B4%EC%9A%A9%ED%95%9C-%EC%9C%A0%ED%8A%9C%EB%B8%8C-%EC%B1%84%EB%84%90-%ED%81%AC%EB%A1%A4%EB%A7%81-csv%ED%8C%8C%EC%9D%BC%EB%A1%9C-%EB%A7%8C%EB%93%A4%EA%B8%B0)"
   ]
  },
  {
   "cell_type": "code",
   "execution_count": 15,
   "metadata": {},
   "outputs": [],
   "source": [
    "from selenium import webdriver\n",
    "from selenium.webdriver.common.keys import Keys\n",
    "from bs4 import BeautifulSoup"
   ]
  },
  {
   "cell_type": "code",
   "execution_count": 16,
   "metadata": {},
   "outputs": [],
   "source": [
    "### * 크롬 웹드라이버 설치 후, webdriver.Chrome() 내부에 경로 입력"
   ]
  },
  {
   "cell_type": "code",
   "execution_count": 17,
   "metadata": {
    "scrolled": true
   },
   "outputs": [],
   "source": [
    "driver = webdriver.Chrome('C:/chromedriver_win32/chromedriver.exe')\n",
    "driver.get('https://charts.youtube.com/charts/TopVideos/kr?hl=ko')\n",
    "page = driver.page_source"
   ]
  },
  {
   "cell_type": "markdown",
   "metadata": {},
   "source": [
    "# 차트의 제목, 채널명 추출"
   ]
  },
  {
   "cell_type": "code",
   "execution_count": 18,
   "metadata": {},
   "outputs": [
    {
     "data": {
      "text/plain": [
       "[None, ' ']"
      ]
     },
     "execution_count": 18,
     "metadata": {},
     "output_type": "execute_result"
    }
   ],
   "source": [
    "soup = BeautifulSoup(page,'lxml')\n",
    "all_title = soup.find_all('span','ytmc-ellipsis-text style-scope')\n",
    "titles = [soup.find_all('span','ytmc-ellipsis-text style-scope')[n].string for n in range(0,len(all_title))]\n",
    "titles[0:2]"
   ]
  },
  {
   "cell_type": "code",
   "execution_count": 19,
   "metadata": {},
   "outputs": [
    {
     "data": {
      "text/plain": [
       "['[슬기로운 의사생활 OST Part 3] 조정석 (CHO JUNG SEOK) - 아로하 (Aloha) MV',\n",
       " 'Stone Music Entertainment']"
      ]
     },
     "execution_count": 19,
     "metadata": {},
     "output_type": "execute_result"
    }
   ],
   "source": [
    "titles[0:2]=[]\n",
    "titles[0:2]"
   ]
  },
  {
   "cell_type": "markdown",
   "metadata": {},
   "source": [
    "# 제목과 채널 리스트로 분리"
   ]
  },
  {
   "cell_type": "code",
   "execution_count": 6,
   "metadata": {},
   "outputs": [],
   "source": [
    "channel = titles[1::2]\n",
    "title = titles[::2]"
   ]
  },
  {
   "cell_type": "markdown",
   "metadata": {},
   "source": [
    "# 등수, 조회수 등 기타 정보 추출"
   ]
  },
  {
   "cell_type": "code",
   "execution_count": 7,
   "metadata": {},
   "outputs": [],
   "source": [
    "c = soup.find_all('span','style-scope ytmc-chart-table')\n",
    "views =[soup.find_all('span','style-scope ytmc-chart-table')[n].string for n in range(0,len(c))]"
   ]
  },
  {
   "cell_type": "code",
   "execution_count": 8,
   "metadata": {
    "scrolled": true
   },
   "outputs": [
    {
     "name": "stdout",
     "output_type": "stream",
     "text": [
      "[['지난주 #4', '4 weeks', '19.5%', '644K'], ['지난주 #1', '3 weeks', '-45.1%', '514K'], ['지난주 #37', '2 weeks', '327.8%', '493K'], ['지난주 #5', '7 weeks', '-8.1%', '422K'], ['지난주 #6', '15 weeks', '-16.9%', '349K'], ['--', '1 week', '--', '339K'], ['지난주 #3', '2 weeks', '-49.5%', '287K'], ['지난주 #10', '16 weeks', '-1.7%', '280K'], ['지난주 #9', '9 weeks', '-9.1%', '269K'], ['지난주 #11', '23 weeks', '-1%', '259K'], ['지난주 #8', '10 weeks', '-20%', '255K'], ['--', '1 week', '--', '244K'], ['지난주 #12', '5 weeks', '-2.6%', '242K'], ['--', '1 week', '--', '242K'], ['--', '1 week', '--', '221K'], ['지난주 #90', '2 weeks', '240.3%', '217K'], ['--', '1 week', '--', '204K'], ['지난주 #21', '22 weeks', '27.1%', '201K'], ['지난주 #15', '16 weeks', '-1%', '197K'], ['지난주 #17', '6 weeks', '5.6%', '197K'], ['--', '1 week', '--', '189K'], ['지난주 #16', '40 weeks', '-7.6%', '173K'], ['지난주 #2', '2 weeks', '-72%', '173K'], ['지난주 #27', '32 weeks', '16.9%', '160K'], ['지난주 #28', '23 weeks', '15.4%', '158K'], ['지난주 #19', '9 weeks', '-15.8%', '153K'], ['--', '1 week', '--', '153K'], ['지난주 #25', '24 weeks', '1.8%', '149K'], ['--', '1 week', '--', '134K'], ['지난주 #20', '31 weeks', '-20.7%', '133K'], ['지난주 #40', '6 weeks', '13.9%', '128K'], ['지난주 #7', '3 weeks', '-68.4%', '127K'], ['지난주 #14', '5 weeks', '-40%', '127K'], ['지난주 #60', '9 weeks', '39.5%', '126K'], ['지난주 #32', '22 weeks', '-4.1%', '124K'], ['--', '74 weeks', '--', '120K'], ['--', '1 week', '--', '119K'], ['지난주 #49', '3 weeks', '21%', '119K'], ['지난주 #33', '4 weeks', '-8.2%', '118K'], ['지난주 #31', '4 weeks', '-11.3%', '116K'], ['지난주 #29', '8 weeks', '-13.9%', '116K'], ['지난주 #35', '30 weeks', '-8.3%', '112K'], ['지난주 #54', '2 weeks', '15.3%', '111K'], ['지난주 #36', '30 weeks', '-10.9%', '104K'], ['지난주 #58', '23 weeks', '11.4%', '103K'], ['지난주 #26', '23 weeks', '-30.5%', '100K'], ['--', '1 week', '--', '99.8K'], ['지난주 #39', '22 weeks', '-12.8%', '98.5K'], ['지난주 #22', '28 weeks', '-35.2%', '98.3K'], ['지난주 #42', '21 weeks', '-9.9%', '96.7K'], ['지난주 #44', '6 weeks', '-9.4%', '96.3K'], ['지난주 #53', '18 weeks', '-0.7%', '95.7K'], ['지난주 #34', '7 weeks', '-24.5%', '95.1K'], ['지난주 #46', '19 weeks', '-9.7%', '94.8K'], ['지난주 #18', '5 weeks', '-49.1%', '94.7K'], ['지난주 #24', '4 weeks', '-37.5%', '93.1K'], ['--', '21 weeks', '--', '92.8K'], ['--', '1 week', '--', '92.4K'], ['지난주 #30', '18 weeks', '-32.3%', '91.2K'], ['지난주 #41', '11 weeks', '-19.4%', '89.6K'], ['--', '17 weeks', '--', '88.7K'], ['지난주 #79', '6 weeks', '24.6%', '88.3K'], ['지난주 #47', '7 weeks', '-15.7%', '88.3K'], ['지난주 #71', '23 weeks', '10.5%', '85.4K'], ['지난주 #52', '9 weeks', '-13.9%', '83.7K'], ['지난주 #59', '12 weeks', '-8.9%', '82.8K'], ['지난주 #45', '4 weeks', '-22.4%', '82.1K'], ['지난주 #62', '14 weeks', '-7.4%', '82K'], ['지난주 #67', '7 weeks', '2%', '81.8K'], ['--', '1 week', '--', '80.8K'], ['지난주 #89', '9 weeks', '24.8%', '79.5K'], ['지난주 #55', '10 weeks', '-16.1%', '79.4K'], ['--', '1 week', '--', '79.1K'], ['지난주 #74', '7 weeks', '-2.2%', '72.8K'], ['--', '1 week', '--', '72.5K'], ['--', '1 week', '--', '71.9K'], ['--', '13 weeks', '--', '71.4K'], ['지난주 #64', '5 weeks', '-17.9%', '71.3K'], ['지난주 #70', '3 weeks', '-8.4%', '71K'], ['지난주 #72', '4 weeks', '-8.9%', '70.3K'], ['지난주 #75', '10 weeks', '-6.5%', '69.6K'], ['지난주 #61', '14 weeks', '-22.9%', '69.1K'], ['지난주 #69', '6 weeks', '-11.9%', '69K'], ['지난주 #13', '2 weeks', '-71.2%', '69K'], ['--', '1 week', '--', '68.8K'], ['지난주 #63', '16 weeks', '-21.6%', '68.7K'], ['지난주 #86', '15 weeks', '3.8%', '68.5K'], ['지난주 #93', '17 weeks', '10.5%', '68.2K'], ['지난주 #83', '2 weeks', '-2.2%', '66.7K'], ['지난주 #80', '6 weeks', '-8.4%', '64.8K'], ['--', '1 week', '--', '63.4K'], ['--', '1 week', '--', '63.3K'], ['지난주 #84', '8 weeks', '-9.4%', '61.1K'], ['--', '1 week', '--', '59.9K'], ['지난주 #95', '4 weeks', '-1.5%', '59.6K'], ['--', '14 weeks', '--', '59.5K'], ['--', '9 weeks', '--', '59K'], ['지난주 #92', '15 weeks', '-5.7%', '58.9K'], ['--', '2 weeks', '--', '58.7K'], ['지난주 #78', '2 weeks', '-18.3%', '58.5K']]\n"
     ]
    }
   ],
   "source": [
    "n = 4\n",
    "views_res = [views[i*n:(i+1)*n] for i in\n",
    "            range((len(views)+n-1) // n)]\n",
    "print(views_res)"
   ]
  },
  {
   "cell_type": "markdown",
   "metadata": {},
   "source": [
    "# 추출한 목록 하나의 리스트로 통합\n",
    "## 100위까지 추출"
   ]
  },
  {
   "cell_type": "code",
   "execution_count": 12,
   "metadata": {},
   "outputs": [
    {
     "data": {
      "text/plain": [
       "['1위',\n",
       " '[슬기로운 의사생활 OST Part 3] 조정석 (CHO JUNG SEOK) - 아로하 (Aloha) MV',\n",
       " 'Stone Music Entertainment',\n",
       " '지난주 #4',\n",
       " '4 weeks',\n",
       " '19.5%',\n",
       " '644K']"
      ]
     },
     "execution_count": 12,
     "metadata": {},
     "output_type": "execute_result"
    }
   ],
   "source": [
    "youtube_music_chart = []\n",
    "\n",
    "for i in range(0,len(title)):\n",
    "    roww = []\n",
    "    roww.append(str(i+1)+\"위\")\n",
    "    roww.append(title[i])\n",
    "    roww.append(channel[i])\n",
    "    roww.append(views_res[i][0])\n",
    "    roww.append(views_res[i][1])\n",
    "    roww.append(views_res[i][2])\n",
    "    roww.append(views_res[i][3])\n",
    "    youtube_music_chart.append(roww)\t\t\t#2차원 list로 만들어줌\n",
    "    \n",
    "youtube_music_chart[0]"
   ]
  },
  {
   "cell_type": "markdown",
   "metadata": {},
   "source": [
    "# csv 형태로 저장하기\n",
    "\n",
    "## 저장된 csv를 바로 실행하면 한글이 깨져있는 것을 확인할 수 있다. 이를 해결하기 위한 절차는 아래와 같다.\n",
    "\n",
    "### 저장된 csv 파일을 메모장으로 실행\n",
    "### 다른 이름 저장 ->  인코딩을 ANSI로 지정 (파일형식:csv)\n",
    "### 엑셀로 실행\n",
    "#### * csvfile=open() 내부에 저장 위치 지정"
   ]
  },
  {
   "cell_type": "code",
   "execution_count": 13,
   "metadata": {},
   "outputs": [],
   "source": [
    "import csv"
   ]
  },
  {
   "cell_type": "code",
   "execution_count": 14,
   "metadata": {},
   "outputs": [],
   "source": [
    "csvfile = open(\"C:/Users/user/Desktop/Goat/python/Desaip/chart.csv\",\"w\",-1, \"utf-8\",newline='')\n",
    "csvwriter = csv.writer(csvfile)\n",
    "for row in youtube_music_chart:\n",
    "    csvwriter.writerow(row)\n",
    "csvfile.close()"
   ]
  },
  {
   "cell_type": "code",
   "execution_count": null,
   "metadata": {},
   "outputs": [],
   "source": []
  }
 ],
 "metadata": {
  "kernelspec": {
   "display_name": "Python 3",
   "language": "python",
   "name": "python3"
  },
  "language_info": {
   "codemirror_mode": {
    "name": "ipython",
    "version": 3
   },
   "file_extension": ".py",
   "mimetype": "text/x-python",
   "name": "python",
   "nbconvert_exporter": "python",
   "pygments_lexer": "ipython3",
   "version": "3.6.10"
  }
 },
 "nbformat": 4,
 "nbformat_minor": 4
}
