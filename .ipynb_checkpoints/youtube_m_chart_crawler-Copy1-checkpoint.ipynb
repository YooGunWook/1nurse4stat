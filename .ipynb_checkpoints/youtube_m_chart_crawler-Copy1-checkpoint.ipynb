{
 "cells": [
  {
   "cell_type": "markdown",
   "metadata": {},
   "source": [
    "# 참고사이트 :\n",
    "[Python Basic](https://woolbro.tistory.com/35)"
   ]
  },
  {
   "cell_type": "code",
   "execution_count": null,
   "metadata": {},
   "outputs": [],
   "source": []
  },
  {
   "cell_type": "code",
   "execution_count": 90,
   "metadata": {},
   "outputs": [],
   "source": [
    "import csv"
   ]
  },
  {
   "cell_type": "code",
   "execution_count": 134,
   "metadata": {},
   "outputs": [
    {
     "name": "stdout",
     "output_type": "stream",
     "text": [
      "<_csv.reader object at 0x000001F75FF58BA8>\n",
      "<class '_csv.reader'>\n",
      "['__class__', '__delattr__', '__dir__', '__doc__', '__eq__', '__format__', '__ge__', '__getattribute__', '__gt__', '__hash__', '__init__', '__init_subclass__', '__iter__', '__le__', '__lt__', '__ne__', '__new__', '__next__', '__reduce__', '__reduce_ex__', '__repr__', '__setattr__', '__sizeof__', '__str__', '__subclasshook__', 'dialect', 'line_num']\n"
     ]
    }
   ],
   "source": [
    "with open('C:/Users/user/Desktop/Goat/python/Desaip/weekday.csv','r') as f:\n",
    "    reader = csv.reader(f)\n",
    "    print(reader)\n",
    "    print(type(reader))\n",
    "    print(dir(reader))"
   ]
  },
  {
   "cell_type": "markdown",
   "metadata": {},
   "source": [
    "type() : 형태 출력 \n",
    "dir() : 사용가능 메소드 확인\n",
    "type()는 class, dir()은 리스트\n",
    " iter가 보이면 반복문에서 사용 가능하다."
   ]
  },
  {
   "cell_type": "code",
   "execution_count": 135,
   "metadata": {},
   "outputs": [],
   "source": [
    " with open('C:/Users/user/Desktop/Goat/python/Desaip/weekday.csv','r') as f:\n",
    "    reader = csv.reader(f)   \n",
    "    weeks = list(reader)"
   ]
  },
  {
   "cell_type": "code",
   "execution_count": 140,
   "metadata": {},
   "outputs": [],
   "source": [
    "weeks=[]\n",
    "f=open('C:/Users/user/Desktop/Goat/python/Desaip/weekday.csv','r')\n",
    "reader=csv.reader(f)\n",
    "for row in reader:\n",
    "    weeks.append(row[0])"
   ]
  },
  {
   "cell_type": "code",
   "execution_count": 146,
   "metadata": {},
   "outputs": [
    {
     "ename": "SyntaxError",
     "evalue": "invalid syntax (<ipython-input-146-e110f3c8d0f9>, line 3)",
     "output_type": "error",
     "traceback": [
      "\u001b[1;36m  File \u001b[1;32m\"<ipython-input-146-e110f3c8d0f9>\"\u001b[1;36m, line \u001b[1;32m3\u001b[0m\n\u001b[1;33m    urls.append()'https://charts.youtube.com/charts/TopVideos/kr/'+str(weeks[i])+'?hl=ko')\u001b[0m\n\u001b[1;37m                                                                 ^\u001b[0m\n\u001b[1;31mSyntaxError\u001b[0m\u001b[1;31m:\u001b[0m invalid syntax\n"
     ]
    }
   ],
   "source": [
    "urls=[]\n",
    "for i in range(0,len(weeks)):\n",
    "    urls.append()'https://charts.youtube.com/charts/TopVideos/kr/'+str(weeks[i])+'?hl=ko')"
   ]
  },
  {
   "cell_type": "code",
   "execution_count": null,
   "metadata": {},
   "outputs": [],
   "source": []
  }
 ],
 "metadata": {
  "kernelspec": {
   "display_name": "Python 3",
   "language": "python",
   "name": "python3"
  },
  "language_info": {
   "codemirror_mode": {
    "name": "ipython",
    "version": 3
   },
   "file_extension": ".py",
   "mimetype": "text/x-python",
   "name": "python",
   "nbconvert_exporter": "python",
   "pygments_lexer": "ipython3",
   "version": "3.6.10"
  }
 },
 "nbformat": 4,
 "nbformat_minor": 4
}
