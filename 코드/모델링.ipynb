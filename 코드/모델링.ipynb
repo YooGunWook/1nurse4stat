{
 "cells": [
  {
   "cell_type": "code",
   "execution_count": 7,
   "metadata": {},
   "outputs": [],
   "source": [
    "import pandas as pd\n",
    "import datetime\n",
    "import re"
   ]
  },
  {
   "cell_type": "markdown",
   "metadata": {},
   "source": [
    "# 약간의 전처리 과정"
   ]
  },
  {
   "cell_type": "code",
   "execution_count": 8,
   "metadata": {},
   "outputs": [],
   "source": [
    "df = pd.read_csv('first_model_data.csv')\n",
    "temp = pd.read_csv('youtube.csv')"
   ]
  },
  {
   "cell_type": "code",
   "execution_count": 9,
   "metadata": {},
   "outputs": [],
   "source": [
    "# 시작과 끝을 분리해준다.\n",
    "week = temp['주간'].str.split('-')\n",
    "# 원래 데이터와 형태 맞춰주기 위해\n",
    "# 그리고 유튜브 주기랑 가온차트 주기가 다르다. \n",
    "# 5를 빼주면 가온차트와 같아진다. \n",
    "start = []\n",
    "end = []\n",
    "for i in week:\n",
    "    start.append(str(datetime.datetime.strptime(i[0],'%Y%m%d') - datetime.timedelta(days = 5))[0:10])\n",
    "    end.append(str(datetime.datetime.strptime(i[1],'%Y%m%d') - datetime.timedelta(days = 5))[0:10])"
   ]
  },
  {
   "cell_type": "code",
   "execution_count": 10,
   "metadata": {},
   "outputs": [],
   "source": [
    "# 전처리한 값 추가\n",
    "temp['start'] = start\n",
    "temp['end'] = end"
   ]
  },
  {
   "cell_type": "code",
   "execution_count": 11,
   "metadata": {},
   "outputs": [],
   "source": [
    "# song과 날짜로 합칠거라서 song 전처리 해준다 \n",
    "# 이유: 이름이 다른 사람들이 존재 ex) 조정석 == Jo Jung-suk\n",
    "song = []\n",
    "for i in temp['song']:\n",
    "    a = re.split('[(-)]+' ,i)[0]\n",
    "    song.append(a.strip())"
   ]
  },
  {
   "cell_type": "code",
   "execution_count": 12,
   "metadata": {},
   "outputs": [
    {
     "data": {
      "text/html": [
       "<div>\n",
       "<style scoped>\n",
       "    .dataframe tbody tr th:only-of-type {\n",
       "        vertical-align: middle;\n",
       "    }\n",
       "\n",
       "    .dataframe tbody tr th {\n",
       "        vertical-align: top;\n",
       "    }\n",
       "\n",
       "    .dataframe thead th {\n",
       "        text-align: right;\n",
       "    }\n",
       "</style>\n",
       "<table border=\"1\" class=\"dataframe\">\n",
       "  <thead>\n",
       "    <tr style=\"text-align: right;\">\n",
       "      <th></th>\n",
       "      <th>주간</th>\n",
       "      <th>순위</th>\n",
       "      <th>song</th>\n",
       "      <th>name</th>\n",
       "      <th>lastweek_rank</th>\n",
       "      <th>지속기간</th>\n",
       "      <th>변경</th>\n",
       "      <th>조회수</th>\n",
       "      <th>start</th>\n",
       "      <th>end</th>\n",
       "    </tr>\n",
       "  </thead>\n",
       "  <tbody>\n",
       "    <tr>\n",
       "      <th>0</th>\n",
       "      <td>20200417-20200423</td>\n",
       "      <td>1위</td>\n",
       "      <td>WANNABE</td>\n",
       "      <td>ITZY</td>\n",
       "      <td>지난주 #1</td>\n",
       "      <td>7 weeks</td>\n",
       "      <td>-9.5%</td>\n",
       "      <td>2.48M</td>\n",
       "      <td>2020-04-12</td>\n",
       "      <td>2020-04-18</td>\n",
       "    </tr>\n",
       "    <tr>\n",
       "      <th>1</th>\n",
       "      <td>20200417-20200423</td>\n",
       "      <td>2위</td>\n",
       "      <td>덤더럼</td>\n",
       "      <td>에이핑크</td>\n",
       "      <td>지난주 #4</td>\n",
       "      <td>2 weeks</td>\n",
       "      <td>30.1%</td>\n",
       "      <td>2.1M</td>\n",
       "      <td>2020-04-12</td>\n",
       "      <td>2020-04-18</td>\n",
       "    </tr>\n",
       "    <tr>\n",
       "      <th>2</th>\n",
       "      <td>20200417-20200423</td>\n",
       "      <td>3위</td>\n",
       "      <td>돌덩이</td>\n",
       "      <td>하현우</td>\n",
       "      <td>지난주 #2</td>\n",
       "      <td>9 weeks</td>\n",
       "      <td>-16.4%</td>\n",
       "      <td>1.66M</td>\n",
       "      <td>2020-04-12</td>\n",
       "      <td>2020-04-18</td>\n",
       "    </tr>\n",
       "    <tr>\n",
       "      <th>3</th>\n",
       "      <td>20200417-20200423</td>\n",
       "      <td>4위</td>\n",
       "      <td>시작</td>\n",
       "      <td>가호</td>\n",
       "      <td>지난주 #5</td>\n",
       "      <td>11 weeks</td>\n",
       "      <td>-10.6%</td>\n",
       "      <td>1.38M</td>\n",
       "      <td>2020-04-12</td>\n",
       "      <td>2020-04-18</td>\n",
       "    </tr>\n",
       "    <tr>\n",
       "      <th>4</th>\n",
       "      <td>20200417-20200423</td>\n",
       "      <td>5위</td>\n",
       "      <td>아로하</td>\n",
       "      <td>Jo Jung-suk</td>\n",
       "      <td>지난주 #11</td>\n",
       "      <td>4 weeks</td>\n",
       "      <td>26.7%</td>\n",
       "      <td>1.32M</td>\n",
       "      <td>2020-04-12</td>\n",
       "      <td>2020-04-18</td>\n",
       "    </tr>\n",
       "  </tbody>\n",
       "</table>\n",
       "</div>"
      ],
      "text/plain": [
       "                  주간  순위     song         name lastweek_rank      지속기간  \\\n",
       "0  20200417-20200423  1위  WANNABE         ITZY        지난주 #1   7 weeks   \n",
       "1  20200417-20200423  2위      덤더럼         에이핑크        지난주 #4   2 weeks   \n",
       "2  20200417-20200423  3위      돌덩이          하현우        지난주 #2   9 weeks   \n",
       "3  20200417-20200423  4위       시작           가호        지난주 #5  11 weeks   \n",
       "4  20200417-20200423  5위      아로하  Jo Jung-suk       지난주 #11   4 weeks   \n",
       "\n",
       "       변경    조회수       start         end  \n",
       "0   -9.5%  2.48M  2020-04-12  2020-04-18  \n",
       "1   30.1%   2.1M  2020-04-12  2020-04-18  \n",
       "2  -16.4%  1.66M  2020-04-12  2020-04-18  \n",
       "3  -10.6%  1.38M  2020-04-12  2020-04-18  \n",
       "4   26.7%  1.32M  2020-04-12  2020-04-18  "
      ]
     },
     "execution_count": 12,
     "metadata": {},
     "output_type": "execute_result"
    }
   ],
   "source": [
    "temp['song'] = song\n",
    "temp.head()"
   ]
  },
  {
   "cell_type": "code",
   "execution_count": 13,
   "metadata": {},
   "outputs": [],
   "source": [
    "# 필요없는 값 제거\n",
    "df_for_merge = temp.drop(columns = ['주간','lastweek_rank','지속기간','변경','name'])"
   ]
  },
  {
   "cell_type": "code",
   "execution_count": 14,
   "metadata": {},
   "outputs": [],
   "source": [
    "# 이름 변경\n",
    "df_you = df_for_merge.rename(columns = {'start':'st_day', 'end':'ed_day','song':'name'})"
   ]
  },
  {
   "cell_type": "code",
   "execution_count": 15,
   "metadata": {
    "scrolled": false
   },
   "outputs": [
    {
     "data": {
      "text/plain": [
       "0        2020-04-12\n",
       "1        2020-04-12\n",
       "2        2020-04-12\n",
       "3        2020-04-12\n",
       "4        2020-04-12\n",
       "            ...    \n",
       "10395    2018-04-22\n",
       "10396    2018-04-22\n",
       "10397    2018-04-22\n",
       "10398    2018-04-22\n",
       "10399    2018-04-22\n",
       "Name: st_day, Length: 10400, dtype: object"
      ]
     },
     "execution_count": 15,
     "metadata": {},
     "output_type": "execute_result"
    }
   ],
   "source": [
    "df_you['st_day']"
   ]
  },
  {
   "cell_type": "code",
   "execution_count": 16,
   "metadata": {},
   "outputs": [],
   "source": [
    "a = []\n",
    "for i in df_you['st_day']:\n",
    "    a.append(i.split('-'))"
   ]
  },
  {
   "cell_type": "code",
   "execution_count": 17,
   "metadata": {},
   "outputs": [],
   "source": [
    "year = []\n",
    "day = []\n",
    "month = []\n",
    "for i in range(0,len(a)):\n",
    "    years = int(a[i][0][2:4])\n",
    "    months = int(a[i][1])\n",
    "    days = int(a[i][2])\n",
    "    year.append(years)\n",
    "    month.append(months)\n",
    "    day.append(days)"
   ]
  },
  {
   "cell_type": "code",
   "execution_count": 18,
   "metadata": {},
   "outputs": [],
   "source": [
    "df_you['year'] = year\n",
    "df_you['month'] = month\n",
    "df_you['day'] = day"
   ]
  },
  {
   "cell_type": "code",
   "execution_count": 19,
   "metadata": {},
   "outputs": [],
   "source": [
    "df_you = df_you.drop(columns = ['st_day','ed_day'])"
   ]
  },
  {
   "cell_type": "code",
   "execution_count": 20,
   "metadata": {},
   "outputs": [],
   "source": [
    "순위 = []\n",
    "조회수 = []\n",
    "# 조회수 전처리\n",
    "for i in df_you['조회수']:\n",
    "    if i == 0:\n",
    "        조회수.append(0)\n",
    "    elif i != 0:\n",
    "        if 'M' in i:\n",
    "            b = i.replace('M','00000')\n",
    "            if '.' in b:\n",
    "                b = b.replace('.','')\n",
    "            조회수.append(int(b))\n",
    "        elif 'K' in i:\n",
    "            b = i.replace('K','0000')\n",
    "            if '.' in b:\n",
    "                b = b.replace('.','')\n",
    "            조회수.append(int(b))\n",
    "\n",
    "# 순위 전처리\n",
    "for i in df_you['순위']:\n",
    "    if i == 0:\n",
    "        순위.append(i)\n",
    "    elif i != 0:\n",
    "        i = i.replace('위','')\n",
    "        순위.append(int(i))"
   ]
  },
  {
   "cell_type": "code",
   "execution_count": 21,
   "metadata": {},
   "outputs": [],
   "source": [
    "df_you['순위'] = 순위\n",
    "df_you['조회수'] = 조회수"
   ]
  },
  {
   "cell_type": "code",
   "execution_count": 22,
   "metadata": {},
   "outputs": [
    {
     "data": {
      "text/html": [
       "<div>\n",
       "<style scoped>\n",
       "    .dataframe tbody tr th:only-of-type {\n",
       "        vertical-align: middle;\n",
       "    }\n",
       "\n",
       "    .dataframe tbody tr th {\n",
       "        vertical-align: top;\n",
       "    }\n",
       "\n",
       "    .dataframe thead th {\n",
       "        text-align: right;\n",
       "    }\n",
       "</style>\n",
       "<table border=\"1\" class=\"dataframe\">\n",
       "  <thead>\n",
       "    <tr style=\"text-align: right;\">\n",
       "      <th></th>\n",
       "      <th>순위</th>\n",
       "      <th>name</th>\n",
       "      <th>조회수</th>\n",
       "      <th>year</th>\n",
       "      <th>month</th>\n",
       "      <th>day</th>\n",
       "    </tr>\n",
       "  </thead>\n",
       "  <tbody>\n",
       "    <tr>\n",
       "      <th>0</th>\n",
       "      <td>1</td>\n",
       "      <td>WANNABE</td>\n",
       "      <td>24800000</td>\n",
       "      <td>20</td>\n",
       "      <td>4</td>\n",
       "      <td>12</td>\n",
       "    </tr>\n",
       "    <tr>\n",
       "      <th>1</th>\n",
       "      <td>2</td>\n",
       "      <td>덤더럼</td>\n",
       "      <td>2100000</td>\n",
       "      <td>20</td>\n",
       "      <td>4</td>\n",
       "      <td>12</td>\n",
       "    </tr>\n",
       "    <tr>\n",
       "      <th>2</th>\n",
       "      <td>3</td>\n",
       "      <td>돌덩이</td>\n",
       "      <td>16600000</td>\n",
       "      <td>20</td>\n",
       "      <td>4</td>\n",
       "      <td>12</td>\n",
       "    </tr>\n",
       "    <tr>\n",
       "      <th>3</th>\n",
       "      <td>4</td>\n",
       "      <td>시작</td>\n",
       "      <td>13800000</td>\n",
       "      <td>20</td>\n",
       "      <td>4</td>\n",
       "      <td>12</td>\n",
       "    </tr>\n",
       "    <tr>\n",
       "      <th>4</th>\n",
       "      <td>5</td>\n",
       "      <td>아로하</td>\n",
       "      <td>13200000</td>\n",
       "      <td>20</td>\n",
       "      <td>4</td>\n",
       "      <td>12</td>\n",
       "    </tr>\n",
       "    <tr>\n",
       "      <th>...</th>\n",
       "      <td>...</td>\n",
       "      <td>...</td>\n",
       "      <td>...</td>\n",
       "      <td>...</td>\n",
       "      <td>...</td>\n",
       "      <td>...</td>\n",
       "    </tr>\n",
       "    <tr>\n",
       "      <th>10395</th>\n",
       "      <td>96</td>\n",
       "      <td>야생화</td>\n",
       "      <td>1660000</td>\n",
       "      <td>18</td>\n",
       "      <td>4</td>\n",
       "      <td>22</td>\n",
       "    </tr>\n",
       "    <tr>\n",
       "      <th>10396</th>\n",
       "      <td>97</td>\n",
       "      <td>북</td>\n",
       "      <td>1650000</td>\n",
       "      <td>18</td>\n",
       "      <td>4</td>\n",
       "      <td>22</td>\n",
       "    </tr>\n",
       "    <tr>\n",
       "      <th>10397</th>\n",
       "      <td>98</td>\n",
       "      <td>DINOSAUR</td>\n",
       "      <td>1630000</td>\n",
       "      <td>18</td>\n",
       "      <td>4</td>\n",
       "      <td>22</td>\n",
       "    </tr>\n",
       "    <tr>\n",
       "      <th>10398</th>\n",
       "      <td>99</td>\n",
       "      <td>Not Spring, Love, or Cherry Blossoms</td>\n",
       "      <td>1620000</td>\n",
       "      <td>18</td>\n",
       "      <td>4</td>\n",
       "      <td>22</td>\n",
       "    </tr>\n",
       "    <tr>\n",
       "      <th>10399</th>\n",
       "      <td>100</td>\n",
       "      <td>스물셋</td>\n",
       "      <td>1620000</td>\n",
       "      <td>18</td>\n",
       "      <td>4</td>\n",
       "      <td>22</td>\n",
       "    </tr>\n",
       "  </tbody>\n",
       "</table>\n",
       "<p>10400 rows × 6 columns</p>\n",
       "</div>"
      ],
      "text/plain": [
       "        순위                                  name       조회수  year  month  day\n",
       "0        1                               WANNABE  24800000    20      4   12\n",
       "1        2                                   덤더럼   2100000    20      4   12\n",
       "2        3                                   돌덩이  16600000    20      4   12\n",
       "3        4                                    시작  13800000    20      4   12\n",
       "4        5                                   아로하  13200000    20      4   12\n",
       "...    ...                                   ...       ...   ...    ...  ...\n",
       "10395   96                                   야생화   1660000    18      4   22\n",
       "10396   97                                     북   1650000    18      4   22\n",
       "10397   98                              DINOSAUR   1630000    18      4   22\n",
       "10398   99  Not Spring, Love, or Cherry Blossoms   1620000    18      4   22\n",
       "10399  100                                   스물셋   1620000    18      4   22\n",
       "\n",
       "[10400 rows x 6 columns]"
      ]
     },
     "execution_count": 22,
     "metadata": {},
     "output_type": "execute_result"
    }
   ],
   "source": [
    "df_you"
   ]
  },
  {
   "cell_type": "code",
   "execution_count": 23,
   "metadata": {},
   "outputs": [],
   "source": [
    "# 유튜브와 합치기\n",
    "a = pd.merge(df,df_you,on=['name','year','month','day'],how = 'left')"
   ]
  },
  {
   "cell_type": "code",
   "execution_count": 24,
   "metadata": {},
   "outputs": [
    {
     "data": {
      "text/html": [
       "<div>\n",
       "<style scoped>\n",
       "    .dataframe tbody tr th:only-of-type {\n",
       "        vertical-align: middle;\n",
       "    }\n",
       "\n",
       "    .dataframe tbody tr th {\n",
       "        vertical-align: top;\n",
       "    }\n",
       "\n",
       "    .dataframe thead th {\n",
       "        text-align: right;\n",
       "    }\n",
       "</style>\n",
       "<table border=\"1\" class=\"dataframe\">\n",
       "  <thead>\n",
       "    <tr style=\"text-align: right;\">\n",
       "      <th></th>\n",
       "      <th>Unnamed: 0</th>\n",
       "      <th>artist</th>\n",
       "      <th>name</th>\n",
       "      <th>previous_song_rank</th>\n",
       "      <th>st_day</th>\n",
       "      <th>X1</th>\n",
       "      <th>id</th>\n",
       "      <th>production</th>\n",
       "      <th>distributor</th>\n",
       "      <th>ed_day</th>\n",
       "      <th>...</th>\n",
       "      <th>dc_m_recommend</th>\n",
       "      <th>dc_m_views</th>\n",
       "      <th>gg_score</th>\n",
       "      <th>nv_score</th>\n",
       "      <th>ndc_t_numb</th>\n",
       "      <th>ndc_t_rec</th>\n",
       "      <th>ndc_t_view</th>\n",
       "      <th>season</th>\n",
       "      <th>순위</th>\n",
       "      <th>조회수</th>\n",
       "    </tr>\n",
       "  </thead>\n",
       "  <tbody>\n",
       "    <tr>\n",
       "      <th>0</th>\n",
       "      <td>1</td>\n",
       "      <td>(여자)아이들</td>\n",
       "      <td>LATATA</td>\n",
       "      <td>NaN</td>\n",
       "      <td>2018.5.6</td>\n",
       "      <td>235</td>\n",
       "      <td>235</td>\n",
       "      <td>큐브엔터테인먼트</td>\n",
       "      <td>카카오 M</td>\n",
       "      <td>2018.5.12</td>\n",
       "      <td>...</td>\n",
       "      <td>0.0</td>\n",
       "      <td>0.0</td>\n",
       "      <td>59.0</td>\n",
       "      <td>64.3</td>\n",
       "      <td>NaN</td>\n",
       "      <td>NaN</td>\n",
       "      <td>NaN</td>\n",
       "      <td>spring</td>\n",
       "      <td>4.0</td>\n",
       "      <td>19600000.0</td>\n",
       "    </tr>\n",
       "    <tr>\n",
       "      <th>1</th>\n",
       "      <td>2</td>\n",
       "      <td>(여자)아이들</td>\n",
       "      <td>LATATA</td>\n",
       "      <td>NaN</td>\n",
       "      <td>2018.5.13</td>\n",
       "      <td>319</td>\n",
       "      <td>319</td>\n",
       "      <td>큐브엔터테인먼트</td>\n",
       "      <td>카카오 M</td>\n",
       "      <td>2018.5.19</td>\n",
       "      <td>...</td>\n",
       "      <td>0.0</td>\n",
       "      <td>0.0</td>\n",
       "      <td>59.0</td>\n",
       "      <td>34.9</td>\n",
       "      <td>NaN</td>\n",
       "      <td>NaN</td>\n",
       "      <td>NaN</td>\n",
       "      <td>spring</td>\n",
       "      <td>NaN</td>\n",
       "      <td>NaN</td>\n",
       "    </tr>\n",
       "    <tr>\n",
       "      <th>2</th>\n",
       "      <td>3</td>\n",
       "      <td>(여자)아이들</td>\n",
       "      <td>LATATA</td>\n",
       "      <td>NaN</td>\n",
       "      <td>2018.5.20</td>\n",
       "      <td>416</td>\n",
       "      <td>416</td>\n",
       "      <td>큐브엔터테인먼트</td>\n",
       "      <td>카카오 M</td>\n",
       "      <td>2018.5.26</td>\n",
       "      <td>...</td>\n",
       "      <td>0.0</td>\n",
       "      <td>0.0</td>\n",
       "      <td>23.0</td>\n",
       "      <td>38.1</td>\n",
       "      <td>NaN</td>\n",
       "      <td>NaN</td>\n",
       "      <td>NaN</td>\n",
       "      <td>spring</td>\n",
       "      <td>NaN</td>\n",
       "      <td>NaN</td>\n",
       "    </tr>\n",
       "    <tr>\n",
       "      <th>3</th>\n",
       "      <td>4</td>\n",
       "      <td>(여자)아이들</td>\n",
       "      <td>LATATA</td>\n",
       "      <td>NaN</td>\n",
       "      <td>2018.5.27</td>\n",
       "      <td>512</td>\n",
       "      <td>512</td>\n",
       "      <td>큐브엔터테인먼트</td>\n",
       "      <td>카카오 M</td>\n",
       "      <td>2018.6.2</td>\n",
       "      <td>...</td>\n",
       "      <td>0.0</td>\n",
       "      <td>0.0</td>\n",
       "      <td>40.0</td>\n",
       "      <td>23.2</td>\n",
       "      <td>NaN</td>\n",
       "      <td>NaN</td>\n",
       "      <td>NaN</td>\n",
       "      <td>spring</td>\n",
       "      <td>NaN</td>\n",
       "      <td>NaN</td>\n",
       "    </tr>\n",
       "    <tr>\n",
       "      <th>4</th>\n",
       "      <td>5</td>\n",
       "      <td>(여자)아이들</td>\n",
       "      <td>LATATA</td>\n",
       "      <td>NaN</td>\n",
       "      <td>2018.6.3</td>\n",
       "      <td>614</td>\n",
       "      <td>614</td>\n",
       "      <td>큐브엔터테인먼트</td>\n",
       "      <td>카카오 M</td>\n",
       "      <td>2018.6.9</td>\n",
       "      <td>...</td>\n",
       "      <td>0.0</td>\n",
       "      <td>0.0</td>\n",
       "      <td>60.0</td>\n",
       "      <td>30.3</td>\n",
       "      <td>NaN</td>\n",
       "      <td>NaN</td>\n",
       "      <td>NaN</td>\n",
       "      <td>summer</td>\n",
       "      <td>NaN</td>\n",
       "      <td>NaN</td>\n",
       "    </tr>\n",
       "    <tr>\n",
       "      <th>...</th>\n",
       "      <td>...</td>\n",
       "      <td>...</td>\n",
       "      <td>...</td>\n",
       "      <td>...</td>\n",
       "      <td>...</td>\n",
       "      <td>...</td>\n",
       "      <td>...</td>\n",
       "      <td>...</td>\n",
       "      <td>...</td>\n",
       "      <td>...</td>\n",
       "      <td>...</td>\n",
       "      <td>...</td>\n",
       "      <td>...</td>\n",
       "      <td>...</td>\n",
       "      <td>...</td>\n",
       "      <td>...</td>\n",
       "      <td>...</td>\n",
       "      <td>...</td>\n",
       "      <td>...</td>\n",
       "      <td>...</td>\n",
       "      <td>...</td>\n",
       "    </tr>\n",
       "    <tr>\n",
       "      <th>17478</th>\n",
       "      <td>17396</td>\n",
       "      <td>히키</td>\n",
       "      <td>사랑에 연습이 있었다면</td>\n",
       "      <td>NaN</td>\n",
       "      <td>2019.6.23</td>\n",
       "      <td>8701</td>\n",
       "      <td>8701</td>\n",
       "      <td>꿈의엔진, 디원미디어</td>\n",
       "      <td>카카오 M</td>\n",
       "      <td>2019.6.29</td>\n",
       "      <td>...</td>\n",
       "      <td>0.0</td>\n",
       "      <td>0.0</td>\n",
       "      <td>84.0</td>\n",
       "      <td>36.6</td>\n",
       "      <td>NaN</td>\n",
       "      <td>NaN</td>\n",
       "      <td>NaN</td>\n",
       "      <td>summer</td>\n",
       "      <td>NaN</td>\n",
       "      <td>NaN</td>\n",
       "    </tr>\n",
       "    <tr>\n",
       "      <th>17479</th>\n",
       "      <td>17397</td>\n",
       "      <td>히키</td>\n",
       "      <td>사랑에 연습이 있었다면</td>\n",
       "      <td>NaN</td>\n",
       "      <td>2019.6.30</td>\n",
       "      <td>8904</td>\n",
       "      <td>8904</td>\n",
       "      <td>꿈의엔진, 디원미디어</td>\n",
       "      <td>카카오 M</td>\n",
       "      <td>2019.7.6</td>\n",
       "      <td>...</td>\n",
       "      <td>0.0</td>\n",
       "      <td>0.0</td>\n",
       "      <td>32.0</td>\n",
       "      <td>32.7</td>\n",
       "      <td>NaN</td>\n",
       "      <td>NaN</td>\n",
       "      <td>NaN</td>\n",
       "      <td>summer</td>\n",
       "      <td>NaN</td>\n",
       "      <td>NaN</td>\n",
       "    </tr>\n",
       "    <tr>\n",
       "      <th>17480</th>\n",
       "      <td>17398</td>\n",
       "      <td>히키</td>\n",
       "      <td>사랑에 연습이 있었다면</td>\n",
       "      <td>NaN</td>\n",
       "      <td>2019.7.7</td>\n",
       "      <td>9141</td>\n",
       "      <td>9141</td>\n",
       "      <td>꿈의엔진, 디원미디어</td>\n",
       "      <td>카카오 M</td>\n",
       "      <td>2019.7.13</td>\n",
       "      <td>...</td>\n",
       "      <td>0.0</td>\n",
       "      <td>0.0</td>\n",
       "      <td>31.0</td>\n",
       "      <td>25.1</td>\n",
       "      <td>NaN</td>\n",
       "      <td>NaN</td>\n",
       "      <td>NaN</td>\n",
       "      <td>summer</td>\n",
       "      <td>NaN</td>\n",
       "      <td>NaN</td>\n",
       "    </tr>\n",
       "    <tr>\n",
       "      <th>17481</th>\n",
       "      <td>17399</td>\n",
       "      <td>히키</td>\n",
       "      <td>사랑에 연습이 있었다면</td>\n",
       "      <td>NaN</td>\n",
       "      <td>2019.7.14</td>\n",
       "      <td>9364</td>\n",
       "      <td>9364</td>\n",
       "      <td>꿈의엔진, 디원미디어</td>\n",
       "      <td>카카오 M</td>\n",
       "      <td>2019.7.20</td>\n",
       "      <td>...</td>\n",
       "      <td>0.0</td>\n",
       "      <td>0.0</td>\n",
       "      <td>54.0</td>\n",
       "      <td>21.1</td>\n",
       "      <td>NaN</td>\n",
       "      <td>NaN</td>\n",
       "      <td>NaN</td>\n",
       "      <td>summer</td>\n",
       "      <td>NaN</td>\n",
       "      <td>NaN</td>\n",
       "    </tr>\n",
       "    <tr>\n",
       "      <th>17482</th>\n",
       "      <td>17400</td>\n",
       "      <td>히키</td>\n",
       "      <td>사랑에 연습이 있었다면</td>\n",
       "      <td>NaN</td>\n",
       "      <td>2019.7.21</td>\n",
       "      <td>9598</td>\n",
       "      <td>9598</td>\n",
       "      <td>꿈의엔진, 디원미디어</td>\n",
       "      <td>카카오 M</td>\n",
       "      <td>2019.7.27</td>\n",
       "      <td>...</td>\n",
       "      <td>0.0</td>\n",
       "      <td>0.0</td>\n",
       "      <td>22.0</td>\n",
       "      <td>16.5</td>\n",
       "      <td>NaN</td>\n",
       "      <td>NaN</td>\n",
       "      <td>NaN</td>\n",
       "      <td>summer</td>\n",
       "      <td>NaN</td>\n",
       "      <td>NaN</td>\n",
       "    </tr>\n",
       "  </tbody>\n",
       "</table>\n",
       "<p>17483 rows × 47 columns</p>\n",
       "</div>"
      ],
      "text/plain": [
       "       Unnamed: 0   artist          name  previous_song_rank     st_day    X1  \\\n",
       "0               1  (여자)아이들        LATATA                 NaN   2018.5.6   235   \n",
       "1               2  (여자)아이들        LATATA                 NaN  2018.5.13   319   \n",
       "2               3  (여자)아이들        LATATA                 NaN  2018.5.20   416   \n",
       "3               4  (여자)아이들        LATATA                 NaN  2018.5.27   512   \n",
       "4               5  (여자)아이들        LATATA                 NaN   2018.6.3   614   \n",
       "...           ...      ...           ...                 ...        ...   ...   \n",
       "17478       17396       히키  사랑에 연습이 있었다면                 NaN  2019.6.23  8701   \n",
       "17479       17397       히키  사랑에 연습이 있었다면                 NaN  2019.6.30  8904   \n",
       "17480       17398       히키  사랑에 연습이 있었다면                 NaN   2019.7.7  9141   \n",
       "17481       17399       히키  사랑에 연습이 있었다면                 NaN  2019.7.14  9364   \n",
       "17482       17400       히키  사랑에 연습이 있었다면                 NaN  2019.7.21  9598   \n",
       "\n",
       "         id   production distributor     ed_day  ...  dc_m_recommend  \\\n",
       "0       235     큐브엔터테인먼트       카카오 M  2018.5.12  ...             0.0   \n",
       "1       319     큐브엔터테인먼트       카카오 M  2018.5.19  ...             0.0   \n",
       "2       416     큐브엔터테인먼트       카카오 M  2018.5.26  ...             0.0   \n",
       "3       512     큐브엔터테인먼트       카카오 M   2018.6.2  ...             0.0   \n",
       "4       614     큐브엔터테인먼트       카카오 M   2018.6.9  ...             0.0   \n",
       "...     ...          ...         ...        ...  ...             ...   \n",
       "17478  8701  꿈의엔진, 디원미디어       카카오 M  2019.6.29  ...             0.0   \n",
       "17479  8904  꿈의엔진, 디원미디어       카카오 M   2019.7.6  ...             0.0   \n",
       "17480  9141  꿈의엔진, 디원미디어       카카오 M  2019.7.13  ...             0.0   \n",
       "17481  9364  꿈의엔진, 디원미디어       카카오 M  2019.7.20  ...             0.0   \n",
       "17482  9598  꿈의엔진, 디원미디어       카카오 M  2019.7.27  ...             0.0   \n",
       "\n",
       "       dc_m_views gg_score nv_score ndc_t_numb ndc_t_rec ndc_t_view  season  \\\n",
       "0             0.0     59.0     64.3        NaN       NaN        NaN  spring   \n",
       "1             0.0     59.0     34.9        NaN       NaN        NaN  spring   \n",
       "2             0.0     23.0     38.1        NaN       NaN        NaN  spring   \n",
       "3             0.0     40.0     23.2        NaN       NaN        NaN  spring   \n",
       "4             0.0     60.0     30.3        NaN       NaN        NaN  summer   \n",
       "...           ...      ...      ...        ...       ...        ...     ...   \n",
       "17478         0.0     84.0     36.6        NaN       NaN        NaN  summer   \n",
       "17479         0.0     32.0     32.7        NaN       NaN        NaN  summer   \n",
       "17480         0.0     31.0     25.1        NaN       NaN        NaN  summer   \n",
       "17481         0.0     54.0     21.1        NaN       NaN        NaN  summer   \n",
       "17482         0.0     22.0     16.5        NaN       NaN        NaN  summer   \n",
       "\n",
       "        순위         조회수  \n",
       "0      4.0  19600000.0  \n",
       "1      NaN         NaN  \n",
       "2      NaN         NaN  \n",
       "3      NaN         NaN  \n",
       "4      NaN         NaN  \n",
       "...    ...         ...  \n",
       "17478  NaN         NaN  \n",
       "17479  NaN         NaN  \n",
       "17480  NaN         NaN  \n",
       "17481  NaN         NaN  \n",
       "17482  NaN         NaN  \n",
       "\n",
       "[17483 rows x 47 columns]"
      ]
     },
     "execution_count": 24,
     "metadata": {},
     "output_type": "execute_result"
    }
   ],
   "source": [
    "a"
   ]
  },
  {
   "cell_type": "code",
   "execution_count": 25,
   "metadata": {},
   "outputs": [],
   "source": [
    "df = a.drop_duplicates(['artist','name','st_day','ed_day'],keep='last')"
   ]
  },
  {
   "cell_type": "code",
   "execution_count": 26,
   "metadata": {},
   "outputs": [
    {
     "name": "stderr",
     "output_type": "stream",
     "text": [
      "/Users/gunwook/opt/anaconda3/lib/python3.7/site-packages/ipykernel_launcher.py:10: SettingWithCopyWarning: \n",
      "A value is trying to be set on a copy of a slice from a DataFrame.\n",
      "Try using .loc[row_indexer,col_indexer] = value instead\n",
      "\n",
      "See the caveats in the documentation: https://pandas.pydata.org/pandas-docs/stable/user_guide/indexing.html#returning-a-view-versus-a-copy\n",
      "  # Remove the CWD from sys.path while we load stuff.\n"
     ]
    }
   ],
   "source": [
    "a = []\n",
    "for i in list(df['장르']):\n",
    "    b = i.split(' / ')\n",
    "    a.append(b)\n",
    "    \n",
    "genre = []\n",
    "for i in range(0,len(list(a))):\n",
    "    genre.append(a[i][1])\n",
    "\n",
    "df['genre'] = genre"
   ]
  },
  {
   "cell_type": "code",
   "execution_count": 27,
   "metadata": {},
   "outputs": [],
   "source": [
    "df = df.drop(columns = ['X1','id','Unnamed: 0','name_artist','song_id','st_day','production','distributor','ed_day','장르','런타임','성별','score','rank','활동유형','wks','week','active_g','top_freq_g'])"
   ]
  },
  {
   "cell_type": "code",
   "execution_count": 28,
   "metadata": {},
   "outputs": [],
   "source": [
    "df = df.drop(columns = ['dc_t_number','dc_t_recommend','dc_t_views','dc_m_recommend','runtime_g','dc_m_views','active'])"
   ]
  },
  {
   "cell_type": "code",
   "execution_count": 29,
   "metadata": {},
   "outputs": [],
   "source": [
    "pd.set_option('display.max_columns', 999)"
   ]
  },
  {
   "cell_type": "code",
   "execution_count": 30,
   "metadata": {},
   "outputs": [],
   "source": [
    "df.loc[df['previous_song_rank'].isnull(),'previous_song_rank'] = 200"
   ]
  },
  {
   "cell_type": "code",
   "execution_count": 31,
   "metadata": {},
   "outputs": [],
   "source": [
    "df.loc[df['순위'].isnull(),'순위'] = 100\n",
    "df.loc[df['조회수'].isnull(),'조회수'] = 0"
   ]
  },
  {
   "cell_type": "code",
   "execution_count": 32,
   "metadata": {},
   "outputs": [],
   "source": [
    "df.loc[df['ndc_t_numb'].isnull(),'ndc_t_numb'] = 0\n",
    "df.loc[df['ndc_t_rec'].isnull(),'ndc_t_rec'] = 0\n",
    "df.loc[df['ndc_t_view'].isnull(),'ndc_t_view'] = 0"
   ]
  },
  {
   "cell_type": "code",
   "execution_count": 33,
   "metadata": {},
   "outputs": [],
   "source": [
    "df.to_csv('first_model_glm.csv')"
   ]
  },
  {
   "cell_type": "code",
   "execution_count": 193,
   "metadata": {},
   "outputs": [],
   "source": [
    "df = pd.read_csv('first_model_glm.csv',encoding = 'utf8')"
   ]
  },
  {
   "cell_type": "code",
   "execution_count": 194,
   "metadata": {},
   "outputs": [],
   "source": [
    "df = df.drop(columns = ['artist','name','year' ,'month' ,'day'])"
   ]
  },
  {
   "cell_type": "code",
   "execution_count": 195,
   "metadata": {},
   "outputs": [],
   "source": [
    "del df['Unnamed: 0']"
   ]
  },
  {
   "cell_type": "code",
   "execution_count": 196,
   "metadata": {},
   "outputs": [],
   "source": [
    "del df['X1']"
   ]
  },
  {
   "cell_type": "code",
   "execution_count": 197,
   "metadata": {},
   "outputs": [],
   "source": [
    "del df['you_rank']"
   ]
  },
  {
   "cell_type": "code",
   "execution_count": 198,
   "metadata": {},
   "outputs": [],
   "source": [
    "del df['previous_song_rank']"
   ]
  },
  {
   "cell_type": "code",
   "execution_count": 199,
   "metadata": {},
   "outputs": [],
   "source": [
    "df = df.rename(columns = {'조회수':'total_view'})"
   ]
  },
  {
   "cell_type": "code",
   "execution_count": 200,
   "metadata": {},
   "outputs": [],
   "source": [
    "df = pd.get_dummies(df, columns = ['sex'])\n",
    "df = pd.get_dummies(df, columns = ['song_type'])\n",
    "df = pd.get_dummies(df, columns = ['you_rank_g'])"
   ]
  },
  {
   "cell_type": "code",
   "execution_count": 201,
   "metadata": {},
   "outputs": [],
   "source": [
    "df = pd.get_dummies(df, columns = ['season'])"
   ]
  },
  {
   "cell_type": "code",
   "execution_count": 202,
   "metadata": {},
   "outputs": [],
   "source": [
    "df = pd.get_dummies(df, columns = ['genre'])"
   ]
  },
  {
   "cell_type": "code",
   "execution_count": 203,
   "metadata": {},
   "outputs": [],
   "source": [
    "df = pd.get_dummies(df, columns = ['active_type'])"
   ]
  },
  {
   "cell_type": "code",
   "execution_count": 204,
   "metadata": {},
   "outputs": [],
   "source": [
    "df = pd.get_dummies(df, columns = ['previous_song_rank_g'])"
   ]
  },
  {
   "cell_type": "code",
   "execution_count": 205,
   "metadata": {},
   "outputs": [],
   "source": [
    "X_train, X_test, y_train, y_test = train_test_split(df.drop(columns = ['rank_g']),df['rank_g'], test_size = 0.3)"
   ]
  },
  {
   "cell_type": "markdown",
   "metadata": {},
   "source": [
    "# 사용 예정 모델\n",
    "- XGboost\n",
    "- LightGBM\n",
    "- RandomForest\n",
    "- Catboost\n",
    "- Logistic regression"
   ]
  },
  {
   "cell_type": "code",
   "execution_count": 206,
   "metadata": {},
   "outputs": [],
   "source": [
    "from sklearn.linear_model import LogisticRegression"
   ]
  },
  {
   "cell_type": "code",
   "execution_count": 584,
   "metadata": {},
   "outputs": [],
   "source": [
    "model = LogisticRegression(random_state=1)"
   ]
  },
  {
   "cell_type": "code",
   "execution_count": 585,
   "metadata": {},
   "outputs": [
    {
     "name": "stderr",
     "output_type": "stream",
     "text": [
      "/Users/gunwook/opt/anaconda3/lib/python3.7/site-packages/sklearn/linear_model/logistic.py:432: FutureWarning: Default solver will be changed to 'lbfgs' in 0.22. Specify a solver to silence this warning.\n",
      "  FutureWarning)\n",
      "/Users/gunwook/opt/anaconda3/lib/python3.7/site-packages/sklearn/linear_model/logistic.py:469: FutureWarning: Default multi_class will be changed to 'auto' in 0.22. Specify the multi_class option to silence this warning.\n",
      "  \"this warning.\", FutureWarning)\n",
      "/Users/gunwook/opt/anaconda3/lib/python3.7/site-packages/sklearn/svm/base.py:929: ConvergenceWarning: Liblinear failed to converge, increase the number of iterations.\n",
      "  \"the number of iterations.\", ConvergenceWarning)\n"
     ]
    },
    {
     "data": {
      "text/plain": [
       "LogisticRegression(C=1.0, class_weight=None, dual=False, fit_intercept=True,\n",
       "                   intercept_scaling=1, l1_ratio=None, max_iter=100,\n",
       "                   multi_class='warn', n_jobs=None, penalty='l2',\n",
       "                   random_state=1, solver='warn', tol=0.0001, verbose=0,\n",
       "                   warm_start=False)"
      ]
     },
     "execution_count": 585,
     "metadata": {},
     "output_type": "execute_result"
    }
   ],
   "source": [
    "model.fit(X_train,y_train)"
   ]
  },
  {
   "cell_type": "code",
   "execution_count": 586,
   "metadata": {},
   "outputs": [],
   "source": [
    "pred_y = model.predict(X_test)"
   ]
  },
  {
   "cell_type": "code",
   "execution_count": 94,
   "metadata": {},
   "outputs": [],
   "source": [
    "from sklearn.metrics import precision_score, recall_score, f1_score"
   ]
  },
  {
   "cell_type": "code",
   "execution_count": 603,
   "metadata": {},
   "outputs": [
    {
     "name": "stdout",
     "output_type": "stream",
     "text": [
      "F1 : 0.474\n"
     ]
    }
   ],
   "source": [
    "print(\"F1 : %.3f\" % f1_score(y_test, pred_y, average = 'micro'))"
   ]
  },
  {
   "cell_type": "code",
   "execution_count": 134,
   "metadata": {},
   "outputs": [],
   "source": [
    "from sklearn.ensemble import RandomForestClassifier"
   ]
  },
  {
   "cell_type": "code",
   "execution_count": 209,
   "metadata": {},
   "outputs": [],
   "source": [
    "model = RandomForestClassifier(random_state =1, n_estimators = 500)"
   ]
  },
  {
   "cell_type": "code",
   "execution_count": 210,
   "metadata": {},
   "outputs": [
    {
     "data": {
      "text/plain": [
       "RandomForestClassifier(bootstrap=True, class_weight=None, criterion='gini',\n",
       "                       max_depth=None, max_features='auto', max_leaf_nodes=None,\n",
       "                       min_impurity_decrease=0.0, min_impurity_split=None,\n",
       "                       min_samples_leaf=1, min_samples_split=2,\n",
       "                       min_weight_fraction_leaf=0.0, n_estimators=500,\n",
       "                       n_jobs=None, oob_score=False, random_state=1, verbose=0,\n",
       "                       warm_start=False)"
      ]
     },
     "execution_count": 210,
     "metadata": {},
     "output_type": "execute_result"
    }
   ],
   "source": [
    "model.fit(X_train,y_train)"
   ]
  },
  {
   "cell_type": "code",
   "execution_count": 211,
   "metadata": {},
   "outputs": [],
   "source": [
    "pred_y = model.predict(X_test)"
   ]
  },
  {
   "cell_type": "code",
   "execution_count": 212,
   "metadata": {},
   "outputs": [
    {
     "name": "stdout",
     "output_type": "stream",
     "text": [
      "F1 : 0.602\n"
     ]
    }
   ],
   "source": [
    "print(\"F1 : %.3f\" % f1_score(y_test, pred_y, average = 'micro'))"
   ]
  },
  {
   "cell_type": "code",
   "execution_count": 49,
   "metadata": {},
   "outputs": [
    {
     "name": "stderr",
     "output_type": "stream",
     "text": [
      "/Users/gunwook/opt/anaconda3/lib/python3.7/site-packages/dask/dataframe/utils.py:14: FutureWarning: pandas.util.testing is deprecated. Use the functions in the public API at pandas.testing instead.\n",
      "  import pandas.util.testing as tm\n"
     ]
    }
   ],
   "source": [
    "from xgboost import XGBClassifier"
   ]
  },
  {
   "cell_type": "code",
   "execution_count": 149,
   "metadata": {},
   "outputs": [],
   "source": [
    "# XGB는 생각보다 성능이 낮다... 아마 파라미터 조정을 해야될듯...\n",
    "model = XGBClassifier(n_estimators = 500)"
   ]
  },
  {
   "cell_type": "code",
   "execution_count": 79,
   "metadata": {},
   "outputs": [],
   "source": [
    "from lightgbm import LGBMClassifier"
   ]
  },
  {
   "cell_type": "code",
   "execution_count": 207,
   "metadata": {},
   "outputs": [],
   "source": [
    "model = LGBMClassifier(n_estimators = 500)"
   ]
  },
  {
   "cell_type": "code",
   "execution_count": 208,
   "metadata": {},
   "outputs": [
    {
     "ename": "LightGBMError",
     "evalue": "Do not support non-ASCII characters in feature name.",
     "output_type": "error",
     "traceback": [
      "\u001b[0;31m---------------------------------------------------------------------------\u001b[0m",
      "\u001b[0;31mLightGBMError\u001b[0m                             Traceback (most recent call last)",
      "\u001b[0;32m<ipython-input-208-b7a8c64777c1>\u001b[0m in \u001b[0;36m<module>\u001b[0;34m\u001b[0m\n\u001b[0;32m----> 1\u001b[0;31m \u001b[0mmodel\u001b[0m\u001b[0;34m.\u001b[0m\u001b[0mfit\u001b[0m\u001b[0;34m(\u001b[0m\u001b[0mX_train\u001b[0m\u001b[0;34m,\u001b[0m\u001b[0my_train\u001b[0m\u001b[0;34m)\u001b[0m\u001b[0;34m\u001b[0m\u001b[0;34m\u001b[0m\u001b[0m\n\u001b[0m",
      "\u001b[0;32m~/opt/anaconda3/lib/python3.7/site-packages/lightgbm/sklearn.py\u001b[0m in \u001b[0;36mfit\u001b[0;34m(self, X, y, sample_weight, init_score, eval_set, eval_names, eval_sample_weight, eval_class_weight, eval_init_score, eval_metric, early_stopping_rounds, verbose, feature_name, categorical_feature, callbacks)\u001b[0m\n\u001b[1;32m    803\u001b[0m                                         \u001b[0mverbose\u001b[0m\u001b[0;34m=\u001b[0m\u001b[0mverbose\u001b[0m\u001b[0;34m,\u001b[0m \u001b[0mfeature_name\u001b[0m\u001b[0;34m=\u001b[0m\u001b[0mfeature_name\u001b[0m\u001b[0;34m,\u001b[0m\u001b[0;34m\u001b[0m\u001b[0;34m\u001b[0m\u001b[0m\n\u001b[1;32m    804\u001b[0m                                         \u001b[0mcategorical_feature\u001b[0m\u001b[0;34m=\u001b[0m\u001b[0mcategorical_feature\u001b[0m\u001b[0;34m,\u001b[0m\u001b[0;34m\u001b[0m\u001b[0;34m\u001b[0m\u001b[0m\n\u001b[0;32m--> 805\u001b[0;31m                                         callbacks=callbacks)\n\u001b[0m\u001b[1;32m    806\u001b[0m         \u001b[0;32mreturn\u001b[0m \u001b[0mself\u001b[0m\u001b[0;34m\u001b[0m\u001b[0;34m\u001b[0m\u001b[0m\n\u001b[1;32m    807\u001b[0m \u001b[0;34m\u001b[0m\u001b[0m\n",
      "\u001b[0;32m~/opt/anaconda3/lib/python3.7/site-packages/lightgbm/sklearn.py\u001b[0m in \u001b[0;36mfit\u001b[0;34m(self, X, y, sample_weight, init_score, group, eval_set, eval_names, eval_sample_weight, eval_class_weight, eval_init_score, eval_group, eval_metric, early_stopping_rounds, verbose, feature_name, categorical_feature, callbacks)\u001b[0m\n\u001b[1;32m    598\u001b[0m                               \u001b[0mverbose_eval\u001b[0m\u001b[0;34m=\u001b[0m\u001b[0mverbose\u001b[0m\u001b[0;34m,\u001b[0m \u001b[0mfeature_name\u001b[0m\u001b[0;34m=\u001b[0m\u001b[0mfeature_name\u001b[0m\u001b[0;34m,\u001b[0m\u001b[0;34m\u001b[0m\u001b[0;34m\u001b[0m\u001b[0m\n\u001b[1;32m    599\u001b[0m                               \u001b[0mcategorical_feature\u001b[0m\u001b[0;34m=\u001b[0m\u001b[0mcategorical_feature\u001b[0m\u001b[0;34m,\u001b[0m\u001b[0;34m\u001b[0m\u001b[0;34m\u001b[0m\u001b[0m\n\u001b[0;32m--> 600\u001b[0;31m                               callbacks=callbacks)\n\u001b[0m\u001b[1;32m    601\u001b[0m \u001b[0;34m\u001b[0m\u001b[0m\n\u001b[1;32m    602\u001b[0m         \u001b[0;32mif\u001b[0m \u001b[0mevals_result\u001b[0m\u001b[0;34m:\u001b[0m\u001b[0;34m\u001b[0m\u001b[0;34m\u001b[0m\u001b[0m\n",
      "\u001b[0;32m~/opt/anaconda3/lib/python3.7/site-packages/lightgbm/engine.py\u001b[0m in \u001b[0;36mtrain\u001b[0;34m(params, train_set, num_boost_round, valid_sets, valid_names, fobj, feval, init_model, feature_name, categorical_feature, early_stopping_rounds, evals_result, verbose_eval, learning_rates, keep_training_booster, callbacks)\u001b[0m\n\u001b[1;32m    226\u001b[0m     \u001b[0;31m# construct booster\u001b[0m\u001b[0;34m\u001b[0m\u001b[0;34m\u001b[0m\u001b[0;34m\u001b[0m\u001b[0m\n\u001b[1;32m    227\u001b[0m     \u001b[0;32mtry\u001b[0m\u001b[0;34m:\u001b[0m\u001b[0;34m\u001b[0m\u001b[0;34m\u001b[0m\u001b[0m\n\u001b[0;32m--> 228\u001b[0;31m         \u001b[0mbooster\u001b[0m \u001b[0;34m=\u001b[0m \u001b[0mBooster\u001b[0m\u001b[0;34m(\u001b[0m\u001b[0mparams\u001b[0m\u001b[0;34m=\u001b[0m\u001b[0mparams\u001b[0m\u001b[0;34m,\u001b[0m \u001b[0mtrain_set\u001b[0m\u001b[0;34m=\u001b[0m\u001b[0mtrain_set\u001b[0m\u001b[0;34m)\u001b[0m\u001b[0;34m\u001b[0m\u001b[0;34m\u001b[0m\u001b[0m\n\u001b[0m\u001b[1;32m    229\u001b[0m         \u001b[0;32mif\u001b[0m \u001b[0mis_valid_contain_train\u001b[0m\u001b[0;34m:\u001b[0m\u001b[0;34m\u001b[0m\u001b[0;34m\u001b[0m\u001b[0m\n\u001b[1;32m    230\u001b[0m             \u001b[0mbooster\u001b[0m\u001b[0;34m.\u001b[0m\u001b[0mset_train_data_name\u001b[0m\u001b[0;34m(\u001b[0m\u001b[0mtrain_data_name\u001b[0m\u001b[0;34m)\u001b[0m\u001b[0;34m\u001b[0m\u001b[0;34m\u001b[0m\u001b[0m\n",
      "\u001b[0;32m~/opt/anaconda3/lib/python3.7/site-packages/lightgbm/basic.py\u001b[0m in \u001b[0;36m__init__\u001b[0;34m(self, params, train_set, model_file, model_str, silent)\u001b[0m\n\u001b[1;32m   1712\u001b[0m             \u001b[0mself\u001b[0m\u001b[0;34m.\u001b[0m\u001b[0mhandle\u001b[0m \u001b[0;34m=\u001b[0m \u001b[0mctypes\u001b[0m\u001b[0;34m.\u001b[0m\u001b[0mc_void_p\u001b[0m\u001b[0;34m(\u001b[0m\u001b[0;34m)\u001b[0m\u001b[0;34m\u001b[0m\u001b[0;34m\u001b[0m\u001b[0m\n\u001b[1;32m   1713\u001b[0m             _safe_call(_LIB.LGBM_BoosterCreate(\n\u001b[0;32m-> 1714\u001b[0;31m                 \u001b[0mtrain_set\u001b[0m\u001b[0;34m.\u001b[0m\u001b[0mconstruct\u001b[0m\u001b[0;34m(\u001b[0m\u001b[0;34m)\u001b[0m\u001b[0;34m.\u001b[0m\u001b[0mhandle\u001b[0m\u001b[0;34m,\u001b[0m\u001b[0;34m\u001b[0m\u001b[0;34m\u001b[0m\u001b[0m\n\u001b[0m\u001b[1;32m   1715\u001b[0m                 \u001b[0mc_str\u001b[0m\u001b[0;34m(\u001b[0m\u001b[0mparams_str\u001b[0m\u001b[0;34m)\u001b[0m\u001b[0;34m,\u001b[0m\u001b[0;34m\u001b[0m\u001b[0;34m\u001b[0m\u001b[0m\n\u001b[1;32m   1716\u001b[0m                 ctypes.byref(self.handle)))\n",
      "\u001b[0;32m~/opt/anaconda3/lib/python3.7/site-packages/lightgbm/basic.py\u001b[0m in \u001b[0;36mconstruct\u001b[0;34m(self)\u001b[0m\n\u001b[1;32m   1083\u001b[0m                                 \u001b[0minit_score\u001b[0m\u001b[0;34m=\u001b[0m\u001b[0mself\u001b[0m\u001b[0;34m.\u001b[0m\u001b[0minit_score\u001b[0m\u001b[0;34m,\u001b[0m \u001b[0mpredictor\u001b[0m\u001b[0;34m=\u001b[0m\u001b[0mself\u001b[0m\u001b[0;34m.\u001b[0m\u001b[0m_predictor\u001b[0m\u001b[0;34m,\u001b[0m\u001b[0;34m\u001b[0m\u001b[0;34m\u001b[0m\u001b[0m\n\u001b[1;32m   1084\u001b[0m                                 \u001b[0msilent\u001b[0m\u001b[0;34m=\u001b[0m\u001b[0mself\u001b[0m\u001b[0;34m.\u001b[0m\u001b[0msilent\u001b[0m\u001b[0;34m,\u001b[0m \u001b[0mfeature_name\u001b[0m\u001b[0;34m=\u001b[0m\u001b[0mself\u001b[0m\u001b[0;34m.\u001b[0m\u001b[0mfeature_name\u001b[0m\u001b[0;34m,\u001b[0m\u001b[0;34m\u001b[0m\u001b[0;34m\u001b[0m\u001b[0m\n\u001b[0;32m-> 1085\u001b[0;31m                                 categorical_feature=self.categorical_feature, params=self.params)\n\u001b[0m\u001b[1;32m   1086\u001b[0m             \u001b[0;32mif\u001b[0m \u001b[0mself\u001b[0m\u001b[0;34m.\u001b[0m\u001b[0mfree_raw_data\u001b[0m\u001b[0;34m:\u001b[0m\u001b[0;34m\u001b[0m\u001b[0;34m\u001b[0m\u001b[0m\n\u001b[1;32m   1087\u001b[0m                 \u001b[0mself\u001b[0m\u001b[0;34m.\u001b[0m\u001b[0mdata\u001b[0m \u001b[0;34m=\u001b[0m \u001b[0;32mNone\u001b[0m\u001b[0;34m\u001b[0m\u001b[0;34m\u001b[0m\u001b[0m\n",
      "\u001b[0;32m~/opt/anaconda3/lib/python3.7/site-packages/lightgbm/basic.py\u001b[0m in \u001b[0;36m_lazy_init\u001b[0;34m(self, data, label, reference, weight, group, init_score, predictor, silent, feature_name, categorical_feature, params)\u001b[0m\n\u001b[1;32m    913\u001b[0m             \u001b[0;32mraise\u001b[0m \u001b[0mTypeError\u001b[0m\u001b[0;34m(\u001b[0m\u001b[0;34m'Wrong predictor type {}'\u001b[0m\u001b[0;34m.\u001b[0m\u001b[0mformat\u001b[0m\u001b[0;34m(\u001b[0m\u001b[0mtype\u001b[0m\u001b[0;34m(\u001b[0m\u001b[0mpredictor\u001b[0m\u001b[0;34m)\u001b[0m\u001b[0;34m.\u001b[0m\u001b[0m__name__\u001b[0m\u001b[0;34m)\u001b[0m\u001b[0;34m)\u001b[0m\u001b[0;34m\u001b[0m\u001b[0;34m\u001b[0m\u001b[0m\n\u001b[1;32m    914\u001b[0m         \u001b[0;31m# set feature names\u001b[0m\u001b[0;34m\u001b[0m\u001b[0;34m\u001b[0m\u001b[0;34m\u001b[0m\u001b[0m\n\u001b[0;32m--> 915\u001b[0;31m         \u001b[0;32mreturn\u001b[0m \u001b[0mself\u001b[0m\u001b[0;34m.\u001b[0m\u001b[0mset_feature_name\u001b[0m\u001b[0;34m(\u001b[0m\u001b[0mfeature_name\u001b[0m\u001b[0;34m)\u001b[0m\u001b[0;34m\u001b[0m\u001b[0;34m\u001b[0m\u001b[0m\n\u001b[0m\u001b[1;32m    916\u001b[0m \u001b[0;34m\u001b[0m\u001b[0m\n\u001b[1;32m    917\u001b[0m     \u001b[0;32mdef\u001b[0m \u001b[0m__init_from_np2d\u001b[0m\u001b[0;34m(\u001b[0m\u001b[0mself\u001b[0m\u001b[0;34m,\u001b[0m \u001b[0mmat\u001b[0m\u001b[0;34m,\u001b[0m \u001b[0mparams_str\u001b[0m\u001b[0;34m,\u001b[0m \u001b[0mref_dataset\u001b[0m\u001b[0;34m)\u001b[0m\u001b[0;34m:\u001b[0m\u001b[0;34m\u001b[0m\u001b[0;34m\u001b[0m\u001b[0m\n",
      "\u001b[0;32m~/opt/anaconda3/lib/python3.7/site-packages/lightgbm/basic.py\u001b[0m in \u001b[0;36mset_feature_name\u001b[0;34m(self, feature_name)\u001b[0m\n\u001b[1;32m   1366\u001b[0m                 \u001b[0mself\u001b[0m\u001b[0;34m.\u001b[0m\u001b[0mhandle\u001b[0m\u001b[0;34m,\u001b[0m\u001b[0;34m\u001b[0m\u001b[0;34m\u001b[0m\u001b[0m\n\u001b[1;32m   1367\u001b[0m                 \u001b[0mc_array\u001b[0m\u001b[0;34m(\u001b[0m\u001b[0mctypes\u001b[0m\u001b[0;34m.\u001b[0m\u001b[0mc_char_p\u001b[0m\u001b[0;34m,\u001b[0m \u001b[0mc_feature_name\u001b[0m\u001b[0;34m)\u001b[0m\u001b[0;34m,\u001b[0m\u001b[0;34m\u001b[0m\u001b[0;34m\u001b[0m\u001b[0m\n\u001b[0;32m-> 1368\u001b[0;31m                 ctypes.c_int(len(feature_name))))\n\u001b[0m\u001b[1;32m   1369\u001b[0m         \u001b[0;32mreturn\u001b[0m \u001b[0mself\u001b[0m\u001b[0;34m\u001b[0m\u001b[0;34m\u001b[0m\u001b[0m\n\u001b[1;32m   1370\u001b[0m \u001b[0;34m\u001b[0m\u001b[0m\n",
      "\u001b[0;32m~/opt/anaconda3/lib/python3.7/site-packages/lightgbm/basic.py\u001b[0m in \u001b[0;36m_safe_call\u001b[0;34m(ret)\u001b[0m\n\u001b[1;32m     43\u001b[0m     \"\"\"\n\u001b[1;32m     44\u001b[0m     \u001b[0;32mif\u001b[0m \u001b[0mret\u001b[0m \u001b[0;34m!=\u001b[0m \u001b[0;36m0\u001b[0m\u001b[0;34m:\u001b[0m\u001b[0;34m\u001b[0m\u001b[0;34m\u001b[0m\u001b[0m\n\u001b[0;32m---> 45\u001b[0;31m         \u001b[0;32mraise\u001b[0m \u001b[0mLightGBMError\u001b[0m\u001b[0;34m(\u001b[0m\u001b[0mdecode_string\u001b[0m\u001b[0;34m(\u001b[0m\u001b[0m_LIB\u001b[0m\u001b[0;34m.\u001b[0m\u001b[0mLGBM_GetLastError\u001b[0m\u001b[0;34m(\u001b[0m\u001b[0;34m)\u001b[0m\u001b[0;34m)\u001b[0m\u001b[0;34m)\u001b[0m\u001b[0;34m\u001b[0m\u001b[0;34m\u001b[0m\u001b[0m\n\u001b[0m\u001b[1;32m     46\u001b[0m \u001b[0;34m\u001b[0m\u001b[0m\n\u001b[1;32m     47\u001b[0m \u001b[0;34m\u001b[0m\u001b[0m\n",
      "\u001b[0;31mLightGBMError\u001b[0m: Do not support non-ASCII characters in feature name."
     ]
    }
   ],
   "source": [
    "# non-ascii 문제가 생긴다... 해결 방법 찾아봐야할 듯. \n",
    "model.fit(X_train,y_train)"
   ]
  },
  {
   "cell_type": "code",
   "execution_count": 151,
   "metadata": {},
   "outputs": [
    {
     "name": "stdout",
     "output_type": "stream",
     "text": [
      "F1 : 0.577\n"
     ]
    }
   ],
   "source": [
    "pred_y = model.predict(X_test)\n",
    "print(\"F1 : %.3f\" % f1_score(y_test, pred_y, average = 'micro'))"
   ]
  },
  {
   "cell_type": "code",
   "execution_count": null,
   "metadata": {},
   "outputs": [],
   "source": []
  }
 ],
 "metadata": {
  "kernelspec": {
   "display_name": "Python 3",
   "language": "python",
   "name": "python3"
  },
  "language_info": {
   "codemirror_mode": {
    "name": "ipython",
    "version": 3
   },
   "file_extension": ".py",
   "mimetype": "text/x-python",
   "name": "python",
   "nbconvert_exporter": "python",
   "pygments_lexer": "ipython3",
   "version": "3.7.4"
  }
 },
 "nbformat": 4,
 "nbformat_minor": 2
}
