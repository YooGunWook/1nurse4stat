{
 "cells": [
  {
   "cell_type": "code",
   "execution_count": 53,
   "metadata": {},
   "outputs": [],
   "source": [
    "from selenium import webdriver\n",
    "import pandas as pd\n",
    "import time\n",
    "from tqdm import tqdm"
   ]
  },
  {
   "cell_type": "markdown",
   "metadata": {},
   "source": [
    "# 멜론 차트 크롤링"
   ]
  },
  {
   "cell_type": "code",
   "execution_count": 99,
   "metadata": {},
   "outputs": [],
   "source": [
    "driver=webdriver.Chrome('/Users/gunwook/Desktop/git_folder/데이터사이언스입문/chromedriver')"
   ]
  },
  {
   "cell_type": "code",
   "execution_count": 100,
   "metadata": {},
   "outputs": [],
   "source": [
    "driver.get('https://www.melon.com/chart/search/index.htm')"
   ]
  },
  {
   "cell_type": "code",
   "execution_count": 234,
   "metadata": {},
   "outputs": [],
   "source": [
    "chart_1 = driver.find_elements_by_css_selector('#lst50')"
   ]
  },
  {
   "cell_type": "code",
   "execution_count": 214,
   "metadata": {},
   "outputs": [],
   "source": [
    "singer = []\n",
    "sing = []\n",
    "like = []\n",
    "album = []"
   ]
  },
  {
   "cell_type": "code",
   "execution_count": 235,
   "metadata": {},
   "outputs": [],
   "source": [
    "# 1위에서 50위까지\n",
    "for i in range(0,50):\n",
    "    a = chart_1[i].find_elements_by_css_selector('#lst50 > td:nth-child(4) > div > div > div:nth-child(3) > div.ellipsis.rank02 > a')[0].text\n",
    "    b = chart_1[i].find_elements_by_css_selector('#lst50 > td:nth-child(4) > div > div > div.ellipsis.rank01 > span > strong > a')[0].text\n",
    "    c = int(chart_1[i].find_elements_by_css_selector('#lst50 > td:nth-child(5) > div > button > span.cnt')[0].text.replace(',',''))\n",
    "    d = chart_1[i].find_elements_by_css_selector('#lst50 > td:nth-child(4) > div > div > div:nth-child(3) > div.ellipsis.rank03 > a')[0].text\n",
    "    singer.append(a)\n",
    "    sing.append(b)\n",
    "    like.append(c)\n",
    "    album.append(d)"
   ]
  },
  {
   "cell_type": "code",
   "execution_count": 236,
   "metadata": {},
   "outputs": [],
   "source": [
    "# chart_2로 가기\n",
    "driver.find_elements_by_css_selector('#frm > div.paginate.chart_page > span > a')[0].click()"
   ]
  },
  {
   "cell_type": "code",
   "execution_count": 237,
   "metadata": {},
   "outputs": [],
   "source": [
    "chart_2 = driver.find_elements_by_css_selector('#lst100')"
   ]
  },
  {
   "cell_type": "code",
   "execution_count": 238,
   "metadata": {},
   "outputs": [],
   "source": [
    "# 51위부터 100위까지\n",
    "for i in range(0,50):\n",
    "    a = chart_2[i].find_elements_by_css_selector('#lst100 > td:nth-child(4) > div > div > div:nth-child(3) > div.ellipsis.rank02 > a')[0].text\n",
    "    b = chart_2[i].find_elements_by_css_selector('#lst100 > td:nth-child(4) > div > div > div.ellipsis.rank01 > span > strong > a')[0].text\n",
    "    c = int(chart_2[i].find_elements_by_css_selector('#lst100 > td:nth-child(5) > div > button > span.cnt')[0].text.replace(',',''))\n",
    "    d = chart_2[i].find_elements_by_css_selector('#lst100 > td:nth-child(4) > div > div > div:nth-child(3) > div.ellipsis.rank03 > a')[0].text\n",
    "    singer.append(a)\n",
    "    sing.append(b)\n",
    "    like.append(c)\n",
    "    album.append(d)"
   ]
  },
  {
   "cell_type": "code",
   "execution_count": 240,
   "metadata": {},
   "outputs": [],
   "source": [
    "driver.get('https://www.melon.com/search/total/index.htm?q=EXO&section=&searchGnbYn=Y&kkoSpl=Y&kkoDpType=&linkOrText=T&ipath=srch_form')"
   ]
  },
  {
   "cell_type": "markdown",
   "metadata": {},
   "source": [
    "# 가온차트 크롤링"
   ]
  },
  {
   "cell_type": "code",
   "execution_count": 102,
   "metadata": {},
   "outputs": [],
   "source": [
    "driver.get('http://gaonchart.co.kr/main/section/chart/online.gaon')"
   ]
  },
  {
   "cell_type": "code",
   "execution_count": 113,
   "metadata": {
    "scrolled": true
   },
   "outputs": [
    {
     "name": "stderr",
     "output_type": "stream",
     "text": [
      "100%|██████████| 1/1 [00:14<00:00, 14.12s/it]\n"
     ]
    }
   ],
   "source": [
    "list1 = []\n",
    "for i in tqdm(range(47, 46, -1)):\n",
    "    # 주간 설정(range는 원하는만큼 지정)\n",
    "    driver.find_elements_by_css_selector('#chart_week_select')[0].click()\n",
    "    time = driver.find_elements_by_css_selector('#chart_week_select > option:nth-child({0})'.format(i))[0].text\n",
    "    driver.find_elements_by_css_selector('#chart_week_select > option:nth-child({0})'.format(i))[0].click()\n",
    "    \n",
    "    \n",
    "    rank = driver.find_elements_by_css_selector('#wrap > div.chart > table > tbody > tr> td.ranking')\n",
    "    chart_top_100 = driver.find_elements_by_css_selector('#wrap > div.chart > table > tbody > tr > td.subject > p:nth-child(1)')\n",
    "    gaon_100_score = driver.find_elements_by_css_selector('#wrap > div.chart > table > tbody > tr > td.count > p')\n",
    "    production_top_100 = driver.find_elements_by_css_selector('#wrap > div.chart > table > tbody > tr > td.production > p.pro')\n",
    "    dist_top_100 = driver.find_elements_by_css_selector('#wrap > div.chart > table > tbody > tr > td.production > p.dist')\n",
    "    artist = driver.find_elements_by_css_selector('#wrap > div.chart > table > tbody > tr > td.subject > p.singer')\n",
    "    for a,b,c,d,e,f in zip(chart_top_100,gaon_100_score,production_top_100,dist_top_100,artist,rank):\n",
    "        \n",
    "        e = e.text.split('|')[0]\n",
    "        b = int(b.text.replace(',',''))\n",
    "        list1.append([a.text, c.text, d.text, e, time, b, f.text])\n",
    "        "
   ]
  },
  {
   "cell_type": "code",
   "execution_count": 116,
   "metadata": {},
   "outputs": [],
   "source": [
    "df = pd.DataFrame(list1, columns = ['name','production','distributor','artist','time','score','rank'])"
   ]
  },
  {
   "cell_type": "code",
   "execution_count": 118,
   "metadata": {},
   "outputs": [
    {
     "data": {
      "text/html": [
       "<div>\n",
       "<style scoped>\n",
       "    .dataframe tbody tr th:only-of-type {\n",
       "        vertical-align: middle;\n",
       "    }\n",
       "\n",
       "    .dataframe tbody tr th {\n",
       "        vertical-align: top;\n",
       "    }\n",
       "\n",
       "    .dataframe thead th {\n",
       "        text-align: right;\n",
       "    }\n",
       "</style>\n",
       "<table border=\"1\" class=\"dataframe\">\n",
       "  <thead>\n",
       "    <tr style=\"text-align: right;\">\n",
       "      <th></th>\n",
       "      <th>name</th>\n",
       "      <th>production</th>\n",
       "      <th>distributor</th>\n",
       "      <th>artist</th>\n",
       "      <th>time</th>\n",
       "      <th>score</th>\n",
       "      <th>rank</th>\n",
       "    </tr>\n",
       "  </thead>\n",
       "  <tbody>\n",
       "    <tr>\n",
       "      <td>0</td>\n",
       "      <td>사랑에 연습이 있었다면 (Prod. 2soo)</td>\n",
       "      <td>엔에스씨컴퍼니, 디원미디어</td>\n",
       "      <td>카카오 M</td>\n",
       "      <td>임재현</td>\n",
       "      <td>2019.06.02~2019.06.08</td>\n",
       "      <td>44009459</td>\n",
       "      <td>1</td>\n",
       "    </tr>\n",
       "    <tr>\n",
       "      <td>1</td>\n",
       "      <td>누구 없소 (NO ONE) (Feat. B.I of iKON)</td>\n",
       "      <td>YG Entertainment</td>\n",
       "      <td>YG Plus</td>\n",
       "      <td>이하이</td>\n",
       "      <td>2019.06.02~2019.06.08</td>\n",
       "      <td>43074538</td>\n",
       "      <td>2</td>\n",
       "    </tr>\n",
       "    <tr>\n",
       "      <td>2</td>\n",
       "      <td>2002</td>\n",
       "      <td>Atlantic Records UK</td>\n",
       "      <td>Warner Music</td>\n",
       "      <td>Anne-Marie</td>\n",
       "      <td>2019.06.02~2019.06.08</td>\n",
       "      <td>41877109</td>\n",
       "      <td>3</td>\n",
       "    </tr>\n",
       "    <tr>\n",
       "      <td>3</td>\n",
       "      <td>너에게 못했던 내 마지막 말은</td>\n",
       "      <td>Stone Music Entertainment</td>\n",
       "      <td>지니뮤직</td>\n",
       "      <td>다비치</td>\n",
       "      <td>2019.06.02~2019.06.08</td>\n",
       "      <td>38165624</td>\n",
       "      <td>4</td>\n",
       "    </tr>\n",
       "    <tr>\n",
       "      <td>4</td>\n",
       "      <td>bad guy</td>\n",
       "      <td>Darkroom, Interscope Records</td>\n",
       "      <td>Universal Music</td>\n",
       "      <td>Billie Eilish</td>\n",
       "      <td>2019.06.02~2019.06.08</td>\n",
       "      <td>33544212</td>\n",
       "      <td>5</td>\n",
       "    </tr>\n",
       "    <tr>\n",
       "      <td>...</td>\n",
       "      <td>...</td>\n",
       "      <td>...</td>\n",
       "      <td>...</td>\n",
       "      <td>...</td>\n",
       "      <td>...</td>\n",
       "      <td>...</td>\n",
       "      <td>...</td>\n",
       "    </tr>\n",
       "    <tr>\n",
       "      <td>195</td>\n",
       "      <td>마지막처럼</td>\n",
       "      <td>YG Entertainment</td>\n",
       "      <td>YG PLUS</td>\n",
       "      <td>BLACKPINK</td>\n",
       "      <td>2019.06.02~2019.06.08</td>\n",
       "      <td>2931336</td>\n",
       "      <td>196</td>\n",
       "    </tr>\n",
       "    <tr>\n",
       "      <td>196</td>\n",
       "      <td>Bellyache</td>\n",
       "      <td>Universal Music</td>\n",
       "      <td>Universal Music</td>\n",
       "      <td>Billie Eilish</td>\n",
       "      <td>2019.06.02~2019.06.08</td>\n",
       "      <td>2898332</td>\n",
       "      <td>197</td>\n",
       "    </tr>\n",
       "    <tr>\n",
       "      <td>197</td>\n",
       "      <td>행복</td>\n",
       "      <td>로맨틱팩토리</td>\n",
       "      <td>Warner Music</td>\n",
       "      <td>오반 (OVAN)</td>\n",
       "      <td>2019.06.02~2019.06.08</td>\n",
       "      <td>2863944</td>\n",
       "      <td>198</td>\n",
       "    </tr>\n",
       "    <tr>\n",
       "      <td>198</td>\n",
       "      <td>나들이 갈까</td>\n",
       "      <td>쇼파르뮤직</td>\n",
       "      <td>카카오 M</td>\n",
       "      <td>볼빨간사춘기</td>\n",
       "      <td>2019.06.02~2019.06.08</td>\n",
       "      <td>2862674</td>\n",
       "      <td>199</td>\n",
       "    </tr>\n",
       "    <tr>\n",
       "      <td>199</td>\n",
       "      <td>Stay</td>\n",
       "      <td>Interscope Records</td>\n",
       "      <td>Universal Music</td>\n",
       "      <td>Zedd, Alessia Cara</td>\n",
       "      <td>2019.06.02~2019.06.08</td>\n",
       "      <td>2855831</td>\n",
       "      <td>200</td>\n",
       "    </tr>\n",
       "  </tbody>\n",
       "</table>\n",
       "<p>200 rows × 7 columns</p>\n",
       "</div>"
      ],
      "text/plain": [
       "                                   name                    production  \\\n",
       "0             사랑에 연습이 있었다면 (Prod. 2soo)                엔에스씨컴퍼니, 디원미디어   \n",
       "1    누구 없소 (NO ONE) (Feat. B.I of iKON)              YG Entertainment   \n",
       "2                                  2002           Atlantic Records UK   \n",
       "3                      너에게 못했던 내 마지막 말은     Stone Music Entertainment   \n",
       "4                               bad guy  Darkroom, Interscope Records   \n",
       "..                                  ...                           ...   \n",
       "195                               마지막처럼              YG Entertainment   \n",
       "196                           Bellyache               Universal Music   \n",
       "197                                  행복                        로맨틱팩토리   \n",
       "198                              나들이 갈까                         쇼파르뮤직   \n",
       "199                                Stay            Interscope Records   \n",
       "\n",
       "         distributor              artist                   time     score rank  \n",
       "0              카카오 M                 임재현  2019.06.02~2019.06.08  44009459    1  \n",
       "1            YG Plus                 이하이  2019.06.02~2019.06.08  43074538    2  \n",
       "2       Warner Music          Anne-Marie  2019.06.02~2019.06.08  41877109    3  \n",
       "3               지니뮤직                 다비치  2019.06.02~2019.06.08  38165624    4  \n",
       "4    Universal Music       Billie Eilish  2019.06.02~2019.06.08  33544212    5  \n",
       "..               ...                 ...                    ...       ...  ...  \n",
       "195          YG PLUS           BLACKPINK  2019.06.02~2019.06.08   2931336  196  \n",
       "196  Universal Music       Billie Eilish  2019.06.02~2019.06.08   2898332  197  \n",
       "197     Warner Music           오반 (OVAN)  2019.06.02~2019.06.08   2863944  198  \n",
       "198            카카오 M              볼빨간사춘기  2019.06.02~2019.06.08   2862674  199  \n",
       "199  Universal Music  Zedd, Alessia Cara  2019.06.02~2019.06.08   2855831  200  \n",
       "\n",
       "[200 rows x 7 columns]"
      ]
     },
     "execution_count": 118,
     "metadata": {},
     "output_type": "execute_result"
    }
   ],
   "source": [
    "df"
   ]
  },
  {
   "cell_type": "code",
   "execution_count": 104,
   "metadata": {},
   "outputs": [],
   "source": [
    "data_frame.to_csv('2019.06~2019.12.csv')"
   ]
  },
  {
   "cell_type": "markdown",
   "metadata": {},
   "source": [
    "# 지니차트 크롤링"
   ]
  },
  {
   "cell_type": "code",
   "execution_count": 119,
   "metadata": {},
   "outputs": [],
   "source": [
    "driver.get('https://www.genie.co.kr')"
   ]
  },
  {
   "cell_type": "code",
   "execution_count": 120,
   "metadata": {},
   "outputs": [],
   "source": [
    "genre = []\n",
    "runtime = []\n",
    "sex = []\n",
    "active_type = []"
   ]
  },
  {
   "cell_type": "code",
   "execution_count": null,
   "metadata": {},
   "outputs": [],
   "source": [
    "# 노래 정보 뽑아오기\n",
    "# 장르, 런타임, 성별, 활동유형\n",
    "for i,j in tqdm(zip(df['artist'], df['name'])):\n",
    "    try:\n",
    "        elem = driver.find_element_by_id('sc-fd')\n",
    "        elem.clear()\n",
    "        elem.send_keys('{0} {1}'.format(i,j))\n",
    "        driver.find_elements_by_css_selector('#frmGNB > fieldset > input.btn-submit')[0].click()\n",
    "        driver.find_element_by_css_selector('#body-content > div.search_song > div.search_result_detail > div > table > tbody > tr:nth-child(1) > td.link > a').click()\n",
    "        gen = driver.find_element_by_css_selector('#body-content > div.song-main-infos > div.info-zone > ul > li:nth-child(3) > span.value').text\n",
    "        time = driver.find_element_by_css_selector('#body-content > div.song-main-infos > div.info-zone > ul > li:nth-child(4) > span.value').text\n",
    "        if ':' in time:\n",
    "            pass\n",
    "        else:\n",
    "            time = driver.find_element_by_css_selector('#body-content > div.song-main-infos > div.info-zone > ul > li:nth-child(5) > span.value').text\n",
    "            gen = driver.find_element_by_css_selector('#body-content > div.song-main-infos > div.info-zone > ul > li:nth-child(4) > span.value').text\n",
    "        runtime.append(time)\n",
    "        genre.append(gen)\n",
    "        elem = driver.find_element_by_id('sc-fd')\n",
    "        elem.clear()\n",
    "        elem.send_keys('{0} {1}'.format(i,j))\n",
    "        driver.find_elements_by_css_selector('#frmGNB > fieldset > input.btn-submit')[0].click()\n",
    "        driver.find_elements_by_css_selector('#body-content > div.search_song > div.search_result_detail > div > table > tbody > tr:nth-child(1) > td.info > a.artist.ellipsis')[0].click()\n",
    "        activity_type = driver.find_elements_by_css_selector('#body-content > div.artist-main-infos > div.info-zone > ul > li:nth-child(1) > span.value')[0].text.split('/')\n",
    "        sex.append(activity_type[0])\n",
    "        active_type.append(activity_type[1])\n",
    "    except:\n",
    "        j = j.split('(')\n",
    "        elem = driver.find_element_by_id('sc-fd')\n",
    "        elem.clear()\n",
    "        elem.send_keys('{0}'.format(j[0]))\n",
    "        driver.find_elements_by_css_selector('#frmGNB > fieldset > input.btn-submit')[0].click()\n",
    "        driver.find_element_by_css_selector('#body-content > div.search_song > div.search_result_detail > div > table > tbody > tr:nth-child(1) > td.link > a').click()\n",
    "        gen = driver.find_element_by_css_selector('#body-content > div.song-main-infos > div.info-zone > ul > li:nth-child(3) > span.value').text\n",
    "        time = driver.find_element_by_css_selector('#body-content > div.song-main-infos > div.info-zone > ul > li:nth-child(4) > span.value').text\n",
    "        if ':' in time:\n",
    "            pass\n",
    "        else:\n",
    "            time = driver.find_element_by_css_selector('#body-content > div.song-main-infos > div.info-zone > ul > li:nth-child(5) > span.value').text\n",
    "            gen = driver.find_element_by_css_selector('#body-content > div.song-main-infos > div.info-zone > ul > li:nth-child(4) > span.value').text\n",
    "        genre.append(gen)\n",
    "        runtime.append(time)\n",
    "        elem = driver.find_element_by_id('sc-fd')\n",
    "        elem.clear()\n",
    "        elem.send_keys('{0}'.format(j[0]))\n",
    "        driver.find_elements_by_css_selector('#frmGNB > fieldset > input.btn-submit')[0].click()\n",
    "        driver.find_elements_by_css_selector('#body-content > div.search_song > div.search_result_detail > div > table > tbody > tr:nth-child(1) > td.info > a.artist.ellipsis')[0].click()\n",
    "        activity_type = driver.find_elements_by_css_selector('#body-content > div.artist-main-infos > div.info-zone > ul > li:nth-child(1) > span.value')[0].text.split('/')\n",
    "        sex.append(activity_type[0])\n",
    "        active_type.append(activity_type[1])\n"
   ]
  },
  {
   "cell_type": "markdown",
   "metadata": {},
   "source": [
    "# 멜론 좋아요 뽑기"
   ]
  },
  {
   "cell_type": "code",
   "execution_count": 45,
   "metadata": {},
   "outputs": [],
   "source": [
    "driver.get('https://www.melon.com/search/total/index.htm?q=%EC%82%AC%EB%9E%91%EC%97%90+%EC%97%B0%EC%8A%B5%EC%9D%B4+%EC%9E%88%EC%97%88%EB%8B%A4%EB%A9%B4&section=&linkOrText=T&ipath=srch_form')"
   ]
  },
  {
   "cell_type": "code",
   "execution_count": 46,
   "metadata": {},
   "outputs": [],
   "source": [
    "likes = []"
   ]
  },
  {
   "cell_type": "code",
   "execution_count": null,
   "metadata": {},
   "outputs": [],
   "source": [
    "# 중간에 계속 팅기는 문제 발생. \n",
    "for i,j in zip(artists, names):\n",
    "    try:\n",
    "        elem = driver.find_element_by_id('top_search')\n",
    "        elem.clear()\n",
    "        elem.send_keys('{0} {1}'.format(i,j))\n",
    "        driver.find_element_by_css_selector('#header_wrap > div.wrap_search_field > fieldset > button.btn_icon.search_m > span').click()\n",
    "        like = int(driver.find_element_by_css_selector('#frm_songList > div > table > tbody > tr:nth-child(1) > td:nth-child(6) > div > button > span.cnt').text.replace(',',''))\n",
    "        likes.append(like)\n",
    "    except:\n",
    "        j = j.split('(')\n",
    "        elem = driver.find_element_by_id('top_search')\n",
    "        elem.clear()\n",
    "        elem.send_keys('{0}'.format(j[0]))\n",
    "        driver.find_element_by_css_selector('#header_wrap > div.wrap_search_field > fieldset > button.btn_icon.search_m > span').click()\n",
    "        like = int(driver.find_element_by_css_selector('#frm_searchSong > div > table > tbody > tr:nth-child(1) > td:nth-child(6) > div > button > span.cnt').text.replace(',',''))\n",
    "        likes.append(like)"
   ]
  },
  {
   "cell_type": "code",
   "execution_count": 92,
   "metadata": {},
   "outputs": [],
   "source": [
    "data_frame['sex'] = sex\n",
    "data_frame['active_type'] = active_type"
   ]
  },
  {
   "cell_type": "code",
   "execution_count": 91,
   "metadata": {},
   "outputs": [],
   "source": [
    "data.to_csv('test.csv')"
   ]
  },
  {
   "cell_type": "code",
   "execution_count": null,
   "metadata": {},
   "outputs": [],
   "source": []
  }
 ],
 "metadata": {
  "kernelspec": {
   "display_name": "Python 3",
   "language": "python",
   "name": "python3"
  },
  "language_info": {
   "codemirror_mode": {
    "name": "ipython",
    "version": 3
   },
   "file_extension": ".py",
   "mimetype": "text/x-python",
   "name": "python",
   "nbconvert_exporter": "python",
   "pygments_lexer": "ipython3",
   "version": "3.7.4"
  }
 },
 "nbformat": 4,
 "nbformat_minor": 2
}
