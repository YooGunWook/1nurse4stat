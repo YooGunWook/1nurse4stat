{
 "cells": [
  {
   "cell_type": "code",
   "execution_count": 33,
   "metadata": {},
   "outputs": [],
   "source": [
    "from bs4 import BeautifulSoup\n",
    "\n",
    "import pandas as pd\n",
    "import urllib\n",
    "import requests"
   ]
  },
  {
   "cell_type": "code",
   "execution_count": 147,
   "metadata": {},
   "outputs": [],
   "source": [
    "id = \"ohmygirl\"\n",
    "numb = 1000"
   ]
  },
  {
   "cell_type": "code",
   "execution_count": 148,
   "metadata": {},
   "outputs": [],
   "source": [
    "soup = []\n",
    "dc = []\n",
    "date = []\n",
    "view = []\n",
    "recmd = []"
   ]
  },
  {
   "cell_type": "code",
   "execution_count": 149,
   "metadata": {},
   "outputs": [],
   "source": [
    "# 반복 테스트\n",
    "for i2 in range(numb) :\n",
    "    base_url = \"https://gall.dcinside.com/board/lists\"\n",
    "    \n",
    "    # 파라미터 설정\n",
    "    params = {'id': id,'page':i2}\n",
    "    \n",
    "    # 헤더 설정\n",
    "    headers = {'User-Agent' :'*' }\n",
    "    \n",
    "    resp = requests.get(BASE_URL, params=params, headers=headers)\n",
    "    \n",
    "    soup = BeautifulSoup(resp.content, 'html.parser')\n",
    "    \n",
    "    contents = soup.find('tbody').find_all('tr', {\"class\":\"ub-content us-post\"})\n",
    "    \n",
    "    for i in contents:\n",
    "        \n",
    "        #if(i.find(\"a\", {\"class\":\"ub-content us-post\"})):\n",
    "            # 제목 추출\n",
    "            # title_tag = i.find('a')\n",
    "            # title = title_tag.text\n",
    "            # print(\"제목: \", title)\n",
    "            \n",
    "            # 날짜 추출 \n",
    "            date_tag = i.find('td', class_='gall_date')\n",
    "            date_dict = date_tag.attrs\n",
    "            \n",
    "            if len(date_dict) is 2:\n",
    "                date.append(date_dict['title'])\n",
    "            \n",
    "            else:\n",
    "                date.append(date_tag.text)\n",
    "                pass\n",
    "            \n",
    "            # 조회 수 추출\n",
    "            views_tag = i.find('td', class_='gall_count')\n",
    "            view.append(views_tag.text)\n",
    "            \n",
    "            # 추천 수 추출\n",
    "            recommend_tag = i.find('td', class_='gall_recommend')\n",
    "            recmd.append(recommend_tag.text)\n",
    "\n"
   ]
  },
  {
   "cell_type": "code",
   "execution_count": 150,
   "metadata": {},
   "outputs": [],
   "source": [
    "data_frame = pd.DataFrame(dc)\n",
    "data_frame['date'] = date\n",
    "data_frame['views'] = view\n",
    "data_frame['recommend'] = recmd"
   ]
  },
  {
   "cell_type": "code",
   "execution_count": 146,
   "metadata": {},
   "outputs": [
    {
     "data": {
      "text/html": [
       "<div>\n",
       "<style scoped>\n",
       "    .dataframe tbody tr th:only-of-type {\n",
       "        vertical-align: middle;\n",
       "    }\n",
       "\n",
       "    .dataframe tbody tr th {\n",
       "        vertical-align: top;\n",
       "    }\n",
       "\n",
       "    .dataframe thead th {\n",
       "        text-align: right;\n",
       "    }\n",
       "</style>\n",
       "<table border=\"1\" class=\"dataframe\">\n",
       "  <thead>\n",
       "    <tr style=\"text-align: right;\">\n",
       "      <th></th>\n",
       "      <th>date</th>\n",
       "      <th>views</th>\n",
       "      <th>recommend</th>\n",
       "    </tr>\n",
       "  </thead>\n",
       "  <tbody>\n",
       "    <tr>\n",
       "      <th>0</th>\n",
       "      <td>2018-12-03 00:12:16</td>\n",
       "      <td>25797</td>\n",
       "      <td>152</td>\n",
       "    </tr>\n",
       "    <tr>\n",
       "      <th>1</th>\n",
       "      <td>2017-10-23 20:30:38</td>\n",
       "      <td>15581</td>\n",
       "      <td>159</td>\n",
       "    </tr>\n",
       "    <tr>\n",
       "      <th>2</th>\n",
       "      <td>2020-04-28 21:34:29</td>\n",
       "      <td>32</td>\n",
       "      <td>0</td>\n",
       "    </tr>\n",
       "    <tr>\n",
       "      <th>3</th>\n",
       "      <td>2020-04-28 21:33:22</td>\n",
       "      <td>18</td>\n",
       "      <td>0</td>\n",
       "    </tr>\n",
       "    <tr>\n",
       "      <th>4</th>\n",
       "      <td>2020-04-28 21:31:46</td>\n",
       "      <td>52</td>\n",
       "      <td>0</td>\n",
       "    </tr>\n",
       "    <tr>\n",
       "      <th>...</th>\n",
       "      <td>...</td>\n",
       "      <td>...</td>\n",
       "      <td>...</td>\n",
       "    </tr>\n",
       "    <tr>\n",
       "      <th>243</th>\n",
       "      <td>2020-04-28 18:52:00</td>\n",
       "      <td>31</td>\n",
       "      <td>0</td>\n",
       "    </tr>\n",
       "    <tr>\n",
       "      <th>244</th>\n",
       "      <td>2020-04-28 18:50:23</td>\n",
       "      <td>57</td>\n",
       "      <td>1</td>\n",
       "    </tr>\n",
       "    <tr>\n",
       "      <th>245</th>\n",
       "      <td>2020-04-28 18:49:24</td>\n",
       "      <td>191</td>\n",
       "      <td>0</td>\n",
       "    </tr>\n",
       "    <tr>\n",
       "      <th>246</th>\n",
       "      <td>2020-04-28 18:48:10</td>\n",
       "      <td>183</td>\n",
       "      <td>0</td>\n",
       "    </tr>\n",
       "    <tr>\n",
       "      <th>247</th>\n",
       "      <td>2020-04-28 18:47:58</td>\n",
       "      <td>50</td>\n",
       "      <td>0</td>\n",
       "    </tr>\n",
       "  </tbody>\n",
       "</table>\n",
       "<p>248 rows × 3 columns</p>\n",
       "</div>"
      ],
      "text/plain": [
       "                    date  views recommend\n",
       "0    2018-12-03 00:12:16  25797       152\n",
       "1    2017-10-23 20:30:38  15581       159\n",
       "2    2020-04-28 21:34:29     32         0\n",
       "3    2020-04-28 21:33:22     18         0\n",
       "4    2020-04-28 21:31:46     52         0\n",
       "..                   ...    ...       ...\n",
       "243  2020-04-28 18:52:00     31         0\n",
       "244  2020-04-28 18:50:23     57         1\n",
       "245  2020-04-28 18:49:24    191         0\n",
       "246  2020-04-28 18:48:10    183         0\n",
       "247  2020-04-28 18:47:58     50         0\n",
       "\n",
       "[248 rows x 3 columns]"
      ]
     },
     "execution_count": 146,
     "metadata": {},
     "output_type": "execute_result"
    }
   ],
   "source": [
    "data_frame"
   ]
  },
  {
   "cell_type": "code",
   "execution_count": 151,
   "metadata": {},
   "outputs": [],
   "source": [
    "data_frame.to_csv('D:/chungpa/google drive/R/desaip/' + id + '.csv')"
   ]
  },
  {
   "cell_type": "code",
   "execution_count": null,
   "metadata": {},
   "outputs": [],
   "source": [
    "# 참고 : https://chicken-nlp.tistory.com/4\n",
    "# https://m.blog.naver.com/93immm/220913972848\n",
    "# 건욱형 한거\n",
    "# 강씨"
   ]
  }
 ],
 "metadata": {
  "kernelspec": {
   "display_name": "Python 3",
   "language": "python",
   "name": "python3"
  },
  "language_info": {
   "codemirror_mode": {
    "name": "ipython",
    "version": 3
   },
   "file_extension": ".py",
   "mimetype": "text/x-python",
   "name": "python",
   "nbconvert_exporter": "python",
   "pygments_lexer": "ipython3",
   "version": "3.7.6"
  }
 },
 "nbformat": 4,
 "nbformat_minor": 4
}
