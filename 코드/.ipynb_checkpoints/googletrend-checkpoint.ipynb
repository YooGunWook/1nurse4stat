{
 "cells": [
  {
   "cell_type": "code",
   "execution_count": 22,
   "metadata": {},
   "outputs": [],
   "source": [
    "from pytrends.request import TrendReq\n",
    "import pytrends.request import\n",
    "import pandas as pd"
   ]
  },
  {
   "cell_type": "code",
   "execution_count": 75,
   "metadata": {},
   "outputs": [
    {
     "data": {
      "text/plain": [
       "range(0, 4)"
      ]
     },
     "execution_count": 75,
     "metadata": {},
     "output_type": "execute_result"
    }
   ],
   "source": [
    "singername = ['에이핑크', '조정석', '엠씨더맥스', '가호']\n",
    "singername[1]\n",
    "len(singername)\n",
    "range(0, len(singername))"
   ]
  },
  {
   "cell_type": "code",
   "execution_count": 104,
   "metadata": {},
   "outputs": [],
   "source": [
    "singertrenddf = pd.DataFrame()\n",
    "for i in range(0, len(singername)):\n",
    "    keyword = singername[i]\n",
    "    pytrend = TrendReq(tz = 480, geo='KR')\n",
    "\n",
    "    pytrend.build_payload(kw_list=[keyword], timeframe='today 5-y', geo=\"KR\")\n",
    "\n",
    "    singertrendtemp = pytrend.interest_over_time()\n",
    "\n",
    "    singertrenddf = singertrenddf.append(singertrendtemp.iloc[:, 0])"
   ]
  },
  {
   "cell_type": "code",
   "execution_count": 108,
   "metadata": {},
   "outputs": [],
   "source": [
    "singertrenddf.to_csv(\"singer.csv\", mode = 'w', encoding = 'utf-8-sig')"
   ]
  }
 ],
 "metadata": {
  "kernelspec": {
   "display_name": "Python 3",
   "language": "python",
   "name": "python3"
  },
  "language_info": {
   "codemirror_mode": {
    "name": "ipython",
    "version": 3
   },
   "file_extension": ".py",
   "mimetype": "text/x-python",
   "name": "python",
   "nbconvert_exporter": "python",
   "pygments_lexer": "ipython3",
   "version": "3.7.6"
  }
 },
 "nbformat": 4,
 "nbformat_minor": 4
}
