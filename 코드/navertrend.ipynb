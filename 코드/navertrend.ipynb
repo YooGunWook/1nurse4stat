{
 "cells": [
  {
   "cell_type": "code",
   "execution_count": 13,
   "metadata": {},
   "outputs": [],
   "source": [
    "import numpy as np\n",
    "import pandas as pd\n",
    "from bs4 import BeautifulSoup\n",
    "import urllib\n",
    "from urllib import request\n",
    "import re\n",
    "import json"
   ]
  },
  {
   "cell_type": "code",
   "execution_count": 14,
   "metadata": {},
   "outputs": [],
   "source": [
    "import datetime"
   ]
  },
  {
   "cell_type": "code",
   "execution_count": 15,
   "metadata": {},
   "outputs": [],
   "source": [
    "data = pd.read_csv(\"C:/Users/dhxog/yonsei/2019.06~2019.csv\")\n",
    "singer = data[\"singer\"]\n",
    "singername = list()\n",
    "for i in np.arange(len(singer)):\n",
    "    singername.append(singer[i])\n",
    "temp = set(singername)\n",
    "temp = list(temp)\n",
    "singer = list()\n",
    "for i in np.arange(len(temp)):\n",
    "    singer = singer + temp[i].split(\",\")\n",
    "m = re.compile(\".+(?=\\()\")    \n",
    "singername = list()\n",
    "for i in np.arange(len(singer)):\n",
    "    t = m.search(singer[i])\n",
    "    if t == None:\n",
    "        singername.append(singer[i])\n",
    "    else:\n",
    "        singername.append(t.group())\n",
    "singer = list()\n",
    "for i in np.arange(len(singername)):\n",
    "    singer.append(singername[i].strip())\n",
    "\n",
    "temp = set(singer)\n",
    "singer = list(temp)"
   ]
  },
  {
   "cell_type": "code",
   "execution_count": 16,
   "metadata": {},
   "outputs": [],
   "source": [
    "client_id = \"RLpoOMH7S702D1xpvVfA\"\n",
    "client_secret = \"oryFHc9biO\"\n",
    "url = \"https://openapi.naver.com/v1/datalab/search\";"
   ]
  },
  {
   "cell_type": "code",
   "execution_count": 17,
   "metadata": {},
   "outputs": [],
   "source": [
    "request = urllib.request.Request(url)\n",
    "request.add_header(\"X-Naver-Client-Id\",client_id)\n",
    "request.add_header(\"X-Naver-Client-Secret\",client_secret)\n",
    "request.add_header(\"Content-Type\",\"application/json\")"
   ]
  },
  {
   "cell_type": "code",
   "execution_count": 18,
   "metadata": {},
   "outputs": [],
   "source": [
    "keywords = singer"
   ]
  },
  {
   "cell_type": "code",
   "execution_count": 19,
   "metadata": {},
   "outputs": [
    {
     "data": {
      "text/plain": [
       "338"
      ]
     },
     "execution_count": 19,
     "metadata": {},
     "output_type": "execute_result"
    }
   ],
   "source": [
    "len(singer)"
   ]
  },
  {
   "cell_type": "code",
   "execution_count": 21,
   "metadata": {},
   "outputs": [],
   "source": [
    "navertrend = pd.DataFrame()\n",
    "indexlist = list()\n",
    "for i in np.arange(0, len(keywords)):\n",
    "\n",
    "    bodytext = {\"startDate\":\"2019-06-01\",\n",
    "            \"endDate\":\"2019-12-31\",\n",
    "            \"timeUnit\":\"week\",\n",
    "            \"keywordGroups\":[{\"groupName\":\"{}\".format(keywords[i]),\n",
    "                              \"keywords\": [\"{}\".format(keywords[i])]}]\n",
    "                             }\n",
    "\n",
    "    body = json.dumps(bodytext,ensure_ascii = False )\n",
    "    response = urllib.request.urlopen(request, data=body.encode(\"utf-8\"))\n",
    "    rescode = response.getcode()\n",
    "    if(rescode==200):\n",
    "        response_body = response.read()\n",
    "        scraped = response_body.decode('utf-8')\n",
    "    else:\n",
    "            print(\"Error Code:\" + rescode)\n",
    "    result = json.loads(scraped)\n",
    "    data = result[\"results\"][0][\"data\"]\n",
    "    time = list(i[\"period\"] for i in data)\n",
    "    value = pd.DataFrame(i[\"ratio\"] for i in data)\n",
    "    \n",
    "    # 실행이 되는 index만 뽑아준다\n",
    "    if str(value) != 'Empty DataFrame\\nColumns: []\\nIndex: []':\n",
    "        indexlist = indexlist + [keywords[i]]\n",
    "    \n",
    "    \n",
    "    navertrend = navertrend.append(np.transpose(value))\n",
    "    "
   ]
  },
  {
   "cell_type": "code",
   "execution_count": 22,
   "metadata": {},
   "outputs": [],
   "source": [
    "navertrend.columns = time\n",
    "navertrend.index = indexlist"
   ]
  },
  {
   "cell_type": "code",
   "execution_count": 28,
   "metadata": {
    "scrolled": true
   },
   "outputs": [],
   "source": [
    "navertrend = navertrend.transpose()"
   ]
  },
  {
   "cell_type": "code",
   "execution_count": 29,
   "metadata": {},
   "outputs": [],
   "source": [
    "navertrend.to_csv(\"navertrend.csv\", mode = 'w', encoding = 'utf-8-sig')"
   ]
  }
 ],
 "metadata": {
  "kernelspec": {
   "display_name": "Python 3",
   "language": "python",
   "name": "python3"
  },
  "language_info": {
   "codemirror_mode": {
    "name": "ipython",
    "version": 3
   },
   "file_extension": ".py",
   "mimetype": "text/x-python",
   "name": "python",
   "nbconvert_exporter": "python",
   "pygments_lexer": "ipython3",
   "version": "3.7.6"
  }
 },
 "nbformat": 4,
 "nbformat_minor": 4
}
