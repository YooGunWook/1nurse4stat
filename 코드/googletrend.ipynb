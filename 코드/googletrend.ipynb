{
 "cells": [
  {
   "cell_type": "code",
   "execution_count": 1,
   "metadata": {},
   "outputs": [
    {
     "name": "stdout",
     "output_type": "stream",
     "text": [
      "Collecting pytrends\n",
      "  Downloading pytrends-4.7.2.tar.gz (17 kB)\n",
      "Requirement already satisfied: requests in c:\\users\\dhxog\\anaconda3\\lib\\site-packages (from pytrends) (2.22.0)\n",
      "Requirement already satisfied: pandas in c:\\users\\dhxog\\anaconda3\\lib\\site-packages (from pytrends) (1.0.1)\n",
      "Requirement already satisfied: lxml in c:\\users\\dhxog\\anaconda3\\lib\\site-packages (from pytrends) (4.5.0)\n",
      "Requirement already satisfied: certifi>=2017.4.17 in c:\\users\\dhxog\\anaconda3\\lib\\site-packages (from requests->pytrends) (2019.11.28)\n",
      "Requirement already satisfied: chardet<3.1.0,>=3.0.2 in c:\\users\\dhxog\\anaconda3\\lib\\site-packages (from requests->pytrends) (3.0.4)\n",
      "Requirement already satisfied: idna<2.9,>=2.5 in c:\\users\\dhxog\\anaconda3\\lib\\site-packages (from requests->pytrends) (2.8)\n",
      "Requirement already satisfied: urllib3!=1.25.0,!=1.25.1,<1.26,>=1.21.1 in c:\\users\\dhxog\\anaconda3\\lib\\site-packages (from requests->pytrends) (1.25.8)\n",
      "Requirement already satisfied: python-dateutil>=2.6.1 in c:\\users\\dhxog\\anaconda3\\lib\\site-packages (from pandas->pytrends) (2.8.1)\n",
      "Requirement already satisfied: pytz>=2017.2 in c:\\users\\dhxog\\anaconda3\\lib\\site-packages (from pandas->pytrends) (2019.3)\n",
      "Requirement already satisfied: numpy>=1.13.3 in c:\\users\\dhxog\\anaconda3\\lib\\site-packages (from pandas->pytrends) (1.18.1)\n",
      "Requirement already satisfied: six>=1.5 in c:\\users\\dhxog\\anaconda3\\lib\\site-packages (from python-dateutil>=2.6.1->pandas->pytrends) (1.14.0)\n",
      "Building wheels for collected packages: pytrends\n",
      "  Building wheel for pytrends (setup.py): started\n",
      "  Building wheel for pytrends (setup.py): finished with status 'done'\n",
      "  Created wheel for pytrends: filename=pytrends-4.7.2-py3-none-any.whl size=14265 sha256=b08411ecedfe429ccabd849f1936b5c03e6a544b8fc316f4d8c6474aebe9f427\n",
      "  Stored in directory: c:\\users\\dhxog\\appdata\\local\\pip\\cache\\wheels\\58\\87\\76\\aae69ce81a925e574db418628ebbe184387c1e67320697511c\n",
      "Successfully built pytrends\n",
      "Installing collected packages: pytrends\n",
      "Successfully installed pytrends-4.7.2\n",
      "Note: you may need to restart the kernel to use updated packages.\n"
     ]
    }
   ],
   "source": [
    "pip install pytrends"
   ]
  },
  {
   "cell_type": "code",
   "execution_count": 22,
   "metadata": {},
   "outputs": [],
   "source": [
    "from pytrends.request import TrendReq\n",
    "import pytrends.request import\n",
    "import pandas as pd"
   ]
  },
  {
   "cell_type": "code",
   "execution_count": 75,
   "metadata": {},
   "outputs": [
    {
     "data": {
      "text/plain": [
       "range(0, 4)"
      ]
     },
     "execution_count": 75,
     "metadata": {},
     "output_type": "execute_result"
    }
   ],
   "source": [
    "singername = ['에이핑크', '조정석', '엠씨더맥스', '가호']\n",
    "singername[1]\n",
    "len(singername)\n",
    "range(0, len(singername))"
   ]
  },
  {
   "cell_type": "code",
   "execution_count": 104,
   "metadata": {},
   "outputs": [],
   "source": [
    "singertrenddf = pd.DataFrame()\n",
    "for i in range(0, len(singername)):\n",
    "    keyword = singername[i]\n",
    "    pytrend = TrendReq(tz = 480, geo='KR')\n",
    "\n",
    "    pytrend.build_payload(kw_list=[keyword], timeframe='today 5-y', geo=\"KR\")\n",
    "\n",
    "    singertrendtemp = pytrend.interest_over_time()\n",
    "\n",
    "    singertrenddf = singertrenddf.append(singertrendtemp.iloc[:, 0])"
   ]
  },
  {
   "cell_type": "code",
   "execution_count": 108,
   "metadata": {},
   "outputs": [],
   "source": [
    "singertrenddf.to_csv(\"singer.csv\", mode = 'w', encoding = 'utf-8-sig')"
   ]
  }
 ],
 "metadata": {
  "kernelspec": {
   "display_name": "Python 3",
   "language": "python",
   "name": "python3"
  },
  "language_info": {
   "codemirror_mode": {
    "name": "ipython",
    "version": 3
   },
   "file_extension": ".py",
   "mimetype": "text/x-python",
   "name": "python",
   "nbconvert_exporter": "python",
   "pygments_lexer": "ipython3",
   "version": "3.7.6"
  }
 },
 "nbformat": 4,
 "nbformat_minor": 4
}
