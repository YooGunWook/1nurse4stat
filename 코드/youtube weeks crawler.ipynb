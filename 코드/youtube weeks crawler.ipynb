{
 "cells": [
  {
   "cell_type": "markdown",
   "metadata": {},
   "source": [
    "# 참고사이트 :\n",
    "[Python Basic](https://woolbro.tistory.com/35)"
   ]
  },
  {
   "cell_type": "code",
   "execution_count": 5,
   "metadata": {},
   "outputs": [],
   "source": [
    "import csv"
   ]
  },
  {
   "cell_type": "code",
   "execution_count": 6,
   "metadata": {},
   "outputs": [
    {
     "name": "stdout",
     "output_type": "stream",
     "text": [
      "<_csv.reader object at 0x000001CE6D758A70>\n",
      "<class '_csv.reader'>\n",
      "['__class__', '__delattr__', '__dir__', '__doc__', '__eq__', '__format__', '__ge__', '__getattribute__', '__gt__', '__hash__', '__init__', '__init_subclass__', '__iter__', '__le__', '__lt__', '__ne__', '__new__', '__next__', '__reduce__', '__reduce_ex__', '__repr__', '__setattr__', '__sizeof__', '__str__', '__subclasshook__', 'dialect', 'line_num']\n"
     ]
    }
   ],
   "source": [
    "with open('C:/Users/user/Desktop/Goat/python/Desaip/weekday.csv','r') as f:\n",
    "    reader = csv.reader(f)\n",
    "    print(reader)\n",
    "    print(type(reader))\n",
    "    print(dir(reader))"
   ]
  },
  {
   "cell_type": "code",
   "execution_count": 7,
   "metadata": {},
   "outputs": [],
   "source": [
    " with open('C:/Users/user/Desktop/Goat/python/Desaip/weekday.csv','r') as f:\n",
    "    reader = csv.reader(f)   \n",
    "    weeks = list(reader)"
   ]
  },
  {
   "cell_type": "code",
   "execution_count": 8,
   "metadata": {},
   "outputs": [],
   "source": [
    "weeks=[]\n",
    "f=open('C:/Users/user/Desktop/Goat/python/Desaip/weekday.csv','r')\n",
    "reader=csv.reader(f)\n",
    "for row in reader:\n",
    "    weeks.append(row[0])"
   ]
  },
  {
   "cell_type": "code",
   "execution_count": 11,
   "metadata": {},
   "outputs": [],
   "source": [
    "urls=[]\n",
    "for i in range(0,len(weeks)):\n",
    "    urls.append('https://charts.youtube.com/charts/TopVideos/kr/'+str(weeks[i])+'?hl=ko')"
   ]
  },
  {
   "cell_type": "code",
   "execution_count": 12,
   "metadata": {},
   "outputs": [],
   "source": [
    "from selenium import webdriver\n",
    "from selenium.webdriver.common.keys import Keys\n",
    "from bs4 import BeautifulSoup"
   ]
  },
  {
   "cell_type": "code",
   "execution_count": 15,
   "metadata": {},
   "outputs": [
    {
     "ename": "TypeError",
     "evalue": "'builtin_function_or_method' object is not subscriptable",
     "output_type": "error",
     "traceback": [
      "\u001b[1;31m---------------------------------------------------------------------------\u001b[0m",
      "\u001b[1;31mTypeError\u001b[0m                                 Traceback (most recent call last)",
      "\u001b[1;32m<ipython-input-15-3af820169bfd>\u001b[0m in \u001b[0;36m<module>\u001b[1;34m\u001b[0m\n\u001b[0;32m      1\u001b[0m \u001b[0mdriver\u001b[0m \u001b[1;33m=\u001b[0m \u001b[0mwebdriver\u001b[0m\u001b[1;33m.\u001b[0m\u001b[0mChrome\u001b[0m\u001b[1;33m(\u001b[0m\u001b[1;34m'C:/chromedriver_win32/chromedriver.exe'\u001b[0m\u001b[1;33m)\u001b[0m\u001b[1;33m\u001b[0m\u001b[1;33m\u001b[0m\u001b[0m\n\u001b[1;32m----> 2\u001b[1;33m \u001b[1;32mfor\u001b[0m \u001b[0mi\u001b[0m \u001b[1;32min\u001b[0m \u001b[0mrange\u001b[0m\u001b[1;33m(\u001b[0m\u001b[1;36m0\u001b[0m\u001b[1;33m,\u001b[0m\u001b[0mlen\u001b[0m\u001b[1;33m[\u001b[0m\u001b[0murls\u001b[0m\u001b[1;33m]\u001b[0m\u001b[1;33m)\u001b[0m\u001b[1;33m:\u001b[0m\u001b[1;33m\u001b[0m\u001b[1;33m\u001b[0m\u001b[0m\n\u001b[0m\u001b[0;32m      3\u001b[0m     \u001b[0mdriver\u001b[0m\u001b[1;33m.\u001b[0m\u001b[0mget\u001b[0m\u001b[1;33m(\u001b[0m\u001b[0murls\u001b[0m\u001b[1;33m[\u001b[0m\u001b[0mi\u001b[0m\u001b[1;33m]\u001b[0m\u001b[1;33m)\u001b[0m\u001b[1;33m\u001b[0m\u001b[1;33m\u001b[0m\u001b[0m\n\u001b[0;32m      4\u001b[0m     \u001b[0mpage\u001b[0m \u001b[1;33m=\u001b[0m \u001b[0mdriver\u001b[0m\u001b[1;33m.\u001b[0m\u001b[0mpage_source\u001b[0m\u001b[1;33m\u001b[0m\u001b[1;33m\u001b[0m\u001b[0m\n\u001b[0;32m      5\u001b[0m \u001b[1;33m\u001b[0m\u001b[0m\n",
      "\u001b[1;31mTypeError\u001b[0m: 'builtin_function_or_method' object is not subscriptable"
     ]
    }
   ],
   "source": [
    "driver = webdriver.Chrome('C:/chromedriver_win32/chromedriver.exe')\n",
    "for i in range(0,len[urls]):\n",
    "    driver.get(urls[i])\n",
    "    page = driver.page_source\n",
    "    \n",
    "    soup = BeautifulSoup(page,'lxml')\n",
    "    all_title = soup.find_all('span','ytmc-ellipsis-text style-scope')\n",
    "    titles = [soup.find_all('span','ytmc-ellipsis-text style-scope')[n].string for n in range(0,len(all_title))]\n",
    "    titles[0:2]=[]\n",
    "    \n",
    "    channel = titles[1::2]\n",
    "    title = titles[::2]\n",
    "    \n",
    "    c = soup.find_all('span','style-scope ytmc-chart-table')\n",
    "    views =[soup.find_all('span','style-scope ytmc-chart-table')[n].string for n in range(0,len(c))]\n",
    "\n",
    "    n = 4\n",
    "    views_res = [views[i*n:(i+1)*n] for i in\n",
    "                 range((len(views)+n-1) // n)]\n",
    "    \n",
    "    youtube_music_chart = []\n",
    "    \n",
    "    for i in range(0,len(title)):\n",
    "        roww = []\n",
    "        roww.append(str(i+1)+\"위\")\n",
    "        roww.append(titles[i])\n",
    "        roww.append(channel[i])\n",
    "        roww.append(views_res[i][0])\n",
    "        roww.append(views_res[i][1])\n",
    "        roww.append(views_res[i][2])\n",
    "        roww.append(views_res[i][3])\n",
    "        youtube_music_chart.append(roww)\t\t\t#2차원 list로 만들어줌"
   ]
  },
  {
   "cell_type": "code",
   "execution_count": null,
   "metadata": {},
   "outputs": [],
   "source": []
  },
  {
   "cell_type": "code",
   "execution_count": null,
   "metadata": {},
   "outputs": [],
   "source": []
  }
 ],
 "metadata": {
  "kernelspec": {
   "display_name": "Python 3",
   "language": "python",
   "name": "python3"
  },
  "language_info": {
   "codemirror_mode": {
    "name": "ipython",
    "version": 3
   },
   "file_extension": ".py",
   "mimetype": "text/x-python",
   "name": "python",
   "nbconvert_exporter": "python",
   "pygments_lexer": "ipython3",
   "version": "3.6.10"
  }
 },
 "nbformat": 4,
 "nbformat_minor": 4
}
