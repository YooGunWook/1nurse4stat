{
 "cells": [
  {
   "cell_type": "markdown",
   "metadata": {},
   "source": [
    "# 참고사이트 :\n",
    "[Python Basic](https://woolbro.tistory.com/35)"
   ]
  },
  {
   "cell_type": "code",
   "execution_count": 1,
   "metadata": {},
   "outputs": [],
   "source": [
    "import csv"
   ]
  },
  {
   "cell_type": "code",
   "execution_count": 2,
   "metadata": {},
   "outputs": [
    {
     "name": "stdout",
     "output_type": "stream",
     "text": [
      "<_csv.reader object at 0x000001A0A4CC7CE0>\n",
      "<class '_csv.reader'>\n",
      "['__class__', '__delattr__', '__dir__', '__doc__', '__eq__', '__format__', '__ge__', '__getattribute__', '__gt__', '__hash__', '__init__', '__init_subclass__', '__iter__', '__le__', '__lt__', '__ne__', '__new__', '__next__', '__reduce__', '__reduce_ex__', '__repr__', '__setattr__', '__sizeof__', '__str__', '__subclasshook__', 'dialect', 'line_num']\n"
     ]
    }
   ],
   "source": [
    "with open('C:/Users/user/Desktop/Goat/python/Desaip/weekday.csv','r') as f:\n",
    "    reader = csv.reader(f)\n",
    "    print(reader)\n",
    "    print(type(reader))\n",
    "    print(dir(reader))"
   ]
  },
  {
   "cell_type": "code",
   "execution_count": 3,
   "metadata": {},
   "outputs": [],
   "source": [
    " with open('C:/Users/user/Desktop/Goat/python/Desaip/weekday.csv','r') as f:\n",
    "    reader = csv.reader(f)   \n",
    "    weeks = list(reader)"
   ]
  },
  {
   "cell_type": "code",
   "execution_count": 4,
   "metadata": {},
   "outputs": [],
   "source": [
    "weeks=[]\n",
    "f=open('C:/Users/user/Desktop/Goat/python/Desaip/weekday.csv','r')\n",
    "reader=csv.reader(f)\n",
    "for row in reader:\n",
    "    weeks.append(row[0])"
   ]
  },
  {
   "cell_type": "code",
   "execution_count": 5,
   "metadata": {},
   "outputs": [],
   "source": [
    "urls=[]\n",
    "for i in range(0,len(weeks)):\n",
    "    urls.append('https://charts.youtube.com/charts/TopVideos/kr/'+str(weeks[i])+'?hl=ko')"
   ]
  },
  {
   "cell_type": "code",
   "execution_count": 29,
   "metadata": {},
   "outputs": [],
   "source": [
    "from selenium import webdriver\n",
    "from selenium.webdriver.common.keys import Keys\n",
    "from bs4 import BeautifulSoup"
   ]
  },
  {
   "cell_type": "code",
   "execution_count": 32,
   "metadata": {},
   "outputs": [],
   "source": [
    "\n",
    "youtube_week_chart=[]\n",
    "\n",
    "for i in range(0,len(urls)):\n",
    "    driver = webdriver.Chrome('C:/chromedriver_win32/chromedriver.exe')\n",
    "    driver.get(urls[i])\n",
    "    page = driver.page_source\n",
    "    \n",
    "    soup = BeautifulSoup(page,'lxml')\n",
    "    all_title = soup.find_all('span','ytmc-ellipsis-text style-scope')\n",
    "    titles = [soup.find_all('span','ytmc-ellipsis-text style-scope')[n].string for n in range(0,len(all_title))]\n",
    "    titles[0:2]=[]\n",
    "    \n",
    "    channel = titles[1::2]\n",
    "    title = titles[::2]\n",
    "    \n",
    "    c = soup.find_all('span','style-scope ytmc-chart-table')\n",
    "    views =[soup.find_all('span','style-scope ytmc-chart-table')[n].string for n in range(0,len(c))]\n",
    "\n",
    "    n = 4\n",
    "    views_res = [views[j*n:(j+1)*n] for j in\n",
    "                 range((len(views)+n-1) // n)]\n",
    "\n",
    "    music_chart=[]\n",
    "    for k in range(0,len(title)):\n",
    "        roww = []\n",
    "        roww.append(weeks[i])\n",
    "        roww.append(str(k+1)+\"위\")\n",
    "        roww.append(title[k])\n",
    "        roww.append(channel[k])\n",
    "        roww.append(views_res[k][0])\n",
    "        roww.append(views_res[k][1])\n",
    "        roww.append(views_res[k][2])\n",
    "        roww.append(views_res[k][3])\n",
    "        music_chart.append(roww)\t\t\t#2차원 list로 만들어줌\n",
    "\n",
    "    youtube_week_chart.extend(music_chart)"
   ]
  },
  {
   "cell_type": "code",
   "execution_count": 33,
   "metadata": {},
   "outputs": [],
   "source": [
    "csvfile = open(\"C:/Users/user/Desktop/Goat/python/Desaip/week_chart.csv\",\"w\",-1, \"utf-8\",newline='')\n",
    "csvwriter = csv.writer(csvfile)\n",
    "for row in youtube_week_chart:\n",
    "    csvwriter.writerow(row)\n",
    "csvfile.close()"
   ]
  }
 ],
 "metadata": {
  "kernelspec": {
   "display_name": "Python 3",
   "language": "python",
   "name": "python3"
  },
  "language_info": {
   "codemirror_mode": {
    "name": "ipython",
    "version": 3
   },
   "file_extension": ".py",
   "mimetype": "text/x-python",
   "name": "python",
   "nbconvert_exporter": "python",
   "pygments_lexer": "ipython3",
   "version": "3.6.10"
  }
 },
 "nbformat": 4,
 "nbformat_minor": 4
}
